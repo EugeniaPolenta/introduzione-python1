{
 "cells": [
  {
   "cell_type": "markdown",
   "id": "a2a7955f",
   "metadata": {},
   "source": [
    "## Import di librerie per calcolo ed elaborazione avanzata di dati"
   ]
  },
  {
   "cell_type": "code",
   "execution_count": 3,
   "id": "f6288a27",
   "metadata": {},
   "outputs": [],
   "source": [
    "#Pandas è una libreria che permette di trattare database come oggetti\n",
    "import pandas as pd"
   ]
  },
  {
   "cell_type": "code",
   "execution_count": 5,
   "id": "99bcc6b7",
   "metadata": {},
   "outputs": [],
   "source": [
    "#metodo di pd: passando stringa di indirizzo di questo metodo si salvano i dati in una variabile\n",
    "#df abbreviazione di data frame\n",
    "df= pd.read_csv('https://archive.ics.uci.edu/ml/machine-learning-databases/iris/iris.data',\n",
    "               header= None, encoding='utf-8') #header: intestazione del file csv #encoding codifica di default"
   ]
  },
  {
   "cell_type": "code",
   "execution_count": 6,
   "id": "2a6ab9ed",
   "metadata": {},
   "outputs": [
    {
     "data": {
      "text/html": [
       "<div>\n",
       "<style scoped>\n",
       "    .dataframe tbody tr th:only-of-type {\n",
       "        vertical-align: middle;\n",
       "    }\n",
       "\n",
       "    .dataframe tbody tr th {\n",
       "        vertical-align: top;\n",
       "    }\n",
       "\n",
       "    .dataframe thead th {\n",
       "        text-align: right;\n",
       "    }\n",
       "</style>\n",
       "<table border=\"1\" class=\"dataframe\">\n",
       "  <thead>\n",
       "    <tr style=\"text-align: right;\">\n",
       "      <th></th>\n",
       "      <th>0</th>\n",
       "      <th>1</th>\n",
       "      <th>2</th>\n",
       "      <th>3</th>\n",
       "      <th>4</th>\n",
       "    </tr>\n",
       "  </thead>\n",
       "  <tbody>\n",
       "    <tr>\n",
       "      <th>0</th>\n",
       "      <td>5.1</td>\n",
       "      <td>3.5</td>\n",
       "      <td>1.4</td>\n",
       "      <td>0.2</td>\n",
       "      <td>Iris-setosa</td>\n",
       "    </tr>\n",
       "    <tr>\n",
       "      <th>1</th>\n",
       "      <td>4.9</td>\n",
       "      <td>3.0</td>\n",
       "      <td>1.4</td>\n",
       "      <td>0.2</td>\n",
       "      <td>Iris-setosa</td>\n",
       "    </tr>\n",
       "    <tr>\n",
       "      <th>2</th>\n",
       "      <td>4.7</td>\n",
       "      <td>3.2</td>\n",
       "      <td>1.3</td>\n",
       "      <td>0.2</td>\n",
       "      <td>Iris-setosa</td>\n",
       "    </tr>\n",
       "    <tr>\n",
       "      <th>3</th>\n",
       "      <td>4.6</td>\n",
       "      <td>3.1</td>\n",
       "      <td>1.5</td>\n",
       "      <td>0.2</td>\n",
       "      <td>Iris-setosa</td>\n",
       "    </tr>\n",
       "    <tr>\n",
       "      <th>4</th>\n",
       "      <td>5.0</td>\n",
       "      <td>3.6</td>\n",
       "      <td>1.4</td>\n",
       "      <td>0.2</td>\n",
       "      <td>Iris-setosa</td>\n",
       "    </tr>\n",
       "  </tbody>\n",
       "</table>\n",
       "</div>"
      ],
      "text/plain": [
       "     0    1    2    3            4\n",
       "0  5.1  3.5  1.4  0.2  Iris-setosa\n",
       "1  4.9  3.0  1.4  0.2  Iris-setosa\n",
       "2  4.7  3.2  1.3  0.2  Iris-setosa\n",
       "3  4.6  3.1  1.5  0.2  Iris-setosa\n",
       "4  5.0  3.6  1.4  0.2  Iris-setosa"
      ]
     },
     "execution_count": 6,
     "metadata": {},
     "output_type": "execute_result"
    }
   ],
   "source": [
    "df.head() #la testa del dataframe che abbiamo importato dentro python"
   ]
  },
  {
   "cell_type": "code",
   "execution_count": 8,
   "id": "054e3818",
   "metadata": {},
   "outputs": [
    {
     "data": {
      "text/html": [
       "<div>\n",
       "<style scoped>\n",
       "    .dataframe tbody tr th:only-of-type {\n",
       "        vertical-align: middle;\n",
       "    }\n",
       "\n",
       "    .dataframe tbody tr th {\n",
       "        vertical-align: top;\n",
       "    }\n",
       "\n",
       "    .dataframe thead th {\n",
       "        text-align: right;\n",
       "    }\n",
       "</style>\n",
       "<table border=\"1\" class=\"dataframe\">\n",
       "  <thead>\n",
       "    <tr style=\"text-align: right;\">\n",
       "      <th></th>\n",
       "      <th>0</th>\n",
       "      <th>1</th>\n",
       "      <th>2</th>\n",
       "      <th>3</th>\n",
       "      <th>4</th>\n",
       "    </tr>\n",
       "  </thead>\n",
       "  <tbody>\n",
       "    <tr>\n",
       "      <th>0</th>\n",
       "      <td>5.1</td>\n",
       "      <td>3.5</td>\n",
       "      <td>1.4</td>\n",
       "      <td>0.2</td>\n",
       "      <td>Iris-setosa</td>\n",
       "    </tr>\n",
       "    <tr>\n",
       "      <th>1</th>\n",
       "      <td>4.9</td>\n",
       "      <td>3.0</td>\n",
       "      <td>1.4</td>\n",
       "      <td>0.2</td>\n",
       "      <td>Iris-setosa</td>\n",
       "    </tr>\n",
       "    <tr>\n",
       "      <th>2</th>\n",
       "      <td>4.7</td>\n",
       "      <td>3.2</td>\n",
       "      <td>1.3</td>\n",
       "      <td>0.2</td>\n",
       "      <td>Iris-setosa</td>\n",
       "    </tr>\n",
       "  </tbody>\n",
       "</table>\n",
       "</div>"
      ],
      "text/plain": [
       "     0    1    2    3            4\n",
       "0  5.1  3.5  1.4  0.2  Iris-setosa\n",
       "1  4.9  3.0  1.4  0.2  Iris-setosa\n",
       "2  4.7  3.2  1.3  0.2  Iris-setosa"
      ]
     },
     "execution_count": 8,
     "metadata": {},
     "output_type": "execute_result"
    }
   ],
   "source": [
    "df.head(3) #ci fa vedere i primi 3 valori"
   ]
  },
  {
   "cell_type": "code",
   "execution_count": 9,
   "id": "3b7fcb7a",
   "metadata": {},
   "outputs": [
    {
     "data": {
      "text/html": [
       "<div>\n",
       "<style scoped>\n",
       "    .dataframe tbody tr th:only-of-type {\n",
       "        vertical-align: middle;\n",
       "    }\n",
       "\n",
       "    .dataframe tbody tr th {\n",
       "        vertical-align: top;\n",
       "    }\n",
       "\n",
       "    .dataframe thead th {\n",
       "        text-align: right;\n",
       "    }\n",
       "</style>\n",
       "<table border=\"1\" class=\"dataframe\">\n",
       "  <thead>\n",
       "    <tr style=\"text-align: right;\">\n",
       "      <th></th>\n",
       "      <th>0</th>\n",
       "      <th>1</th>\n",
       "      <th>2</th>\n",
       "      <th>3</th>\n",
       "      <th>4</th>\n",
       "    </tr>\n",
       "  </thead>\n",
       "  <tbody>\n",
       "    <tr>\n",
       "      <th>140</th>\n",
       "      <td>6.7</td>\n",
       "      <td>3.1</td>\n",
       "      <td>5.6</td>\n",
       "      <td>2.4</td>\n",
       "      <td>Iris-virginica</td>\n",
       "    </tr>\n",
       "    <tr>\n",
       "      <th>141</th>\n",
       "      <td>6.9</td>\n",
       "      <td>3.1</td>\n",
       "      <td>5.1</td>\n",
       "      <td>2.3</td>\n",
       "      <td>Iris-virginica</td>\n",
       "    </tr>\n",
       "    <tr>\n",
       "      <th>142</th>\n",
       "      <td>5.8</td>\n",
       "      <td>2.7</td>\n",
       "      <td>5.1</td>\n",
       "      <td>1.9</td>\n",
       "      <td>Iris-virginica</td>\n",
       "    </tr>\n",
       "    <tr>\n",
       "      <th>143</th>\n",
       "      <td>6.8</td>\n",
       "      <td>3.2</td>\n",
       "      <td>5.9</td>\n",
       "      <td>2.3</td>\n",
       "      <td>Iris-virginica</td>\n",
       "    </tr>\n",
       "    <tr>\n",
       "      <th>144</th>\n",
       "      <td>6.7</td>\n",
       "      <td>3.3</td>\n",
       "      <td>5.7</td>\n",
       "      <td>2.5</td>\n",
       "      <td>Iris-virginica</td>\n",
       "    </tr>\n",
       "    <tr>\n",
       "      <th>145</th>\n",
       "      <td>6.7</td>\n",
       "      <td>3.0</td>\n",
       "      <td>5.2</td>\n",
       "      <td>2.3</td>\n",
       "      <td>Iris-virginica</td>\n",
       "    </tr>\n",
       "    <tr>\n",
       "      <th>146</th>\n",
       "      <td>6.3</td>\n",
       "      <td>2.5</td>\n",
       "      <td>5.0</td>\n",
       "      <td>1.9</td>\n",
       "      <td>Iris-virginica</td>\n",
       "    </tr>\n",
       "    <tr>\n",
       "      <th>147</th>\n",
       "      <td>6.5</td>\n",
       "      <td>3.0</td>\n",
       "      <td>5.2</td>\n",
       "      <td>2.0</td>\n",
       "      <td>Iris-virginica</td>\n",
       "    </tr>\n",
       "    <tr>\n",
       "      <th>148</th>\n",
       "      <td>6.2</td>\n",
       "      <td>3.4</td>\n",
       "      <td>5.4</td>\n",
       "      <td>2.3</td>\n",
       "      <td>Iris-virginica</td>\n",
       "    </tr>\n",
       "    <tr>\n",
       "      <th>149</th>\n",
       "      <td>5.9</td>\n",
       "      <td>3.0</td>\n",
       "      <td>5.1</td>\n",
       "      <td>1.8</td>\n",
       "      <td>Iris-virginica</td>\n",
       "    </tr>\n",
       "  </tbody>\n",
       "</table>\n",
       "</div>"
      ],
      "text/plain": [
       "       0    1    2    3               4\n",
       "140  6.7  3.1  5.6  2.4  Iris-virginica\n",
       "141  6.9  3.1  5.1  2.3  Iris-virginica\n",
       "142  5.8  2.7  5.1  1.9  Iris-virginica\n",
       "143  6.8  3.2  5.9  2.3  Iris-virginica\n",
       "144  6.7  3.3  5.7  2.5  Iris-virginica\n",
       "145  6.7  3.0  5.2  2.3  Iris-virginica\n",
       "146  6.3  2.5  5.0  1.9  Iris-virginica\n",
       "147  6.5  3.0  5.2  2.0  Iris-virginica\n",
       "148  6.2  3.4  5.4  2.3  Iris-virginica\n",
       "149  5.9  3.0  5.1  1.8  Iris-virginica"
      ]
     },
     "execution_count": 9,
     "metadata": {},
     "output_type": "execute_result"
    }
   ],
   "source": [
    "df.tail(10) # ci fa vedere gli ultimi 10 valori\n",
    "# le colonne si chiamano 0,1,2,3,4"
   ]
  },
  {
   "cell_type": "code",
   "execution_count": 10,
   "id": "28cee313",
   "metadata": {},
   "outputs": [
    {
     "data": {
      "text/html": [
       "<div>\n",
       "<style scoped>\n",
       "    .dataframe tbody tr th:only-of-type {\n",
       "        vertical-align: middle;\n",
       "    }\n",
       "\n",
       "    .dataframe tbody tr th {\n",
       "        vertical-align: top;\n",
       "    }\n",
       "\n",
       "    .dataframe thead th {\n",
       "        text-align: right;\n",
       "    }\n",
       "</style>\n",
       "<table border=\"1\" class=\"dataframe\">\n",
       "  <thead>\n",
       "    <tr style=\"text-align: right;\">\n",
       "      <th></th>\n",
       "      <th>0</th>\n",
       "      <th>1</th>\n",
       "      <th>2</th>\n",
       "      <th>3</th>\n",
       "      <th>4</th>\n",
       "    </tr>\n",
       "  </thead>\n",
       "  <tbody>\n",
       "    <tr>\n",
       "      <th>0</th>\n",
       "      <td>5.1</td>\n",
       "      <td>3.5</td>\n",
       "      <td>1.4</td>\n",
       "      <td>0.2</td>\n",
       "      <td>Iris-setosa</td>\n",
       "    </tr>\n",
       "    <tr>\n",
       "      <th>1</th>\n",
       "      <td>4.9</td>\n",
       "      <td>3.0</td>\n",
       "      <td>1.4</td>\n",
       "      <td>0.2</td>\n",
       "      <td>Iris-setosa</td>\n",
       "    </tr>\n",
       "    <tr>\n",
       "      <th>2</th>\n",
       "      <td>4.7</td>\n",
       "      <td>3.2</td>\n",
       "      <td>1.3</td>\n",
       "      <td>0.2</td>\n",
       "      <td>Iris-setosa</td>\n",
       "    </tr>\n",
       "    <tr>\n",
       "      <th>3</th>\n",
       "      <td>4.6</td>\n",
       "      <td>3.1</td>\n",
       "      <td>1.5</td>\n",
       "      <td>0.2</td>\n",
       "      <td>Iris-setosa</td>\n",
       "    </tr>\n",
       "    <tr>\n",
       "      <th>4</th>\n",
       "      <td>5.0</td>\n",
       "      <td>3.6</td>\n",
       "      <td>1.4</td>\n",
       "      <td>0.2</td>\n",
       "      <td>Iris-setosa</td>\n",
       "    </tr>\n",
       "    <tr>\n",
       "      <th>...</th>\n",
       "      <td>...</td>\n",
       "      <td>...</td>\n",
       "      <td>...</td>\n",
       "      <td>...</td>\n",
       "      <td>...</td>\n",
       "    </tr>\n",
       "    <tr>\n",
       "      <th>145</th>\n",
       "      <td>6.7</td>\n",
       "      <td>3.0</td>\n",
       "      <td>5.2</td>\n",
       "      <td>2.3</td>\n",
       "      <td>Iris-virginica</td>\n",
       "    </tr>\n",
       "    <tr>\n",
       "      <th>146</th>\n",
       "      <td>6.3</td>\n",
       "      <td>2.5</td>\n",
       "      <td>5.0</td>\n",
       "      <td>1.9</td>\n",
       "      <td>Iris-virginica</td>\n",
       "    </tr>\n",
       "    <tr>\n",
       "      <th>147</th>\n",
       "      <td>6.5</td>\n",
       "      <td>3.0</td>\n",
       "      <td>5.2</td>\n",
       "      <td>2.0</td>\n",
       "      <td>Iris-virginica</td>\n",
       "    </tr>\n",
       "    <tr>\n",
       "      <th>148</th>\n",
       "      <td>6.2</td>\n",
       "      <td>3.4</td>\n",
       "      <td>5.4</td>\n",
       "      <td>2.3</td>\n",
       "      <td>Iris-virginica</td>\n",
       "    </tr>\n",
       "    <tr>\n",
       "      <th>149</th>\n",
       "      <td>5.9</td>\n",
       "      <td>3.0</td>\n",
       "      <td>5.1</td>\n",
       "      <td>1.8</td>\n",
       "      <td>Iris-virginica</td>\n",
       "    </tr>\n",
       "  </tbody>\n",
       "</table>\n",
       "<p>150 rows × 5 columns</p>\n",
       "</div>"
      ],
      "text/plain": [
       "       0    1    2    3               4\n",
       "0    5.1  3.5  1.4  0.2     Iris-setosa\n",
       "1    4.9  3.0  1.4  0.2     Iris-setosa\n",
       "2    4.7  3.2  1.3  0.2     Iris-setosa\n",
       "3    4.6  3.1  1.5  0.2     Iris-setosa\n",
       "4    5.0  3.6  1.4  0.2     Iris-setosa\n",
       "..   ...  ...  ...  ...             ...\n",
       "145  6.7  3.0  5.2  2.3  Iris-virginica\n",
       "146  6.3  2.5  5.0  1.9  Iris-virginica\n",
       "147  6.5  3.0  5.2  2.0  Iris-virginica\n",
       "148  6.2  3.4  5.4  2.3  Iris-virginica\n",
       "149  5.9  3.0  5.1  1.8  Iris-virginica\n",
       "\n",
       "[150 rows x 5 columns]"
      ]
     },
     "execution_count": 10,
     "metadata": {},
     "output_type": "execute_result"
    }
   ],
   "source": [
    "df #descrive un pò i dati"
   ]
  },
  {
   "cell_type": "markdown",
   "id": "74935148",
   "metadata": {},
   "source": [
    "Che cosa contiene il nostro dataset?\n",
    "Contiene dei dati relativi a delle misurazioni effettuate su fiori di Iris.\n",
    "Vediamo nell'ultima colonna: iris setosa, iris multicolor e iris verginica.\n",
    "\n",
    "<img src=\"https://www.embedded-robotics.com/wp-content/uploads/2022/01/Iris-Dataset-Classification.png\" />\n",
    "\n",
    "Nel dataset iris i quattro valori numerici rappresentano le dimensioni lunghezza*larghezza di sepali e petali.\n",
    "\n",
    "Il quinto valore categorico rappresenta il tipo di Iris a scelta tra 'setosa, versicolor, virginica'."
   ]
  },
  {
   "cell_type": "code",
   "execution_count": 12,
   "id": "41f08303",
   "metadata": {},
   "outputs": [
    {
     "data": {
      "text/plain": [
       "0         Iris-setosa\n",
       "1         Iris-setosa\n",
       "2         Iris-setosa\n",
       "3         Iris-setosa\n",
       "4         Iris-setosa\n",
       "            ...      \n",
       "145    Iris-virginica\n",
       "146    Iris-virginica\n",
       "147    Iris-virginica\n",
       "148    Iris-virginica\n",
       "149    Iris-virginica\n",
       "Name: 4, Length: 150, dtype: object"
      ]
     },
     "execution_count": 12,
     "metadata": {},
     "output_type": "execute_result"
    }
   ],
   "source": [
    "#selezioniamo solo il valore categorico\n",
    "df.iloc[0:150, 4] #funzione che mi permette di selezionare basandomi sull'indice: dico prendi dall'indice 0 a 149: ovvero tutte le righe\n",
    "#dopo la virgola metto il numero della colonna: voglio solo la colonna numero 4\n",
    "#ottengo un frame di dati\n",
    "#prendo fino a 150 perché l'ultimo non è compreso"
   ]
  },
  {
   "cell_type": "code",
   "execution_count": 13,
   "id": "0ea83ea7",
   "metadata": {},
   "outputs": [
    {
     "data": {
      "text/html": [
       "<div>\n",
       "<style scoped>\n",
       "    .dataframe tbody tr th:only-of-type {\n",
       "        vertical-align: middle;\n",
       "    }\n",
       "\n",
       "    .dataframe tbody tr th {\n",
       "        vertical-align: top;\n",
       "    }\n",
       "\n",
       "    .dataframe thead th {\n",
       "        text-align: right;\n",
       "    }\n",
       "</style>\n",
       "<table border=\"1\" class=\"dataframe\">\n",
       "  <thead>\n",
       "    <tr style=\"text-align: right;\">\n",
       "      <th></th>\n",
       "      <th>0</th>\n",
       "      <th>4</th>\n",
       "    </tr>\n",
       "  </thead>\n",
       "  <tbody>\n",
       "    <tr>\n",
       "      <th>0</th>\n",
       "      <td>5.1</td>\n",
       "      <td>Iris-setosa</td>\n",
       "    </tr>\n",
       "    <tr>\n",
       "      <th>1</th>\n",
       "      <td>4.9</td>\n",
       "      <td>Iris-setosa</td>\n",
       "    </tr>\n",
       "    <tr>\n",
       "      <th>2</th>\n",
       "      <td>4.7</td>\n",
       "      <td>Iris-setosa</td>\n",
       "    </tr>\n",
       "    <tr>\n",
       "      <th>3</th>\n",
       "      <td>4.6</td>\n",
       "      <td>Iris-setosa</td>\n",
       "    </tr>\n",
       "    <tr>\n",
       "      <th>4</th>\n",
       "      <td>5.0</td>\n",
       "      <td>Iris-setosa</td>\n",
       "    </tr>\n",
       "    <tr>\n",
       "      <th>...</th>\n",
       "      <td>...</td>\n",
       "      <td>...</td>\n",
       "    </tr>\n",
       "    <tr>\n",
       "      <th>95</th>\n",
       "      <td>5.7</td>\n",
       "      <td>Iris-versicolor</td>\n",
       "    </tr>\n",
       "    <tr>\n",
       "      <th>96</th>\n",
       "      <td>5.7</td>\n",
       "      <td>Iris-versicolor</td>\n",
       "    </tr>\n",
       "    <tr>\n",
       "      <th>97</th>\n",
       "      <td>6.2</td>\n",
       "      <td>Iris-versicolor</td>\n",
       "    </tr>\n",
       "    <tr>\n",
       "      <th>98</th>\n",
       "      <td>5.1</td>\n",
       "      <td>Iris-versicolor</td>\n",
       "    </tr>\n",
       "    <tr>\n",
       "      <th>99</th>\n",
       "      <td>5.7</td>\n",
       "      <td>Iris-versicolor</td>\n",
       "    </tr>\n",
       "  </tbody>\n",
       "</table>\n",
       "<p>100 rows × 2 columns</p>\n",
       "</div>"
      ],
      "text/plain": [
       "      0                4\n",
       "0   5.1      Iris-setosa\n",
       "1   4.9      Iris-setosa\n",
       "2   4.7      Iris-setosa\n",
       "3   4.6      Iris-setosa\n",
       "4   5.0      Iris-setosa\n",
       "..  ...              ...\n",
       "95  5.7  Iris-versicolor\n",
       "96  5.7  Iris-versicolor\n",
       "97  6.2  Iris-versicolor\n",
       "98  5.1  Iris-versicolor\n",
       "99  5.7  Iris-versicolor\n",
       "\n",
       "[100 rows x 2 columns]"
      ]
     },
     "execution_count": 13,
     "metadata": {},
     "output_type": "execute_result"
    }
   ],
   "source": [
    "#selezioniamo un sottoinsieme di righe e di colonne\n",
    "df.iloc[0:100, [0,4]] #voglio solo il valore della colonna 0 e della colonna 4 "
   ]
  },
  {
   "cell_type": "code",
   "execution_count": 15,
   "id": "8ffffe3c",
   "metadata": {},
   "outputs": [
    {
     "data": {
      "text/plain": [
       "pandas.core.frame.DataFrame"
      ]
     },
     "execution_count": 15,
     "metadata": {},
     "output_type": "execute_result"
    }
   ],
   "source": [
    "type(df.iloc[0:100, [0, 2, 4]]) #vediamo che questo è un dataframe!"
   ]
  },
  {
   "cell_type": "code",
   "execution_count": 16,
   "id": "417c894b",
   "metadata": {},
   "outputs": [
    {
     "data": {
      "text/plain": [
       "array([[5.1, 'Iris-setosa'],\n",
       "       [4.9, 'Iris-setosa'],\n",
       "       [4.7, 'Iris-setosa'],\n",
       "       [4.6, 'Iris-setosa'],\n",
       "       [5.0, 'Iris-setosa'],\n",
       "       [5.4, 'Iris-setosa'],\n",
       "       [4.6, 'Iris-setosa'],\n",
       "       [5.0, 'Iris-setosa'],\n",
       "       [4.4, 'Iris-setosa'],\n",
       "       [4.9, 'Iris-setosa'],\n",
       "       [5.4, 'Iris-setosa'],\n",
       "       [4.8, 'Iris-setosa'],\n",
       "       [4.8, 'Iris-setosa'],\n",
       "       [4.3, 'Iris-setosa'],\n",
       "       [5.8, 'Iris-setosa'],\n",
       "       [5.7, 'Iris-setosa'],\n",
       "       [5.4, 'Iris-setosa'],\n",
       "       [5.1, 'Iris-setosa'],\n",
       "       [5.7, 'Iris-setosa'],\n",
       "       [5.1, 'Iris-setosa'],\n",
       "       [5.4, 'Iris-setosa'],\n",
       "       [5.1, 'Iris-setosa'],\n",
       "       [4.6, 'Iris-setosa'],\n",
       "       [5.1, 'Iris-setosa'],\n",
       "       [4.8, 'Iris-setosa'],\n",
       "       [5.0, 'Iris-setosa'],\n",
       "       [5.0, 'Iris-setosa'],\n",
       "       [5.2, 'Iris-setosa'],\n",
       "       [5.2, 'Iris-setosa'],\n",
       "       [4.7, 'Iris-setosa'],\n",
       "       [4.8, 'Iris-setosa'],\n",
       "       [5.4, 'Iris-setosa'],\n",
       "       [5.2, 'Iris-setosa'],\n",
       "       [5.5, 'Iris-setosa'],\n",
       "       [4.9, 'Iris-setosa'],\n",
       "       [5.0, 'Iris-setosa'],\n",
       "       [5.5, 'Iris-setosa'],\n",
       "       [4.9, 'Iris-setosa'],\n",
       "       [4.4, 'Iris-setosa'],\n",
       "       [5.1, 'Iris-setosa'],\n",
       "       [5.0, 'Iris-setosa'],\n",
       "       [4.5, 'Iris-setosa'],\n",
       "       [4.4, 'Iris-setosa'],\n",
       "       [5.0, 'Iris-setosa'],\n",
       "       [5.1, 'Iris-setosa'],\n",
       "       [4.8, 'Iris-setosa'],\n",
       "       [5.1, 'Iris-setosa'],\n",
       "       [4.6, 'Iris-setosa'],\n",
       "       [5.3, 'Iris-setosa'],\n",
       "       [5.0, 'Iris-setosa'],\n",
       "       [7.0, 'Iris-versicolor'],\n",
       "       [6.4, 'Iris-versicolor'],\n",
       "       [6.9, 'Iris-versicolor'],\n",
       "       [5.5, 'Iris-versicolor'],\n",
       "       [6.5, 'Iris-versicolor'],\n",
       "       [5.7, 'Iris-versicolor'],\n",
       "       [6.3, 'Iris-versicolor'],\n",
       "       [4.9, 'Iris-versicolor'],\n",
       "       [6.6, 'Iris-versicolor'],\n",
       "       [5.2, 'Iris-versicolor'],\n",
       "       [5.0, 'Iris-versicolor'],\n",
       "       [5.9, 'Iris-versicolor'],\n",
       "       [6.0, 'Iris-versicolor'],\n",
       "       [6.1, 'Iris-versicolor'],\n",
       "       [5.6, 'Iris-versicolor'],\n",
       "       [6.7, 'Iris-versicolor'],\n",
       "       [5.6, 'Iris-versicolor'],\n",
       "       [5.8, 'Iris-versicolor'],\n",
       "       [6.2, 'Iris-versicolor'],\n",
       "       [5.6, 'Iris-versicolor'],\n",
       "       [5.9, 'Iris-versicolor'],\n",
       "       [6.1, 'Iris-versicolor'],\n",
       "       [6.3, 'Iris-versicolor'],\n",
       "       [6.1, 'Iris-versicolor'],\n",
       "       [6.4, 'Iris-versicolor'],\n",
       "       [6.6, 'Iris-versicolor'],\n",
       "       [6.8, 'Iris-versicolor'],\n",
       "       [6.7, 'Iris-versicolor'],\n",
       "       [6.0, 'Iris-versicolor'],\n",
       "       [5.7, 'Iris-versicolor'],\n",
       "       [5.5, 'Iris-versicolor'],\n",
       "       [5.5, 'Iris-versicolor'],\n",
       "       [5.8, 'Iris-versicolor'],\n",
       "       [6.0, 'Iris-versicolor'],\n",
       "       [5.4, 'Iris-versicolor'],\n",
       "       [6.0, 'Iris-versicolor'],\n",
       "       [6.7, 'Iris-versicolor'],\n",
       "       [6.3, 'Iris-versicolor'],\n",
       "       [5.6, 'Iris-versicolor'],\n",
       "       [5.5, 'Iris-versicolor'],\n",
       "       [5.5, 'Iris-versicolor'],\n",
       "       [6.1, 'Iris-versicolor'],\n",
       "       [5.8, 'Iris-versicolor'],\n",
       "       [5.0, 'Iris-versicolor'],\n",
       "       [5.6, 'Iris-versicolor'],\n",
       "       [5.7, 'Iris-versicolor'],\n",
       "       [5.7, 'Iris-versicolor'],\n",
       "       [6.2, 'Iris-versicolor'],\n",
       "       [5.1, 'Iris-versicolor'],\n",
       "       [5.7, 'Iris-versicolor']], dtype=object)"
      ]
     },
     "execution_count": 16,
     "metadata": {},
     "output_type": "execute_result"
    }
   ],
   "source": [
    "df.iloc[0:100, [0,4]].values #per i valori del dataframe: otteniamo una lista di liste"
   ]
  },
  {
   "cell_type": "code",
   "execution_count": 17,
   "id": "8a4ed0f1",
   "metadata": {},
   "outputs": [
    {
     "data": {
      "text/plain": [
       "array([[3.5, 'Iris-setosa'],\n",
       "       [3.0, 'Iris-setosa'],\n",
       "       [3.2, 'Iris-setosa'],\n",
       "       [3.1, 'Iris-setosa'],\n",
       "       [3.6, 'Iris-setosa'],\n",
       "       [3.9, 'Iris-setosa'],\n",
       "       [3.4, 'Iris-setosa'],\n",
       "       [3.4, 'Iris-setosa'],\n",
       "       [2.9, 'Iris-setosa'],\n",
       "       [3.1, 'Iris-setosa'],\n",
       "       [3.7, 'Iris-setosa'],\n",
       "       [3.4, 'Iris-setosa'],\n",
       "       [3.0, 'Iris-setosa'],\n",
       "       [3.0, 'Iris-setosa'],\n",
       "       [4.0, 'Iris-setosa'],\n",
       "       [4.4, 'Iris-setosa'],\n",
       "       [3.9, 'Iris-setosa'],\n",
       "       [3.5, 'Iris-setosa'],\n",
       "       [3.8, 'Iris-setosa'],\n",
       "       [3.8, 'Iris-setosa'],\n",
       "       [3.4, 'Iris-setosa'],\n",
       "       [3.7, 'Iris-setosa'],\n",
       "       [3.6, 'Iris-setosa'],\n",
       "       [3.3, 'Iris-setosa'],\n",
       "       [3.4, 'Iris-setosa'],\n",
       "       [3.0, 'Iris-setosa'],\n",
       "       [3.4, 'Iris-setosa'],\n",
       "       [3.5, 'Iris-setosa'],\n",
       "       [3.4, 'Iris-setosa'],\n",
       "       [3.2, 'Iris-setosa'],\n",
       "       [3.1, 'Iris-setosa'],\n",
       "       [3.4, 'Iris-setosa'],\n",
       "       [4.1, 'Iris-setosa'],\n",
       "       [4.2, 'Iris-setosa'],\n",
       "       [3.1, 'Iris-setosa'],\n",
       "       [3.2, 'Iris-setosa'],\n",
       "       [3.5, 'Iris-setosa'],\n",
       "       [3.1, 'Iris-setosa'],\n",
       "       [3.0, 'Iris-setosa'],\n",
       "       [3.4, 'Iris-setosa'],\n",
       "       [3.5, 'Iris-setosa'],\n",
       "       [2.3, 'Iris-setosa'],\n",
       "       [3.2, 'Iris-setosa'],\n",
       "       [3.5, 'Iris-setosa'],\n",
       "       [3.8, 'Iris-setosa'],\n",
       "       [3.0, 'Iris-setosa'],\n",
       "       [3.8, 'Iris-setosa'],\n",
       "       [3.2, 'Iris-setosa'],\n",
       "       [3.7, 'Iris-setosa'],\n",
       "       [3.3, 'Iris-setosa'],\n",
       "       [3.2, 'Iris-versicolor'],\n",
       "       [3.2, 'Iris-versicolor'],\n",
       "       [3.1, 'Iris-versicolor'],\n",
       "       [2.3, 'Iris-versicolor'],\n",
       "       [2.8, 'Iris-versicolor'],\n",
       "       [2.8, 'Iris-versicolor'],\n",
       "       [3.3, 'Iris-versicolor'],\n",
       "       [2.4, 'Iris-versicolor'],\n",
       "       [2.9, 'Iris-versicolor'],\n",
       "       [2.7, 'Iris-versicolor'],\n",
       "       [2.0, 'Iris-versicolor'],\n",
       "       [3.0, 'Iris-versicolor'],\n",
       "       [2.2, 'Iris-versicolor'],\n",
       "       [2.9, 'Iris-versicolor'],\n",
       "       [2.9, 'Iris-versicolor'],\n",
       "       [3.1, 'Iris-versicolor'],\n",
       "       [3.0, 'Iris-versicolor'],\n",
       "       [2.7, 'Iris-versicolor'],\n",
       "       [2.2, 'Iris-versicolor'],\n",
       "       [2.5, 'Iris-versicolor'],\n",
       "       [3.2, 'Iris-versicolor'],\n",
       "       [2.8, 'Iris-versicolor'],\n",
       "       [2.5, 'Iris-versicolor'],\n",
       "       [2.8, 'Iris-versicolor'],\n",
       "       [2.9, 'Iris-versicolor'],\n",
       "       [3.0, 'Iris-versicolor'],\n",
       "       [2.8, 'Iris-versicolor'],\n",
       "       [3.0, 'Iris-versicolor'],\n",
       "       [2.9, 'Iris-versicolor'],\n",
       "       [2.6, 'Iris-versicolor'],\n",
       "       [2.4, 'Iris-versicolor'],\n",
       "       [2.4, 'Iris-versicolor'],\n",
       "       [2.7, 'Iris-versicolor'],\n",
       "       [2.7, 'Iris-versicolor'],\n",
       "       [3.0, 'Iris-versicolor'],\n",
       "       [3.4, 'Iris-versicolor'],\n",
       "       [3.1, 'Iris-versicolor'],\n",
       "       [2.3, 'Iris-versicolor'],\n",
       "       [3.0, 'Iris-versicolor'],\n",
       "       [2.5, 'Iris-versicolor'],\n",
       "       [2.6, 'Iris-versicolor'],\n",
       "       [3.0, 'Iris-versicolor'],\n",
       "       [2.6, 'Iris-versicolor'],\n",
       "       [2.3, 'Iris-versicolor'],\n",
       "       [2.7, 'Iris-versicolor'],\n",
       "       [3.0, 'Iris-versicolor'],\n",
       "       [2.9, 'Iris-versicolor'],\n",
       "       [2.9, 'Iris-versicolor'],\n",
       "       [2.5, 'Iris-versicolor'],\n",
       "       [2.8, 'Iris-versicolor'],\n",
       "       [3.3, 'Iris-virginica'],\n",
       "       [2.7, 'Iris-virginica'],\n",
       "       [3.0, 'Iris-virginica'],\n",
       "       [2.9, 'Iris-virginica'],\n",
       "       [3.0, 'Iris-virginica'],\n",
       "       [3.0, 'Iris-virginica'],\n",
       "       [2.5, 'Iris-virginica'],\n",
       "       [2.9, 'Iris-virginica'],\n",
       "       [2.5, 'Iris-virginica'],\n",
       "       [3.6, 'Iris-virginica'],\n",
       "       [3.2, 'Iris-virginica'],\n",
       "       [2.7, 'Iris-virginica'],\n",
       "       [3.0, 'Iris-virginica'],\n",
       "       [2.5, 'Iris-virginica'],\n",
       "       [2.8, 'Iris-virginica'],\n",
       "       [3.2, 'Iris-virginica'],\n",
       "       [3.0, 'Iris-virginica'],\n",
       "       [3.8, 'Iris-virginica'],\n",
       "       [2.6, 'Iris-virginica'],\n",
       "       [2.2, 'Iris-virginica'],\n",
       "       [3.2, 'Iris-virginica'],\n",
       "       [2.8, 'Iris-virginica'],\n",
       "       [2.8, 'Iris-virginica'],\n",
       "       [2.7, 'Iris-virginica'],\n",
       "       [3.3, 'Iris-virginica'],\n",
       "       [3.2, 'Iris-virginica'],\n",
       "       [2.8, 'Iris-virginica'],\n",
       "       [3.0, 'Iris-virginica'],\n",
       "       [2.8, 'Iris-virginica'],\n",
       "       [3.0, 'Iris-virginica'],\n",
       "       [2.8, 'Iris-virginica'],\n",
       "       [3.8, 'Iris-virginica'],\n",
       "       [2.8, 'Iris-virginica'],\n",
       "       [2.8, 'Iris-virginica'],\n",
       "       [2.6, 'Iris-virginica'],\n",
       "       [3.0, 'Iris-virginica'],\n",
       "       [3.4, 'Iris-virginica'],\n",
       "       [3.1, 'Iris-virginica'],\n",
       "       [3.0, 'Iris-virginica'],\n",
       "       [3.1, 'Iris-virginica'],\n",
       "       [3.1, 'Iris-virginica'],\n",
       "       [3.1, 'Iris-virginica'],\n",
       "       [2.7, 'Iris-virginica'],\n",
       "       [3.2, 'Iris-virginica'],\n",
       "       [3.3, 'Iris-virginica'],\n",
       "       [3.0, 'Iris-virginica'],\n",
       "       [2.5, 'Iris-virginica'],\n",
       "       [3.0, 'Iris-virginica'],\n",
       "       [3.4, 'Iris-virginica'],\n",
       "       [3.0, 'Iris-virginica']], dtype=object)"
      ]
     },
     "execution_count": 17,
     "metadata": {},
     "output_type": "execute_result"
    }
   ],
   "source": [
    "#estrarre i dati 'grezzi' da df\n",
    "df.iloc[:,[1,4]].values #non mettendo niente prima della virgola mi vengono fuori tutti"
   ]
  },
  {
   "cell_type": "code",
   "execution_count": 18,
   "id": "7dc68217",
   "metadata": {},
   "outputs": [
    {
     "data": {
      "text/plain": [
       "numpy.ndarray"
      ]
     },
     "execution_count": 18,
     "metadata": {},
     "output_type": "execute_result"
    }
   ],
   "source": [
    "type(df.iloc[:,[1,4]].values) "
   ]
  },
  {
   "cell_type": "markdown",
   "id": "0013b206",
   "metadata": {},
   "source": [
    "## import di numpy\n",
    "Libreria che permette di gestire delle strutture di dati/ collezioni (matrici, liste multi-dimensionali, etc..) in maniera efficiente e semplificata.\n",
    "\n",
    "Inoltre numpy ha molti metodi utili per funzioni da applicare a matrici, liste, etc."
   ]
  },
  {
   "cell_type": "code",
   "execution_count": 19,
   "id": "62e4a402",
   "metadata": {},
   "outputs": [],
   "source": [
    "import numpy as np"
   ]
  },
  {
   "cell_type": "code",
   "execution_count": 20,
   "id": "2c7594a7",
   "metadata": {},
   "outputs": [
    {
     "data": {
      "text/plain": [
       "3.5"
      ]
     },
     "execution_count": 20,
     "metadata": {},
     "output_type": "execute_result"
    }
   ],
   "source": [
    "np.mean([1,3,4,6]) #comando di numpy che fa la media"
   ]
  },
  {
   "cell_type": "code",
   "execution_count": 26,
   "id": "8726ffbe",
   "metadata": {},
   "outputs": [
    {
     "data": {
      "text/plain": [
       "array([5.1, 4.9, 4.7, 4.6, 5.0, 5.4, 4.6, 5.0, 4.4, 4.9, 5.4, 4.8, 4.8,\n",
       "       4.3, 5.8, 5.7, 5.4, 5.1, 5.7, 5.1, 5.4, 5.1, 4.6, 5.1, 4.8, 5.0,\n",
       "       5.0, 5.2, 5.2, 4.7, 4.8, 5.4, 5.2, 5.5, 4.9, 5.0, 5.5, 4.9, 4.4,\n",
       "       5.1, 5.0, 4.5, 4.4, 5.0, 5.1, 4.8, 5.1, 4.6, 5.3, 5.0],\n",
       "      dtype=object)"
      ]
     },
     "execution_count": 26,
     "metadata": {},
     "output_type": "execute_result"
    }
   ],
   "source": [
    "import matplotlib.pyplot as plt\n",
    "#plot data\n",
    "#sulla x mettiamo la lunghezza sepalo(colonna 0), sulla y mettiamo la larghezza sepalo (colonna 1)\n",
    "#plottiamo solo i primi due tipi: setosa e versicolor (differenziandoli)\n",
    "data= df.iloc[0:100, [0, 1, 4]] #da 0 a 100 vogliamo le colonne 0,1,4: le metto dentro la lista\n",
    "#posso lavorare sui values:\n",
    "data= df.iloc[0:100, [0, 1, 4]].values\n",
    "setosa_x= data[:50,0]\n",
    "setosa_x\n",
    "#così estraggo tutte le x di setosa"
   ]
  },
  {
   "cell_type": "code",
   "execution_count": 33,
   "id": "498681b8",
   "metadata": {},
   "outputs": [
    {
     "data": {
      "image/png": "[encoded data removed]",
      "text/plain": [
       "<Figure size 640x480 with 1 Axes>"
      ]
     },
     "metadata": {},
     "output_type": "display_data"
    }
   ],
   "source": [
    "data= df.iloc[0:100, [0, 1, 4]].values\n",
    "data[0:50,0] #nelle quadre metto due espressioni separate da virgola (la prima indica range righe, l'altra le colonne)\n",
    "\n",
    "setosa_x=data[:50,0] \n",
    "setosa_y=data[:50,1]\n",
    "\n",
    "versicolor_x=data[50:,0] #primo compreso, se non metto niente indico fino alla fine: abbiamo già indicato che è 100\n",
    "versicolor_y=data[50:,1]\n",
    "\n",
    "plt.grid() #ci quadretta il grafico\n",
    "plt.scatter(setosa_x, setosa_y, color='red', label='setosa') #il label serve per la legenda\n",
    "plt.scatter(versicolor_x, versicolor_y, color='blue', label='versicolor')\n",
    "plt.xlabel('lunghezza sepalo [cm]') #ce lo stampa sulle x\n",
    "plt.ylabel('larghezza sepali [cm]')\n",
    "plt.legend()\n",
    "plt.show()#si fa alla fine di un plot"
   ]
  },
  {
   "cell_type": "code",
   "execution_count": 35,
   "id": "b44d80bc",
   "metadata": {},
   "outputs": [
    {
     "data": {
      "image/png": "[encoded data removed]",
      "text/plain": [
       "<Figure size 1500x1000 with 1 Axes>"
      ]
     },
     "metadata": {
      "image/png": {
       "height": 833,
       "width": 1233
      }
     },
     "output_type": "display_data"
    }
   ],
   "source": [
    "#vado a prendere anche il virginica\n",
    "data= df.iloc[0:, [0, 1, 4]].values\n",
    "data[0:,0] #nelle quadre metto due espressioni separate da virgola (la prima indica range righe, l'altra le colonne)\n",
    "%config InlineBackend.figure_format='retina'\n",
    "fig = plt.gcf()\n",
    "fig.set_size_inches(15, 10)\n",
    "\n",
    "setosa_x=data[:50,0] \n",
    "setosa_y=data[:50,1]\n",
    "\n",
    "versicolor_x=data[50:100,0] \n",
    "versicolor_y=data[50:100,1]\n",
    "\n",
    "virginica_x=data[100:,0] \n",
    "virginica_y=data[100:,1]\n",
    "\n",
    "plt.grid() #ci quadretta il grafico\n",
    "plt.scatter(setosa_x, setosa_y, color='red', label='setosa') #il label serve per la legenda\n",
    "plt.scatter(versicolor_x, versicolor_y, color='blue', label='versicolor')\n",
    "plt.scatter(virginica_x, virginica_y, color='green', label='virginica')\n",
    "plt.xlabel('lunghezza sepalo [cm]') #ce lo stampa sulle x\n",
    "plt.ylabel('larghezza sepali [cm]')\n",
    "plt.legend()\n",
    "plt.show()#si fa alla fine di un plot"
   ]
  },
  {
   "cell_type": "markdown",
   "id": "461761ef",
   "metadata": {},
   "source": [
    "### Esperimento di ML (Machine Learning)\n",
    "\n",
    "Regressione lineare: ottenere una retta (fitting di una retta) che separi linearmente i dati (usiamo solo setosa e virginica)."
   ]
  },
  {
   "cell_type": "markdown",
   "id": "7d7c130f",
   "metadata": {},
   "source": [
    "### Notazione\n",
    "\n",
    "Si indica con $X$ il dataset e con $y$ le etichette (il valore da predire)\n",
    "\n",
    "Esempio dataset IRIS: abbiamo visto che è facile separare linearmente setosa e versicolor considerando lunghezza e larghezza sepalo.\n",
    "\n",
    "lunghezza e larghezza--> dati misurati--> $X$\n",
    "\n",
    "categoria di iris-->valore da predire-->$y$\n"
   ]
  },
  {
   "cell_type": "code",
   "execution_count": 56,
   "id": "672d9b6c",
   "metadata": {},
   "outputs": [],
   "source": [
    "from sklearn.linear_model import Perceptron"
   ]
  },
  {
   "cell_type": "markdown",
   "id": "c883a3cc",
   "metadata": {},
   "source": [
    "### Data preparation"
   ]
  },
  {
   "cell_type": "code",
   "execution_count": 45,
   "id": "6063b0cd",
   "metadata": {},
   "outputs": [
    {
     "name": "stdout",
     "output_type": "stream",
     "text": [
      "['Iris-setosa' 'Iris-setosa' 'Iris-setosa' 'Iris-setosa' 'Iris-setosa'\n",
      " 'Iris-setosa' 'Iris-setosa' 'Iris-setosa' 'Iris-setosa' 'Iris-setosa'\n",
      " 'Iris-setosa' 'Iris-setosa' 'Iris-setosa' 'Iris-setosa' 'Iris-setosa'\n",
      " 'Iris-setosa' 'Iris-setosa' 'Iris-setosa' 'Iris-setosa' 'Iris-setosa'\n",
      " 'Iris-setosa' 'Iris-setosa' 'Iris-setosa' 'Iris-setosa' 'Iris-setosa'\n",
      " 'Iris-setosa' 'Iris-setosa' 'Iris-setosa' 'Iris-setosa' 'Iris-setosa'\n",
      " 'Iris-setosa' 'Iris-setosa' 'Iris-setosa' 'Iris-setosa' 'Iris-setosa'\n",
      " 'Iris-setosa' 'Iris-setosa' 'Iris-setosa' 'Iris-setosa' 'Iris-setosa'\n",
      " 'Iris-setosa' 'Iris-setosa' 'Iris-setosa' 'Iris-setosa' 'Iris-setosa'\n",
      " 'Iris-setosa' 'Iris-setosa' 'Iris-setosa' 'Iris-setosa' 'Iris-setosa'\n",
      " 'Iris-versicolor' 'Iris-versicolor' 'Iris-versicolor' 'Iris-versicolor'\n",
      " 'Iris-versicolor' 'Iris-versicolor' 'Iris-versicolor' 'Iris-versicolor'\n",
      " 'Iris-versicolor' 'Iris-versicolor' 'Iris-versicolor' 'Iris-versicolor'\n",
      " 'Iris-versicolor' 'Iris-versicolor' 'Iris-versicolor' 'Iris-versicolor'\n",
      " 'Iris-versicolor' 'Iris-versicolor' 'Iris-versicolor' 'Iris-versicolor'\n",
      " 'Iris-versicolor' 'Iris-versicolor' 'Iris-versicolor' 'Iris-versicolor'\n",
      " 'Iris-versicolor' 'Iris-versicolor' 'Iris-versicolor' 'Iris-versicolor'\n",
      " 'Iris-versicolor' 'Iris-versicolor' 'Iris-versicolor' 'Iris-versicolor'\n",
      " 'Iris-versicolor' 'Iris-versicolor' 'Iris-versicolor' 'Iris-versicolor'\n",
      " 'Iris-versicolor' 'Iris-versicolor' 'Iris-versicolor' 'Iris-versicolor'\n",
      " 'Iris-versicolor' 'Iris-versicolor' 'Iris-versicolor' 'Iris-versicolor'\n",
      " 'Iris-versicolor' 'Iris-versicolor' 'Iris-versicolor' 'Iris-versicolor'\n",
      " 'Iris-versicolor' 'Iris-versicolor']\n",
      "[-1 -1 -1 -1 -1 -1 -1 -1 -1 -1 -1 -1 -1 -1 -1 -1 -1 -1 -1 -1 -1 -1 -1 -1\n",
      " -1 -1 -1 -1 -1 -1 -1 -1 -1 -1 -1 -1 -1 -1 -1 -1 -1 -1 -1 -1 -1 -1 -1 -1\n",
      " -1 -1  1  1  1  1  1  1  1  1  1  1  1  1  1  1  1  1  1  1  1  1  1  1\n",
      "  1  1  1  1  1  1  1  1  1  1  1  1  1  1  1  1  1  1  1  1  1  1  1  1\n",
      "  1  1  1  1]\n"
     ]
    }
   ],
   "source": [
    "X=df.iloc[:100,[0,1]].values\n",
    "y=df.iloc[:100,4].values\n",
    "\n",
    "print(y)\n",
    "#la classe standard di linear regression non è in grado di distinguere le categorie\n",
    "#ad esempio sotto forma di stringa('iris setosa', 'iris versicolor')\n",
    "#bensì funziona su valori numerici (-1,1)\n",
    "#inventiamoci una funzione che converta un array di categorie in un array di (-1,1)\n",
    "\n",
    "#conversione dei valori di y\n",
    "y=np.where(y== 'Iris-setosa', -1, 1)\n",
    "#print(y)\n",
    "\n"
   ]
  },
  {
   "cell_type": "markdown",
   "id": "ba190e2b",
   "metadata": {},
   "source": [
    "### Funzione per interpretare meglio i dati"
   ]
  },
  {
   "cell_type": "code",
   "execution_count": 58,
   "id": "ba550776",
   "metadata": {},
   "outputs": [],
   "source": [
    "def converti_in_categoria(arr):\n",
    "    return np.where(arr>0, 'Iris-versicolor', 'Iris-setosa')\n",
    "#converti_in_categoria(y)"
   ]
  },
  {
   "cell_type": "markdown",
   "id": "d1e8c3d1",
   "metadata": {},
   "source": [
    "### Model fitting"
   ]
  },
  {
   "cell_type": "code",
   "execution_count": 65,
   "id": "827a80e0",
   "metadata": {},
   "outputs": [
    {
     "data": {
      "text/plain": [
       "array(['Iris-setosa', 'Iris-versicolor'], dtype='<U15')"
      ]
     },
     "execution_count": 65,
     "metadata": {},
     "output_type": "execute_result"
    }
   ],
   "source": [
    "model= Perceptron().fit(X,y)\n",
    "converti_in_categoria(reg.predict([[5,4],[7,2.5]]))"
   ]
  },
  {
   "cell_type": "markdown",
   "id": "c2cf048a",
   "metadata": {},
   "source": [
    "### Plot dati/ risultati valutazione empirica"
   ]
  },
  {
   "cell_type": "code",
   "execution_count": 62,
   "id": "785a223a",
   "metadata": {},
   "outputs": [
    {
     "data": {
      "text/plain": [
       "['__abstractmethods__',\n",
       " '__class__',\n",
       " '__delattr__',\n",
       " '__dict__',\n",
       " '__dir__',\n",
       " '__doc__',\n",
       " '__eq__',\n",
       " '__format__',\n",
       " '__ge__',\n",
       " '__getattribute__',\n",
       " '__getstate__',\n",
       " '__gt__',\n",
       " '__hash__',\n",
       " '__init__',\n",
       " '__init_subclass__',\n",
       " '__le__',\n",
       " '__lt__',\n",
       " '__module__',\n",
       " '__ne__',\n",
       " '__new__',\n",
       " '__reduce__',\n",
       " '__reduce_ex__',\n",
       " '__repr__',\n",
       " '__setattr__',\n",
       " '__setstate__',\n",
       " '__sizeof__',\n",
       " '__str__',\n",
       " '__subclasshook__',\n",
       " '__weakref__',\n",
       " '_abc_impl',\n",
       " '_allocate_parameter_mem',\n",
       " '_check_feature_names',\n",
       " '_check_n_features',\n",
       " '_estimator_type',\n",
       " '_fit',\n",
       " '_fit_binary',\n",
       " '_fit_multiclass',\n",
       " '_get_learning_rate_type',\n",
       " '_get_loss_function',\n",
       " '_get_param_names',\n",
       " '_get_penalty_type',\n",
       " '_get_tags',\n",
       " '_make_validation_score_cb',\n",
       " '_make_validation_split',\n",
       " '_more_tags',\n",
       " '_partial_fit',\n",
       " '_predict_proba_lr',\n",
       " '_repr_html_',\n",
       " '_repr_html_inner',\n",
       " '_repr_mimebundle_',\n",
       " '_validate_data',\n",
       " '_validate_params',\n",
       " 'decision_function',\n",
       " 'densify',\n",
       " 'fit',\n",
       " 'get_params',\n",
       " 'loss_functions',\n",
       " 'partial_fit',\n",
       " 'predict',\n",
       " 'score',\n",
       " 'set_params',\n",
       " 'sparsify']"
      ]
     },
     "execution_count": 62,
     "metadata": {},
     "output_type": "execute_result"
    }
   ],
   "source": [
    "dir(Perceptron) #vediamo che metodi ha il Perceptron"
   ]
  },
  {
   "cell_type": "code",
   "execution_count": 67,
   "id": "78ec9586",
   "metadata": {},
   "outputs": [
    {
     "data": {
      "text/plain": [
       "0.99"
      ]
     },
     "execution_count": 67,
     "metadata": {},
     "output_type": "execute_result"
    }
   ],
   "source": [
    "#score ci dà l'accuratezza media su un certo database di test che in questo caso \n",
    "#è ([5,4],[7,2.5])\n",
    "\n",
    "X_test=[[5,4],[7,2.5]]\n",
    "y_yest=[[-1],[1]]\n",
    "#model.score(X_test,Y_test)\n",
    "model.score(X,y) #vediamo che l'accuratezza è del 99% perché c'è quel'outliner"
   ]
  },
  {
   "cell_type": "markdown",
   "id": "999587ae",
   "metadata": {},
   "source": [
    "### Fitting parziale"
   ]
  },
  {
   "cell_type": "code",
   "execution_count": 68,
   "id": "b5f56267",
   "metadata": {},
   "outputs": [
    {
     "data": {
      "text/plain": [
       "(2,)"
      ]
     },
     "execution_count": 68,
     "metadata": {},
     "output_type": "execute_result"
    }
   ],
   "source": [
    "X[0].shape #una tupla che contiene solo un 2"
   ]
  },
  {
   "cell_type": "code",
   "execution_count": 69,
   "id": "f1fc4d4e",
   "metadata": {},
   "outputs": [
    {
     "data": {
      "text/plain": [
       "(100, 2)"
      ]
     },
     "execution_count": 69,
     "metadata": {},
     "output_type": "execute_result"
    }
   ],
   "source": [
    "X.shape #shape ti dà una tupla che ti dice quante righe e quante colonne"
   ]
  },
  {
   "cell_type": "code",
   "execution_count": 70,
   "id": "238e16b4",
   "metadata": {},
   "outputs": [],
   "source": [
    "from sklearn.model_selection import train_test_split\n",
    "X_train, X_test, y_train, y_test= train_test_split(X,y)"
   ]
  },
  {
   "cell_type": "code",
   "execution_count": 72,
   "id": "158dadc8",
   "metadata": {},
   "outputs": [
    {
     "data": {
      "text/plain": [
       "1.0"
      ]
     },
     "execution_count": 72,
     "metadata": {},
     "output_type": "execute_result"
    }
   ],
   "source": [
    "#provo a fittare il model\n",
    "\n",
    "model_fit_parz= Perceptron(max_iter=1) \n",
    "\n",
    "model_fit_parz.fit(X_train, y_train)\n",
    "model_fit_parz.score(X_train, y_train)\n",
    "\n"
   ]
  },
  {
   "cell_type": "code",
   "execution_count": 64,
   "id": "f8199e15",
   "metadata": {},
   "outputs": [
    {
     "data": {
      "text/plain": [
       "array([-1, -1, -1, -1, -1, -1, -1, -1, -1, -1, -1, -1, -1, -1, -1, -1, -1,\n",
       "       -1, -1, -1, -1, -1, -1, -1, -1, -1, -1, -1, -1, -1, -1, -1, -1, -1,\n",
       "       -1, -1, -1, -1, -1, -1, -1,  1, -1, -1, -1, -1, -1, -1, -1, -1,  1,\n",
       "        1,  1,  1,  1,  1,  1,  1,  1,  1,  1,  1,  1,  1,  1,  1,  1,  1,\n",
       "        1,  1,  1,  1,  1,  1,  1,  1,  1,  1,  1,  1,  1,  1,  1,  1,  1,\n",
       "        1,  1,  1,  1,  1,  1,  1,  1,  1,  1,  1,  1,  1,  1,  1])"
      ]
     },
     "execution_count": 64,
     "metadata": {},
     "output_type": "execute_result"
    }
   ],
   "source": [
    "reg.predict(X)"
   ]
  },
  {
   "cell_type": "code",
   "execution_count": 60,
   "id": "89f8a016",
   "metadata": {},
   "outputs": [
    {
     "data": {
      "text/plain": [
       "array(['Iris-setosa', 'Iris-setosa', 'Iris-setosa', 'Iris-setosa',\n",
       "       'Iris-setosa', 'Iris-setosa', 'Iris-setosa', 'Iris-setosa',\n",
       "       'Iris-setosa', 'Iris-setosa', 'Iris-setosa', 'Iris-setosa',\n",
       "       'Iris-setosa', 'Iris-setosa', 'Iris-setosa', 'Iris-setosa',\n",
       "       'Iris-setosa', 'Iris-setosa', 'Iris-setosa', 'Iris-setosa',\n",
       "       'Iris-setosa', 'Iris-setosa', 'Iris-setosa', 'Iris-setosa',\n",
       "       'Iris-setosa', 'Iris-setosa', 'Iris-setosa', 'Iris-setosa',\n",
       "       'Iris-setosa', 'Iris-setosa', 'Iris-setosa', 'Iris-setosa',\n",
       "       'Iris-setosa', 'Iris-setosa', 'Iris-setosa', 'Iris-setosa',\n",
       "       'Iris-setosa', 'Iris-setosa', 'Iris-setosa', 'Iris-setosa',\n",
       "       'Iris-setosa', 'Iris-versicolor', 'Iris-setosa', 'Iris-setosa',\n",
       "       'Iris-setosa', 'Iris-setosa', 'Iris-setosa', 'Iris-setosa',\n",
       "       'Iris-setosa', 'Iris-setosa', 'Iris-versicolor', 'Iris-versicolor',\n",
       "       'Iris-versicolor', 'Iris-versicolor', 'Iris-versicolor',\n",
       "       'Iris-versicolor', 'Iris-versicolor', 'Iris-versicolor',\n",
       "       'Iris-versicolor', 'Iris-versicolor', 'Iris-versicolor',\n",
       "       'Iris-versicolor', 'Iris-versicolor', 'Iris-versicolor',\n",
       "       'Iris-versicolor', 'Iris-versicolor', 'Iris-versicolor',\n",
       "       'Iris-versicolor', 'Iris-versicolor', 'Iris-versicolor',\n",
       "       'Iris-versicolor', 'Iris-versicolor', 'Iris-versicolor',\n",
       "       'Iris-versicolor', 'Iris-versicolor', 'Iris-versicolor',\n",
       "       'Iris-versicolor', 'Iris-versicolor', 'Iris-versicolor',\n",
       "       'Iris-versicolor', 'Iris-versicolor', 'Iris-versicolor',\n",
       "       'Iris-versicolor', 'Iris-versicolor', 'Iris-versicolor',\n",
       "       'Iris-versicolor', 'Iris-versicolor', 'Iris-versicolor',\n",
       "       'Iris-versicolor', 'Iris-versicolor', 'Iris-versicolor',\n",
       "       'Iris-versicolor', 'Iris-versicolor', 'Iris-versicolor',\n",
       "       'Iris-versicolor', 'Iris-versicolor', 'Iris-versicolor',\n",
       "       'Iris-versicolor', 'Iris-versicolor', 'Iris-versicolor'],\n",
       "      dtype='<U15')"
      ]
     },
     "execution_count": 60,
     "metadata": {},
     "output_type": "execute_result"
    }
   ],
   "source": [
    "converti_in_categoria(reg.predict(X))"
   ]
  },
  {
   "cell_type": "markdown",
   "id": "14a0ec59",
   "metadata": {},
   "source": [
    "### Modello di Machine Learning custom"
   ]
  },
  {
   "cell_type": "code",
   "execution_count": 73,
   "id": "1011c7d0",
   "metadata": {},
   "outputs": [],
   "source": [
    "class Perceptron(object):\n",
    "\n",
    "    def __init__(self, eta=0.01, epochs=50):        self.eta = eta        self.epochs = epochs\n",
    "\n",
    "    def fit(self, X, y):\n",
    "\n",
    "        self.w_ = np.zeros(1 + X.shape[1])        self.errors_ = []\n",
    "\n",
    "        for _ in range(self.epochs):            errors = 0            for xi, target in zip(X, y):                update = self.eta * (target - self.predict(xi))                self.w_[1:] +=  update * xi                self.w_[0] +=  update                errors += int(update != 0.0)            self.errors_.append(errors)        return self\n",
    "\n",
    "    def net_input(self, X):        return np.dot(X, self.w_[1:]) + self.w_[0]\n",
    "\n",
    "    def predict(self, X):        return np.where(self.net_input(X) >= 0.0, 1, -1)\n",
    "\n"
   ]
  }
 ],
 "metadata": {
  "kernelspec": {
   "display_name": "Python 3 (ipykernel)",
   "language": "python",
   "name": "python3"
  },
  "language_info": {
   "codemirror_mode": {
    "name": "ipython",
    "version": 3
   },
   "file_extension": ".py",
   "mimetype": "text/x-python",
   "name": "python",
   "nbconvert_exporter": "python",
   "pygments_lexer": "ipython3",
   "version": "3.10.7"
  }
 },
 "nbformat": 4,
 "nbformat_minor": 5
}
