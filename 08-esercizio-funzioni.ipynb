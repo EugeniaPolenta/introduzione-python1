{
 "cells": [
  {
   "cell_type": "markdown",
   "id": "7ae102fe",
   "metadata": {},
   "source": [
    "## Funzioni\n",
    "\n",
    "### Ricorsione\n",
    "\n",
    "Tecnica che prevede che una funzione chiami se stessa"
   ]
  },
  {
   "cell_type": "code",
   "execution_count": 1,
   "id": "637c05b7",
   "metadata": {},
   "outputs": [
    {
     "data": {
      "text/plain": [
       "3628800"
      ]
     },
     "execution_count": 1,
     "metadata": {},
     "output_type": "execute_result"
    }
   ],
   "source": [
    "#scrivere una funzione che dato un intero >0 ritorni il fattoriale\n",
    "# per n---> 1*2*....*n ---> n*....*2*1\n",
    "def fattoriale(n):\n",
    "    if n<2: #caso n=1\n",
    "        return 1\n",
    "    return n* fattoriale(n-1) #qui non serve mettere else perchè se non è vero l'if si va li\n",
    "\n",
    "fattoriale(10)"
   ]
  },
  {
   "cell_type": "code",
   "execution_count": 2,
   "id": "2b0316f9",
   "metadata": {},
   "outputs": [
    {
     "data": {
      "text/plain": [
       "788657867364790503552363213932185062295135977687173263294742533244359449963403342920304284011984623904177212138919638830257642790242637105061926624952829931113462857270763317237396988943922445621451664240254033291864131227428294853277524242407573903240321257405579568660226031904170324062351700858796178922222789623703897374720000000000000000000000000000000000000000000000000"
      ]
     },
     "execution_count": 2,
     "metadata": {},
     "output_type": "execute_result"
    }
   ],
   "source": [
    "fattoriale(200) #così si mette in una funzione 200 volte una chiamata a funzione: questo è ancora un numero ragionevole"
   ]
  },
  {
   "cell_type": "code",
   "execution_count": null,
   "id": "137e3f3d",
   "metadata": {},
   "outputs": [],
   "source": [
    "try:\n",
    "    fattoriale(100000)\n",
    "except:\n",
    "    print('profondità massima ecceduta')\n",
    "    print('Le chiamate a funzione ricorsive hanno superato i limiti di memoria')\n",
    "#fattoriale(100000) mi dà errore: errore di ricorsione perchè abbiamo raggiunto il massimo numero di chiamata a funzione possibile"
   ]
  },
  {
   "cell_type": "markdown",
   "id": "eeb7bbcf",
   "metadata": {},
   "source": [
    "## Cicli vs. ricorsione\n",
    "Definiamo due funzioni che hanno lo stesso comportamento ma una una è ciclica, l'altra ricorsiva. "
   ]
  },
  {
   "cell_type": "code",
   "execution_count": 1,
   "id": "ebee9f03",
   "metadata": {},
   "outputs": [],
   "source": [
    "def conta_c(n):\n",
    "    while n>0:\n",
    "        print(n)\n",
    "        n-= 1"
   ]
  },
  {
   "cell_type": "code",
   "execution_count": 5,
   "id": "37cfcd5e",
   "metadata": {},
   "outputs": [
    {
     "name": "stdout",
     "output_type": "stream",
     "text": [
      "4\n",
      "3\n",
      "2\n",
      "1\n"
     ]
    }
   ],
   "source": [
    "conta_c(4)"
   ]
  },
  {
   "cell_type": "code",
   "execution_count": 4,
   "id": "ca6dbd9e",
   "metadata": {},
   "outputs": [
    {
     "name": "stdout",
     "output_type": "stream",
     "text": [
      "4\n",
      "3\n",
      "2\n",
      "1\n"
     ]
    }
   ],
   "source": [
    "def conta_r(n): #no bisogno di un valore di ritorno perchè print non ritorna niente, stampa solo in console\n",
    "    if n>0:\n",
    "        print(n)\n",
    "        conta_r(n-1)\n",
    "conta_r(4)"
   ]
  },
  {
   "cell_type": "code",
   "execution_count": 15,
   "id": "1e7e23bd",
   "metadata": {},
   "outputs": [
    {
     "data": {
      "text/plain": [
       "function"
      ]
     },
     "execution_count": 15,
     "metadata": {},
     "output_type": "execute_result"
    }
   ],
   "source": [
    "type(conta_r)"
   ]
  },
  {
   "cell_type": "markdown",
   "id": "34302f90",
   "metadata": {},
   "source": [
    "Le funzioni possono ritornare più di un valore, in questo caso possiamo fare un assegnamento 'multiplo' a variabili."
   ]
  },
  {
   "cell_type": "code",
   "execution_count": 19,
   "id": "516187dd",
   "metadata": {},
   "outputs": [
    {
     "name": "stdout",
     "output_type": "stream",
     "text": [
      "(['ciao', 'a', 'tutti'], 3)\n",
      "['ciao', 'a', 'tutti'] 3\n"
     ]
    }
   ],
   "source": [
    "def ritorno_doppio():\n",
    "    return['ciao', 'a', 'tutti'], 3\n",
    "\n",
    "print(ritorno_doppio()) #stampa un valore (di tipo tupla)\n",
    "\n",
    "#unpacking\n",
    "l,n= ritorno_doppio()\n",
    "\n",
    "print(l,n) #stampa i due valori dei corrispettivi tipi"
   ]
  },
  {
   "cell_type": "markdown",
   "id": "b64ea4a9",
   "metadata": {},
   "source": [
    "Una funzione ammette multipli parametri in ingresso (argomenti).\n",
    "\n",
    "Alcuni argomenti possono essere 'facoltativi'"
   ]
  },
  {
   "cell_type": "code",
   "execution_count": 27,
   "id": "14cb15e8",
   "metadata": {},
   "outputs": [
    {
     "name": "stdout",
     "output_type": "stream",
     "text": [
      "n1: 1 n2:  2 n3:  0\n",
      "3\n"
     ]
    },
    {
     "data": {
      "text/plain": [
       "\" \\nattenzione: gli argomenti facoltativi devono essere messi DOPO gli argomenti obbligatori\\ntry:\\n    def somma_2(n1=0, n2, n3):\\n        return n1+ n2+ n3\\nexcept:\\n    print('non posso definire argomenti facoltativi prima di argomenti obbligatori')\\n    \\n#Attenzione doppia: gli errori di sintassi vengono mostrati come output\\n#SyntaxError è tuttabia una tipologia di errore speciale che non può essere controllata in blocchi try-except\\n \\n\""
      ]
     },
     "execution_count": 27,
     "metadata": {},
     "output_type": "execute_result"
    }
   ],
   "source": [
    "def somma(n1, n2, n3=0): #assegno a parametri facoltativi un valore di default\n",
    "    print('n1:', n1, 'n2: ', n2, 'n3: ', n3)\n",
    "    return n1 + n2 + n3\n",
    "\n",
    "print(somma(1,2))\n",
    "\"\"\" \n",
    "attenzione: gli argomenti facoltativi devono essere messi DOPO gli argomenti obbligatori\n",
    "try:\n",
    "    def somma_2(n1=0, n2, n3):\n",
    "        return n1+ n2+ n3\n",
    "except:\n",
    "    print('non posso definire argomenti facoltativi prima di argomenti obbligatori')\n",
    "    \n",
    "#Attenzione doppia: gli errori di sintassi vengono mostrati come output\n",
    "#SyntaxError è tuttabia una tipologia di errore speciale che non può essere controllata in blocchi try-except\n",
    " \n",
    "\"\"\"   \n",
    "#somma_2(1,2)"
   ]
  },
  {
   "cell_type": "markdown",
   "id": "8b282b21",
   "metadata": {},
   "source": [
    "Conoscendo la definizione della funzione che stiamo chiamando, è possibile usare esplicitamente i nomi degli argomenti come mostrato nell'esempio seguente:"
   ]
  },
  {
   "cell_type": "code",
   "execution_count": 28,
   "id": "b0c14bcf",
   "metadata": {},
   "outputs": [
    {
     "name": "stdout",
     "output_type": "stream",
     "text": [
      "n1: 1 n2:  2 n3:  3\n",
      "6\n"
     ]
    }
   ],
   "source": [
    "print(somma(n3=3, n2=2, n1=1))"
   ]
  },
  {
   "cell_type": "markdown",
   "id": "ab9b0889",
   "metadata": {},
   "source": [
    "### Passaggio di parametri avanzato\n",
    "A volte potremmo aver necessità di definire una funzione che prende in ingresso un elenco di parametri non noti a priori. Come possiamo programmare tale situazione?\n",
    "\n",
    "Utilizzando il simbolo '*'(star) si trasforma un elenco di argomenti in una tupla identificata da un solo nome di variabile, in un elenco di parametri (identificati da un solo nome di variabile), che può essere iterata. Nel successivo esempio vogliamo chiamare tutti come 'termini':"
   ]
  },
  {
   "cell_type": "code",
   "execution_count": 29,
   "id": "505bf15a",
   "metadata": {},
   "outputs": [
    {
     "name": "stdout",
     "output_type": "stream",
     "text": [
      "<class 'tuple'>\n"
     ]
    },
    {
     "data": {
      "text/plain": [
       "83"
      ]
     },
     "execution_count": 29,
     "metadata": {},
     "output_type": "execute_result"
    }
   ],
   "source": [
    "def somma_indefiniti_termini(*termini):\n",
    "    print(type(termini)) #vediamo il type\n",
    "    s=0\n",
    "    for n in termini:\n",
    "        s+= n\n",
    "    return s\n",
    "\n",
    "somma_indefiniti_termini(2,3,4,5,6,7,53,3)"
   ]
  },
  {
   "cell_type": "markdown",
   "id": "e38e6c7a",
   "metadata": {},
   "source": [
    "### Perché ha senso usare l'operatore * ?\n",
    "\n",
    "In alcuni casi non possiamo prevedere quanti parametri verranno passati ad una certa funzione. In questo caso non possiamo definire i parametri della suddetta funzione in maniera esplicita (esempio: se voglio sommare un numero x di interi non posso fare def somma(n_1, n_2, ..., n_x) perché x cambia).\n",
    "\n",
    "In numero di argomenti è indefinito quindi posso usare lo strumento * per poter superare questa limitazione. \n",
    "Lo strumento * può essere messo davanti al nome di una variabile e verrà tradotto in una tupla che può essere iterata nel body della funzione.\n",
    "\n",
    "def somma(*termini)\n",
    "\n",
    "somma(2,5,9)---> termini =(2,5,9) (termini è una tupla di 2,5,9)\n",
    "\n",
    "somma(4,7,10,52) ---> termini=(4,7,10,52) (termini è una tupla di 4,7,10, 52)"
   ]
  },
  {
   "cell_type": "code",
   "execution_count": 30,
   "id": "35406703",
   "metadata": {},
   "outputs": [
    {
     "name": "stdout",
     "output_type": "stream",
     "text": [
      "1 3 5 7\n",
      "1\n",
      "3\n",
      "5\n",
      "7\n"
     ]
    }
   ],
   "source": [
    "def stampa(*argomenti): #funzione che funziona come print ma stampa uno sotto l'altro\n",
    "    for a in argomenti:\n",
    "        print(a)\n",
    " \n",
    "#questa funzione la possiamo usare come una print con vari oggetti di varia natura\n",
    "#possiamo anche non mettermi niente () (proprio come in print)\n",
    "\n",
    "print(1,3,5,7)\n",
    "stampa(1,3,5,7)"
   ]
  },
  {
   "cell_type": "code",
   "execution_count": 31,
   "id": "57f21172",
   "metadata": {},
   "outputs": [],
   "source": [
    "#end carattere che viene messo alla fine e vuol dire e ci va a capo, lo trovo con help(print)"
   ]
  },
  {
   "cell_type": "code",
   "execution_count": 37,
   "id": "42732452",
   "metadata": {},
   "outputs": [
    {
     "name": "stdout",
     "output_type": "stream",
     "text": [
      "1 3 4 5 \n",
      "a [2, 4, 1] 3 \n",
      "1-3-5-7\n"
     ]
    }
   ],
   "source": [
    "def stampa_2(*argomenti):\n",
    "    for a in argomenti:\n",
    "        print(a, end=' ')\n",
    "    print()\n",
    "\n",
    "stampa_2(1,3,4,5)\n",
    "\n",
    "stampa_2('a',[2,4,1],3) #posso farlo per tuple \n",
    "print(1,3,5,7, sep='-') #per ottenere lo stesso effetto con il - tra i numeri"
   ]
  },
  {
   "cell_type": "code",
   "execution_count": 35,
   "id": "5b780ba6",
   "metadata": {},
   "outputs": [
    {
     "name": "stdout",
     "output_type": "stream",
     "text": [
      "1 3 4 5 "
     ]
    }
   ],
   "source": [
    "def stampa_2(*argomenti):\n",
    "    for a in argomenti:\n",
    "        print(a, end=' ')\n",
    "\n",
    "stampa_2(1,3,4,5)"
   ]
  },
  {
   "cell_type": "markdown",
   "id": "5f6ca5ff",
   "metadata": {},
   "source": [
    "Con il simbolo * otteniamo: somma(*n)--->n=(n1,..., nx), che succede se io passo una tupla?"
   ]
  },
  {
   "cell_type": "markdown",
   "id": "6a32389b",
   "metadata": {},
   "source": [
    "Il simbolo \"**\" (starstar) trasforma un elenco di argomenti in un dizionario."
   ]
  },
  {
   "cell_type": "code",
   "execution_count": 5,
   "id": "792b2b95",
   "metadata": {},
   "outputs": [
    {
     "name": "stdout",
     "output_type": "stream",
     "text": [
      "<class 'dict'>\n",
      "('key_1', 'val 1')\n",
      "('key_2', 'val 2')\n",
      "('key_3', 'val 3')\n",
      "('key_4', 'val 4')\n"
     ]
    }
   ],
   "source": [
    "#sistemo questa parte\n",
    "#def crea_dict(k1, v1, k2, v2):\n",
    "def crea_dict(**termini):\n",
    "    print(type(termini))\n",
    "    for i in termini.items():\n",
    "        print(i)\n",
    "    \n",
    "#RICORDARE: Per usare ** in un argomento i valori passati alla funzione devono essere\n",
    "#per forza nominati esplicitamente\n",
    "\n",
    "crea_dict(key_1='val 1', key_2='val 2',key_3='val 3', key_4='val 4')\n",
    " "
   ]
  },
  {
   "cell_type": "markdown",
   "id": "be5c67c8",
   "metadata": {},
   "source": [
    "### Le funzioni in python possono essere trattate come oggetti\n",
    "\n",
    "Ad esempio una funzione può essere passata come argomento di un'altra funzione"
   ]
  },
  {
   "cell_type": "code",
   "execution_count": 40,
   "id": "452a6e18",
   "metadata": {},
   "outputs": [
    {
     "data": {
      "text/plain": [
       "[3, 6, 9, 12, 15, 18, 21, 24, 27]"
      ]
     },
     "execution_count": 40,
     "metadata": {},
     "output_type": "execute_result"
    }
   ],
   "source": [
    "# ho una lista di interi: voglio creare una lista in cui applico una trasformazione agli interi\n",
    "#ad esempio: lista dei quadrati\n",
    "#lista dei doppi\n",
    "#lista dei tripli\n",
    "#etc.\n",
    "\n",
    "def quadrato(n):\n",
    "    return n**2\n",
    "\n",
    "def doppio(n):\n",
    "    return n*2\n",
    "\n",
    "def triplo(n):\n",
    "    return n*3\n",
    "\n",
    "lista=[1,2,3,4,5,6,7,8,9]\n",
    "\n",
    "def applica_trasformazione(lista, trasformazione):\n",
    "    return [trasformazione(el) for el in lista] #trasformazione può essere una qualunque delle funzioni\n",
    "\n",
    "#esempio, fare il triplo di ogni elemento in lista:\n",
    "applica_trasformazione(lista, triplo)"
   ]
  },
  {
   "cell_type": "code",
   "execution_count": 42,
   "id": "9c2bde32",
   "metadata": {},
   "outputs": [
    {
     "data": {
      "text/plain": [
       "[[1, 4, 9, 16, 25, 36, 49, 64, 81],\n",
       " [2, 4, 6, 8, 10, 12, 14, 16, 18],\n",
       " [3, 6, 9, 12, 15, 18, 21, 24, 27]]"
      ]
     },
     "execution_count": 42,
     "metadata": {},
     "output_type": "execute_result"
    }
   ],
   "source": [
    "def applica_trasformazioni(lista, trasformazione_1, trasformazione_2, trasformazione_3):\n",
    "    return [applica_trasformazione(lista, trasformazione_1), \n",
    "            applica_trasformazione(lista, trasformazione_2), \n",
    "            applica_trasformazione(lista, trasformazione_3)\n",
    "    ]\n",
    "\n",
    "applica_trasformazioni(lista, quadrato, doppio, triplo)"
   ]
  },
  {
   "cell_type": "markdown",
   "id": "8e87f533",
   "metadata": {},
   "source": [
    "Posso scrivere una versione GENERALIZZATA di applica_trasformazioni?\n",
    "verrà chiamata app_trasf"
   ]
  },
  {
   "cell_type": "code",
   "execution_count": 45,
   "id": "c1f89e5b",
   "metadata": {},
   "outputs": [
    {
     "name": "stdout",
     "output_type": "stream",
     "text": [
      "[[1, 4, 9, 16, 25, 36, 49, 64, 81], [3, 6, 9, 12, 15, 18, 21, 24, 27]]\n",
      "[[3, 6, 9, 12, 15, 18, 21, 24, 27]]\n",
      "[[1, 4, 9, 16, 25, 36, 49, 64, 81], [3, 6, 9, 12, 15, 18, 21, 24, 27], [2, 4, 6, 8, 10, 12, 14, 16, 18]]\n"
     ]
    }
   ],
   "source": [
    "def app_trasf(lista,*trasf):\n",
    "    return [\n",
    "        applica_trasformazione(lista,t)\n",
    "        for t in trasf\n",
    "    ]\n",
    "\n",
    "print(app_trasf(lista, quadrato, triplo))\n",
    "print(app_trasf(lista, triplo))\n",
    "print(app_trasf(lista, quadrato, triplo, doppio))"
   ]
  },
  {
   "cell_type": "code",
   "execution_count": 47,
   "id": "eb1850c8",
   "metadata": {},
   "outputs": [
    {
     "name": "stdout",
     "output_type": "stream",
     "text": [
      "[[4, 8, 12, 16, 20, 24, 28, 32, 36]]\n"
     ]
    }
   ],
   "source": [
    "print(app_trasf(lista, lambda n: n*4))"
   ]
  },
  {
   "cell_type": "code",
   "execution_count": 48,
   "id": "298540ba",
   "metadata": {},
   "outputs": [
    {
     "data": {
      "text/plain": [
       "function"
      ]
     },
     "execution_count": 48,
     "metadata": {},
     "output_type": "execute_result"
    }
   ],
   "source": [
    "type(lambda a:a) #è una funzione. un modo di definire le funzioni vere e proprie senza definirle"
   ]
  },
  {
   "cell_type": "markdown",
   "id": "ba9aca8e",
   "metadata": {},
   "source": [
    "### La funzione MAP\n",
    "Funzione di built-in che permette di mappare una funzione su una collezione (lista, tupla,..). Fa la stessa cosa di applica_trasformazione, solo che gli argomenti sono invertiti: prima definisci una funzione e poi definisci una lista."
   ]
  },
  {
   "cell_type": "code",
   "execution_count": 50,
   "id": "5b43005a",
   "metadata": {},
   "outputs": [
    {
     "data": {
      "text/plain": [
       "[1, 4, 9, 16, 25]"
      ]
     },
     "execution_count": 50,
     "metadata": {},
     "output_type": "execute_result"
    }
   ],
   "source": [
    "#vorrei applicare la funzione quadrato a tutti gli elementi di una lista\n",
    "map(quadrato, [1,2,3,4,5]) # non è bello da stampare così, simile alle zip, quindi lo trasformiamo in una lista\n",
    "list(map(quadrato,[1,2,3,4,5]))"
   ]
  },
  {
   "cell_type": "markdown",
   "id": "21aabd3c",
   "metadata": {},
   "source": [
    "Come vengono gestiti gli errori di runtime sul metodo map?"
   ]
  },
  {
   "cell_type": "code",
   "execution_count": 52,
   "id": "442a9d64",
   "metadata": {},
   "outputs": [
    {
     "name": "stdout",
     "output_type": "stream",
     "text": [
      "map fallisce se si verifica una eccezione runtime\n"
     ]
    }
   ],
   "source": [
    "def divisione(n):\n",
    "    return 10/n\n",
    "try:\n",
    "    list(map(divisione,[2,5,0,3]))\n",
    "except:\n",
    "    print('map fallisce se si verifica una eccezione runtime')"
   ]
  },
  {
   "cell_type": "code",
   "execution_count": 49,
   "id": "afe1aa6a",
   "metadata": {},
   "outputs": [
    {
     "data": {
      "text/plain": [
       "[1, 4, 9]"
      ]
     },
     "execution_count": 49,
     "metadata": {},
     "output_type": "execute_result"
    }
   ],
   "source": [
    "list(map(lambda x: x**2, [1,2,3]))"
   ]
  },
  {
   "cell_type": "markdown",
   "id": "6bd1c432",
   "metadata": {},
   "source": [
    "### Lambda function\n",
    "\n",
    "Le funzioni possono essere trattate come 'oggetti' e quindi passate anche come argomento ad altre funzioni.\n",
    "Questa feature di python risulta utile ad es. nell'uso di funzioni di mapping.\n",
    "Alle volte, durante queste operazioni, potremmo aver bisogno di utilizzare una funzione 'una tantum'. In questo caso non servirebbe definirla attraverso la parola chiave 'def', e non avrebbe senso darle alcun nome.\n",
    "\n",
    "Eliminiamo 'def', eliminiamo il 'nome funzione', cosa rimane?\n",
    "\n",
    "1. argomenti\n",
    "2. body\n",
    "3. eventuale ritorno\n",
    "\n",
    "Python offre una keyword: 'lambda'. Essa permette di definire una funzione anonima che verrà utilizzata al bisogno una tantum.\n",
    "\n",
    "Una lambda function dovrebbe essere molto breve (one line) e di facile lettura: concisa.\n",
    "\n",
    "sintassi:\n",
    "\n",
    "(keyword-->) lambda (argomenti-->) x (due punti): (il ritorno one-line)x**2\n",
    "\n",
    "N.b. NON si scrive il return esplicitamente, il return è implicito, non va scritto."
   ]
  },
  {
   "cell_type": "code",
   "execution_count": 53,
   "id": "08261deb",
   "metadata": {},
   "outputs": [
    {
     "data": {
      "text/plain": [
       "[0.1, 0.2, 0.3, 0.4]"
      ]
     },
     "execution_count": 53,
     "metadata": {},
     "output_type": "execute_result"
    }
   ],
   "source": [
    "def div_10(n):\n",
    "    return n/10\n",
    "\n",
    "list(map(lambda n: n/10, [1,2,3,4]))"
   ]
  },
  {
   "cell_type": "code",
   "execution_count": null,
   "id": "79adcb24",
   "metadata": {},
   "outputs": [],
   "source": [
    "list(map(lambda ,[1,2,3,4]))"
   ]
  },
  {
   "cell_type": "code",
   "execution_count": 54,
   "id": "5f99785b",
   "metadata": {},
   "outputs": [
    {
     "name": "stdout",
     "output_type": "stream",
     "text": [
      "4\n"
     ]
    }
   ],
   "source": [
    "a= lambda x: x**2 \n",
    "print(a(2))"
   ]
  },
  {
   "cell_type": "code",
   "execution_count": 55,
   "id": "80fdb891",
   "metadata": {},
   "outputs": [
    {
     "data": {
      "text/plain": [
       "4"
      ]
     },
     "execution_count": 55,
     "metadata": {},
     "output_type": "execute_result"
    }
   ],
   "source": [
    "def quadro(x):\n",
    "    return x**2\n",
    "\n",
    "quadro(2)"
   ]
  },
  {
   "cell_type": "code",
   "execution_count": 56,
   "id": "5bacb194",
   "metadata": {},
   "outputs": [
    {
     "data": {
      "text/plain": [
       "6"
      ]
     },
     "execution_count": 56,
     "metadata": {},
     "output_type": "execute_result"
    }
   ],
   "source": [
    "sum((1,2,3)) #la funzione sum è capace farlo su un iterabile, ma non su un numero a caso di argomenti\n"
   ]
  },
  {
   "cell_type": "code",
   "execution_count": null,
   "id": "30315a1d",
   "metadata": {},
   "outputs": [],
   "source": [
    "somma= lambda *n: sum(n) #funziona anche con più argomenti\n",
    "somma(1,2,3)"
   ]
  },
  {
   "cell_type": "code",
   "execution_count": 57,
   "id": "c57424ba",
   "metadata": {},
   "outputs": [
    {
     "data": {
      "text/plain": [
       "1024"
      ]
     },
     "execution_count": 57,
     "metadata": {},
     "output_type": "execute_result"
    }
   ],
   "source": [
    "def eleva(base,exp):\n",
    "    return base** exp\n",
    "\n",
    "eleva= lambda b,e: b**e\n",
    "\n",
    "eleva(2,10)"
   ]
  },
  {
   "cell_type": "markdown",
   "id": "bc13717d",
   "metadata": {},
   "source": [
    "## Gestione dei flussi 'eccezionali'\n",
    "\n",
    "Gestione diversificata degli 'errori'"
   ]
  },
  {
   "cell_type": "code",
   "execution_count": 6,
   "id": "693cbefd",
   "metadata": {},
   "outputs": [
    {
     "data": {
      "text/plain": [
       "2.0"
      ]
     },
     "execution_count": 6,
     "metadata": {},
     "output_type": "execute_result"
    }
   ],
   "source": [
    "2/1 #noerrore, 2/0 sì invece"
   ]
  },
  {
   "cell_type": "code",
   "execution_count": 7,
   "id": "a3386277",
   "metadata": {},
   "outputs": [
    {
     "ename": "ZeroDivisionError",
     "evalue": "division by zero",
     "output_type": "error",
     "traceback": [
      "\u001b[1;31m---------------------------------------------------------------------------\u001b[0m",
      "\u001b[1;31mZeroDivisionError\u001b[0m                         Traceback (most recent call last)",
      "Cell \u001b[1;32mIn [7], line 1\u001b[0m\n\u001b[1;32m----> 1\u001b[0m \u001b[38;5;241;43m2\u001b[39;49m\u001b[38;5;241;43m/\u001b[39;49m\u001b[38;5;241;43m0\u001b[39;49m\n",
      "\u001b[1;31mZeroDivisionError\u001b[0m: division by zero"
     ]
    }
   ],
   "source": [
    "try:\n",
    "    fattoriale(10000) \n",
    "    2/0\n",
    "except:\n",
    "    print('fail')\n",
    "    #in tutti i linguaggi di programmazione 2/0 non si può gestire questa casistica,\n",
    "#python lancia un errore \n",
    "#abbiamo più errori dentro il try"
   ]
  },
  {
   "cell_type": "code",
   "execution_count": 8,
   "id": "cf92097d",
   "metadata": {},
   "outputs": [
    {
     "ename": "ZeroDivisionError",
     "evalue": "division by zero",
     "output_type": "error",
     "traceback": [
      "\u001b[1;31m---------------------------------------------------------------------------\u001b[0m",
      "\u001b[1;31mZeroDivisionError\u001b[0m                         Traceback (most recent call last)",
      "Cell \u001b[1;32mIn [8], line 1\u001b[0m\n\u001b[1;32m----> 1\u001b[0m \u001b[38;5;241;43m2\u001b[39;49m\u001b[38;5;241;43m/\u001b[39;49m\u001b[38;5;241;43m0\u001b[39;49m\n",
      "\u001b[1;31mZeroDivisionError\u001b[0m: division by zero"
     ]
    }
   ],
   "source": [
    "2/0"
   ]
  },
  {
   "cell_type": "code",
   "execution_count": 10,
   "id": "2f0e4870",
   "metadata": {},
   "outputs": [
    {
     "ename": "NameError",
     "evalue": "name 'fattoriale' is not defined",
     "output_type": "error",
     "traceback": [
      "\u001b[1;31m---------------------------------------------------------------------------\u001b[0m",
      "\u001b[1;31mNameError\u001b[0m                                 Traceback (most recent call last)",
      "Cell \u001b[1;32mIn [10], line 4\u001b[0m\n\u001b[0;32m      1\u001b[0m \u001b[38;5;66;03m#per gestire i due errori in maniera separata/diversificata\u001b[39;00m\n\u001b[0;32m      2\u001b[0m \u001b[38;5;66;03m# è consigliabile farlo sempre\u001b[39;00m\n\u001b[0;32m      3\u001b[0m \u001b[38;5;28;01mtry\u001b[39;00m:\n\u001b[1;32m----> 4\u001b[0m     \u001b[43mfattoriale\u001b[49m(\u001b[38;5;241m1000\u001b[39m)\n\u001b[0;32m      5\u001b[0m     \u001b[38;5;241m2\u001b[39m\u001b[38;5;241m/\u001b[39m\u001b[38;5;241m0\u001b[39m\n\u001b[0;32m      6\u001b[0m \u001b[38;5;28;01mexcept\u001b[39;00m \u001b[38;5;167;01mZeroDivisionError\u001b[39;00m: \u001b[38;5;66;03m#qui scrivo il tipo di errore che mi da 2/0\u001b[39;00m\n",
      "\u001b[1;31mNameError\u001b[0m: name 'fattoriale' is not defined"
     ]
    }
   ],
   "source": [
    "#per gestire i due errori in maniera separata/diversificata\n",
    "# è consigliabile farlo sempre: gli errori comodo che siano parlanti, più facili da risolvere\n",
    "try:\n",
    "    fattoriale(1000)\n",
    "    2/0\n",
    "except ZeroDivisionError: #qui scrivo il tipo di errore che mi da 2/0\n",
    "    print('fail: impossibile dividere per 0')\n",
    "except RecursionError:\n",
    "    print('fail') #qui scrivo il tipo di errore che mi dà il fattoriale"
   ]
  },
  {
   "cell_type": "markdown",
   "id": "ff2a8f65",
   "metadata": {},
   "source": [
    "A livello di classificazione si possono identificare 3 macro categorie di eccezioni, i.e eventi che portano alla mancata esecuzione corretta di un programma (questo vero in generale non solo per python).\n",
    "\n",
    "1. eccezioni che avvengono a 'runtime'\n",
    "2. eccezioni programmatiche\n",
    "3. eccezioni sistemiche"
   ]
  },
  {
   "cell_type": "markdown",
   "id": "9be8685c",
   "metadata": {},
   "source": [
    "### Eccezioni Runtime\n",
    "\n",
    "Non possono essere previste prima dell'esecuzione del programma (perché avvengono secondo lo stato raggiunto dal programma a runtime, quindi in esecuzione).\n",
    "\n",
    "es: divisione per zero (anche se questo a volte può finire nelle eccezioni programmatiche, come NameError (se chiamo ad esempio una funzione che non ho definito prima, ad es: ciao(3), a runtime oppure programmabile a seconda dei linguaggi in questo caso),\n",
    "\n",
    "accesso ad una variabile che è stata dichiarata ma non inizializzata"
   ]
  },
  {
   "cell_type": "code",
   "execution_count": 13,
   "id": "01e0b6dc",
   "metadata": {},
   "outputs": [
    {
     "ename": "NameError",
     "evalue": "name 'ciao' is not defined",
     "output_type": "error",
     "traceback": [
      "\u001b[1;31m---------------------------------------------------------------------------\u001b[0m",
      "\u001b[1;31mNameError\u001b[0m                                 Traceback (most recent call last)",
      "Cell \u001b[1;32mIn [13], line 1\u001b[0m\n\u001b[1;32m----> 1\u001b[0m \u001b[43mciao\u001b[49m(\u001b[38;5;241m3\u001b[39m)\n",
      "\u001b[1;31mNameError\u001b[0m: name 'ciao' is not defined"
     ]
    }
   ],
   "source": [
    "#errore NameError\n",
    "ciao(3)"
   ]
  },
  {
   "cell_type": "code",
   "execution_count": 12,
   "id": "203c6752",
   "metadata": {},
   "outputs": [
    {
     "ename": "AttributeError",
     "evalue": "'NoneType' object has no attribute 'a'",
     "output_type": "error",
     "traceback": [
      "\u001b[1;31m---------------------------------------------------------------------------\u001b[0m",
      "\u001b[1;31mAttributeError\u001b[0m                            Traceback (most recent call last)",
      "Cell \u001b[1;32mIn [12], line 2\u001b[0m\n\u001b[0;32m      1\u001b[0m n\u001b[38;5;241m=\u001b[39m\u001b[38;5;28;01mNone\u001b[39;00m\n\u001b[1;32m----> 2\u001b[0m \u001b[43mn\u001b[49m\u001b[38;5;241;43m.\u001b[39;49m\u001b[43ma\u001b[49m\n",
      "\u001b[1;31mAttributeError\u001b[0m: 'NoneType' object has no attribute 'a'"
     ]
    }
   ],
   "source": [
    "#errore accesso ad una variabile che è stata dichiarata ma non inizializzata\n",
    "n=None\n",
    "n.a"
   ]
  },
  {
   "cell_type": "markdown",
   "id": "9e9e6c59",
   "metadata": {},
   "source": [
    "### Eccezioni Programmatiche\n",
    "\n",
    "Sono eccezioni che possono essere previste (e quindi si tende a includerle in blocchi try-except).\n",
    "Esempio: il nostro programma python legge da un file sul desktop---> il file non è presente.\n",
    "\n",
    "Spesso ci sono casi borderline con il primo tipo di eccezioni."
   ]
  },
  {
   "cell_type": "markdown",
   "id": "8986532a",
   "metadata": {},
   "source": [
    "### Eccezioni Sistemiche\n",
    "\n",
    "La natura di queste eccezioni non è dovuta al codice. Quindi il codice va bene, funziona. Vi è la mancata compatibilità con i sistemi (ad esempio hardware). Ad es. installo un programma che ha bisogno di 100MB di ram su una macchina che ha 32 MB di ram."
   ]
  },
  {
   "cell_type": "markdown",
   "id": "eb3bc99f",
   "metadata": {},
   "source": [
    "Ricordiamo che le eccezioni sistemiche non vengono rilevate dall'esecutore del codice (esempio interprete python), bensì sono rilevate a livello di sistema.\n",
    "\n",
    "Ad esempio è molto probabile che ottenendo un errore di Kernel nel notebook non verrà segnalato mostrando la stack trace (a.k.a. (=anche detta) Traceback).\n",
    "\n",
    "Dove è più probabile che venga segnalato un errore sistemico? Nel Prompt dei comandi usati per avviare notebook.\n"
   ]
  },
  {
   "cell_type": "markdown",
   "id": "407803cd",
   "metadata": {},
   "source": [
    "## Assertion \n",
    "\n",
    "A volte è necessario testare il comportamento di alcune routine, nel caso in cui gli sviluppi siano inaspettati potremmo voler interrompere il programma."
   ]
  },
  {
   "cell_type": "code",
   "execution_count": null,
   "id": "826513e8",
   "metadata": {},
   "outputs": [],
   "source": [
    "assert 1 in [1,2,3,4,5] #assert seguita da un'espressione booleana, se vera ok: se no dà errore"
   ]
  },
  {
   "cell_type": "code",
   "execution_count": 58,
   "id": "7ec875b2",
   "metadata": {},
   "outputs": [
    {
     "ename": "AssertionError",
     "evalue": "",
     "output_type": "error",
     "traceback": [
      "\u001b[1;31m---------------------------------------------------------------------------\u001b[0m",
      "\u001b[1;31mAssertionError\u001b[0m                            Traceback (most recent call last)",
      "Cell \u001b[1;32mIn [58], line 1\u001b[0m\n\u001b[1;32m----> 1\u001b[0m \u001b[38;5;28;01massert\u001b[39;00m \u001b[38;5;241m8\u001b[39m \u001b[38;5;129;01min\u001b[39;00m [\u001b[38;5;241m1\u001b[39m,\u001b[38;5;241m2\u001b[39m,\u001b[38;5;241m3\u001b[39m,\u001b[38;5;241m4\u001b[39m,\u001b[38;5;241m5\u001b[39m]\n",
      "\u001b[1;31mAssertionError\u001b[0m: "
     ]
    }
   ],
   "source": [
    "assert 8 in [1,2,3,4,5]"
   ]
  },
  {
   "cell_type": "code",
   "execution_count": 3,
   "id": "102dbf87",
   "metadata": {},
   "outputs": [],
   "source": [
    "is_prime= lambda n:[x for x in range(2,n) if n%x==0] ==[] and n>1 #la list compren indica quando NON è un numero primo, quindi deve essere la lista vuota\n",
    "\n",
    "#per numeri con parte decimale ritornare falso\n",
    "def test_prime():\n",
    "    assert is_prime(2)\n",
    "    assert is_prime(3)\n",
    "    assert not is_prime(4)\n",
    "    \n",
    "    \n",
    "is_prime= lambda n: n-int(n)==0 and n>1 and [x for x in range(2,int(n)) if n%x==0]==[]  #non ci devono essere divisori se non se stesso e zero\n",
    "#aggiungendo questa prima condizione passiamo solo i numeri interi e avendo fatto questa cosa siamo tranquilli nel castare n a numero primo\n",
    "#per numeri con parte decimale ritornare falso\n",
    "def test_prime():\n",
    "    assert is_prime(2)\n",
    "    assert is_prime(3)\n",
    "    assert not is_prime(4)\n",
    "    assert not is_prime(-1)\n",
    "    assert is_prime(19.0)\n",
    "    assert not is_prime(17.2)\n",
    "                                                              \n",
    "test_prime()                                                            "
   ]
  },
  {
   "cell_type": "code",
   "execution_count": 4,
   "id": "45ef3c02",
   "metadata": {},
   "outputs": [],
   "source": [
    "#questo controlla che la parte decimale sia uguale a zero\n",
    "n=17.2 \n",
    "int_n=int(n)\n",
    "#assert n-int_n==0  ----> mi dà errore di assert: Assertion Error perchè è un valore Falso"
   ]
  },
  {
   "cell_type": "markdown",
   "id": "d8b2354e",
   "metadata": {},
   "source": [
    "## Built-ins\n",
    "Python ha molte funzioni di built-in:"
   ]
  },
  {
   "cell_type": "code",
   "execution_count": 59,
   "id": "49bd0594",
   "metadata": {},
   "outputs": [
    {
     "data": {
      "text/plain": [
       "<module 'builtins' (built-in)>"
      ]
     },
     "execution_count": 59,
     "metadata": {},
     "output_type": "execute_result"
    }
   ],
   "source": [
    "__builtins__ #builtins non ha bisogno di essere importato, è un modulo (come lo era il dizionario math per esempio)"
   ]
  },
  {
   "cell_type": "code",
   "execution_count": 60,
   "id": "2733203f",
   "metadata": {},
   "outputs": [
    {
     "data": {
      "text/plain": [
       "['ArithmeticError',\n",
       " 'AssertionError',\n",
       " 'AttributeError',\n",
       " 'BaseException',\n",
       " 'BlockingIOError',\n",
       " 'BrokenPipeError',\n",
       " 'BufferError',\n",
       " 'BytesWarning',\n",
       " 'ChildProcessError',\n",
       " 'ConnectionAbortedError',\n",
       " 'ConnectionError',\n",
       " 'ConnectionRefusedError',\n",
       " 'ConnectionResetError',\n",
       " 'DeprecationWarning',\n",
       " 'EOFError',\n",
       " 'Ellipsis',\n",
       " 'EncodingWarning',\n",
       " 'EnvironmentError',\n",
       " 'Exception',\n",
       " 'False',\n",
       " 'FileExistsError',\n",
       " 'FileNotFoundError',\n",
       " 'FloatingPointError',\n",
       " 'FutureWarning',\n",
       " 'GeneratorExit',\n",
       " 'IOError',\n",
       " 'ImportError',\n",
       " 'ImportWarning',\n",
       " 'IndentationError',\n",
       " 'IndexError',\n",
       " 'InterruptedError',\n",
       " 'IsADirectoryError',\n",
       " 'KeyError',\n",
       " 'KeyboardInterrupt',\n",
       " 'LookupError',\n",
       " 'MemoryError',\n",
       " 'ModuleNotFoundError',\n",
       " 'NameError',\n",
       " 'None',\n",
       " 'NotADirectoryError',\n",
       " 'NotImplemented',\n",
       " 'NotImplementedError',\n",
       " 'OSError',\n",
       " 'OverflowError',\n",
       " 'PendingDeprecationWarning',\n",
       " 'PermissionError',\n",
       " 'ProcessLookupError',\n",
       " 'RecursionError',\n",
       " 'ReferenceError',\n",
       " 'ResourceWarning',\n",
       " 'RuntimeError',\n",
       " 'RuntimeWarning',\n",
       " 'StopAsyncIteration',\n",
       " 'StopIteration',\n",
       " 'SyntaxError',\n",
       " 'SyntaxWarning',\n",
       " 'SystemError',\n",
       " 'SystemExit',\n",
       " 'TabError',\n",
       " 'TimeoutError',\n",
       " 'True',\n",
       " 'TypeError',\n",
       " 'UnboundLocalError',\n",
       " 'UnicodeDecodeError',\n",
       " 'UnicodeEncodeError',\n",
       " 'UnicodeError',\n",
       " 'UnicodeTranslateError',\n",
       " 'UnicodeWarning',\n",
       " 'UserWarning',\n",
       " 'ValueError',\n",
       " 'Warning',\n",
       " 'WindowsError',\n",
       " 'ZeroDivisionError',\n",
       " '__IPYTHON__',\n",
       " '__build_class__',\n",
       " '__debug__',\n",
       " '__doc__',\n",
       " '__import__',\n",
       " '__loader__',\n",
       " '__name__',\n",
       " '__package__',\n",
       " '__spec__',\n",
       " 'abs',\n",
       " 'aiter',\n",
       " 'all',\n",
       " 'anext',\n",
       " 'any',\n",
       " 'ascii',\n",
       " 'bin',\n",
       " 'bool',\n",
       " 'breakpoint',\n",
       " 'bytearray',\n",
       " 'bytes',\n",
       " 'callable',\n",
       " 'chr',\n",
       " 'classmethod',\n",
       " 'compile',\n",
       " 'complex',\n",
       " 'copyright',\n",
       " 'credits',\n",
       " 'delattr',\n",
       " 'dict',\n",
       " 'dir',\n",
       " 'display',\n",
       " 'divmod',\n",
       " 'enumerate',\n",
       " 'eval',\n",
       " 'exec',\n",
       " 'execfile',\n",
       " 'filter',\n",
       " 'float',\n",
       " 'format',\n",
       " 'frozenset',\n",
       " 'get_ipython',\n",
       " 'getattr',\n",
       " 'globals',\n",
       " 'hasattr',\n",
       " 'hash',\n",
       " 'help',\n",
       " 'hex',\n",
       " 'id',\n",
       " 'input',\n",
       " 'int',\n",
       " 'isinstance',\n",
       " 'issubclass',\n",
       " 'iter',\n",
       " 'len',\n",
       " 'license',\n",
       " 'list',\n",
       " 'locals',\n",
       " 'map',\n",
       " 'max',\n",
       " 'memoryview',\n",
       " 'min',\n",
       " 'next',\n",
       " 'object',\n",
       " 'oct',\n",
       " 'open',\n",
       " 'ord',\n",
       " 'pow',\n",
       " 'print',\n",
       " 'property',\n",
       " 'range',\n",
       " 'repr',\n",
       " 'reversed',\n",
       " 'round',\n",
       " 'runfile',\n",
       " 'set',\n",
       " 'setattr',\n",
       " 'slice',\n",
       " 'sorted',\n",
       " 'staticmethod',\n",
       " 'str',\n",
       " 'sum',\n",
       " 'super',\n",
       " 'tuple',\n",
       " 'type',\n",
       " 'vars',\n",
       " 'zip']"
      ]
     },
     "execution_count": 60,
     "metadata": {},
     "output_type": "execute_result"
    }
   ],
   "source": [
    "dir(__builtins__) #così vediamo tutte le funzioni di built-in"
   ]
  },
  {
   "cell_type": "code",
   "execution_count": 61,
   "id": "6ee9a810",
   "metadata": {},
   "outputs": [
    {
     "name": "stdout",
     "output_type": "stream",
     "text": [
      "\n",
      "a=2\n",
      "b=3\n",
      "somma= lambda+n: sum(n)\n",
      "print(somma(a,b))\n",
      "\n"
     ]
    }
   ],
   "source": [
    "programma = \"\"\"\n",
    "a=2\n",
    "b=3\n",
    "somma= lambda+n: sum(n)\n",
    "print(somma(a,b))\n",
    "\"\"\"\n",
    "print(programma)"
   ]
  },
  {
   "cell_type": "code",
   "execution_count": 63,
   "id": "eb58d188",
   "metadata": {},
   "outputs": [
    {
     "name": "stdout",
     "output_type": "stream",
     "text": [
      "5\n"
     ]
    }
   ],
   "source": [
    "a=2\n",
    "b=3\n",
    "somma= lambda *n: sum(n)\n",
    "print(somma(a,b))"
   ]
  },
  {
   "cell_type": "code",
   "execution_count": 64,
   "id": "9b7feb82",
   "metadata": {},
   "outputs": [
    {
     "data": {
      "text/plain": [
       "367997995228681042"
      ]
     },
     "execution_count": 64,
     "metadata": {},
     "output_type": "execute_result"
    }
   ],
   "source": [
    "hash('ciao')"
   ]
  },
  {
   "cell_type": "code",
   "execution_count": 65,
   "id": "6489169d",
   "metadata": {},
   "outputs": [
    {
     "data": {
      "text/plain": [
       "int"
      ]
     },
     "execution_count": 65,
     "metadata": {},
     "output_type": "execute_result"
    }
   ],
   "source": [
    "type(hash(''))"
   ]
  },
  {
   "cell_type": "code",
   "execution_count": 66,
   "id": "ba00f9eb",
   "metadata": {},
   "outputs": [
    {
     "data": {
      "text/plain": [
       "'0x73d204a55f4e362e'"
      ]
     },
     "execution_count": 66,
     "metadata": {},
     "output_type": "execute_result"
    }
   ],
   "source": [
    "#convertiamo un intero in un esadecimale\n",
    "hex(hash('1'))"
   ]
  },
  {
   "cell_type": "code",
   "execution_count": 67,
   "id": "73429dc7",
   "metadata": {},
   "outputs": [
    {
     "name": "stdout",
     "output_type": "stream",
     "text": [
      "Help on class enumerate in module builtins:\n",
      "\n",
      "class enumerate(object)\n",
      " |  enumerate(iterable, start=0)\n",
      " |  \n",
      " |  Return an enumerate object.\n",
      " |  \n",
      " |    iterable\n",
      " |      an object supporting iteration\n",
      " |  \n",
      " |  The enumerate object yields pairs containing a count (from start, which\n",
      " |  defaults to zero) and a value yielded by the iterable argument.\n",
      " |  \n",
      " |  enumerate is useful for obtaining an indexed list:\n",
      " |      (0, seq[0]), (1, seq[1]), (2, seq[2]), ...\n",
      " |  \n",
      " |  Methods defined here:\n",
      " |  \n",
      " |  __getattribute__(self, name, /)\n",
      " |      Return getattr(self, name).\n",
      " |  \n",
      " |  __iter__(self, /)\n",
      " |      Implement iter(self).\n",
      " |  \n",
      " |  __next__(self, /)\n",
      " |      Implement next(self).\n",
      " |  \n",
      " |  __reduce__(...)\n",
      " |      Return state information for pickling.\n",
      " |  \n",
      " |  ----------------------------------------------------------------------\n",
      " |  Class methods defined here:\n",
      " |  \n",
      " |  __class_getitem__(...) from builtins.type\n",
      " |      See PEP 585\n",
      " |  \n",
      " |  ----------------------------------------------------------------------\n",
      " |  Static methods defined here:\n",
      " |  \n",
      " |  __new__(*args, **kwargs) from builtins.type\n",
      " |      Create and return a new object.  See help(type) for accurate signature.\n",
      "\n"
     ]
    }
   ],
   "source": [
    "help(enumerate)"
   ]
  },
  {
   "cell_type": "markdown",
   "id": "75fa6b23",
   "metadata": {},
   "source": [
    "## all() e any()\n",
    "Vediamo l'utilizzo di un paio di funzioni di built-in interessanti.\n",
    "all() e any() sono funzioni di built-in che hanno un ritorno booleano.\n",
    "\n",
    "- all--> prende in ingresso una collezione di booleani e ritorna True se tutti sono True\n",
    "-any--> prende in ingresso una collezione di boolean e ritorna True se ALMENO UNO è True"
   ]
  },
  {
   "cell_type": "code",
   "execution_count": 8,
   "id": "e64f133d",
   "metadata": {},
   "outputs": [
    {
     "name": "stdout",
     "output_type": "stream",
     "text": [
      "[True, True, True, True, True, True]\n"
     ]
    },
    {
     "ename": "AssertionError",
     "evalue": "",
     "output_type": "error",
     "traceback": [
      "\u001b[1;31m---------------------------------------------------------------------------\u001b[0m",
      "\u001b[1;31mAssertionError\u001b[0m                            Traceback (most recent call last)",
      "Cell \u001b[1;32mIn [8], line 5\u001b[0m\n\u001b[0;32m      1\u001b[0m \u001b[38;5;66;03m#abbiamo una lista di numeri tutti primi, quindi chiamando is_prime su questi numeri mi dovrebbe venire una lista di True:\u001b[39;00m\n\u001b[0;32m      3\u001b[0m \u001b[38;5;28mprint\u001b[39m([is_prime(n) \u001b[38;5;28;01mfor\u001b[39;00m n \u001b[38;5;129;01min\u001b[39;00m [\u001b[38;5;241m2\u001b[39m,\u001b[38;5;241m3\u001b[39m,\u001b[38;5;241m5\u001b[39m,\u001b[38;5;241m7\u001b[39m,\u001b[38;5;241m19\u001b[39m,\u001b[38;5;241m23\u001b[39m]])\n\u001b[1;32m----> 5\u001b[0m \u001b[38;5;28;01massert\u001b[39;00m \u001b[38;5;28mall\u001b[39m([is_prime(n) \u001b[38;5;28;01mfor\u001b[39;00m n \u001b[38;5;129;01min\u001b[39;00m [\u001b[38;5;241m2\u001b[39m,\u001b[38;5;241m3\u001b[39m,\u001b[38;5;241m4\u001b[39m,\u001b[38;5;241m5\u001b[39m,\u001b[38;5;241m7\u001b[39m,\u001b[38;5;241m19\u001b[39m,\u001b[38;5;241m23\u001b[39m]])\n\u001b[0;32m      6\u001b[0m \u001b[38;5;28;01massert\u001b[39;00m \u001b[38;5;129;01mnot\u001b[39;00m \u001b[38;5;28mall\u001b[39m([is_prime(n) \u001b[38;5;28;01mfor\u001b[39;00m n \u001b[38;5;129;01min\u001b[39;00m [\u001b[38;5;241m2\u001b[39m,\u001b[38;5;241m3\u001b[39m,\u001b[38;5;241m5\u001b[39m,\u001b[38;5;241m7\u001b[39m,\u001b[38;5;241m19\u001b[39m,\u001b[38;5;241m23\u001b[39m,\u001b[38;5;241m4\u001b[39m]])\n\u001b[0;32m      8\u001b[0m \u001b[38;5;28;01massert\u001b[39;00m \u001b[38;5;28many\u001b[39m([is_prime(n) \u001b[38;5;28;01mfor\u001b[39;00m n \u001b[38;5;129;01min\u001b[39;00m [\u001b[38;5;241m4\u001b[39m,\u001b[38;5;241m6\u001b[39m,\u001b[38;5;241m8\u001b[39m,\u001b[38;5;241m9\u001b[39m,\u001b[38;5;241m11\u001b[39m]])\n",
      "\u001b[1;31mAssertionError\u001b[0m: "
     ]
    }
   ],
   "source": [
    " #abbiamo una lista di numeri tutti primi, quindi chiamando is_prime su questi numeri mi dovrebbe venire una lista di True:\n",
    "    \n",
    "print([is_prime(n) for n in [2,3,5,7,19,23]])\n",
    "    \n",
    "assert all([is_prime(n) for n in [2,3,4,5,7,19,23]])\n",
    "assert not all([is_prime(n) for n in [2,3,5,7,19,23,4]])\n",
    "\n",
    "assert any([is_prime(n) for n in [4,6,8,9,11]])\n",
    "assert not any([is_prime(n) for n in [4,6,8]])"
   ]
  },
  {
   "cell_type": "markdown",
   "id": "f18a7718",
   "metadata": {},
   "source": [
    "## Funzioni come oggetti\n",
    "\n",
    "In python le funzioni possono essere trattate come oggetti. Possiamo salvarle in variabili infatti. Possiamo assegnare una funzione a una variabile e usare questa variabile dentro altre funzioni. \n",
    "\n",
    "Quindi: le funzioni possono essere salvate in variabili e anche passarle ad altre funzioni come argomento"
   ]
  }
 ],
 "metadata": {
  "kernelspec": {
   "display_name": "Python 3 (ipykernel)",
   "language": "python",
   "name": "python3"
  },
  "language_info": {
   "codemirror_mode": {
    "name": "ipython",
    "version": 3
   },
   "file_extension": ".py",
   "mimetype": "text/x-python",
   "name": "python",
   "nbconvert_exporter": "python",
   "pygments_lexer": "ipython3",
   "version": "3.10.7"
  }
 },
 "nbformat": 4,
 "nbformat_minor": 5
}
