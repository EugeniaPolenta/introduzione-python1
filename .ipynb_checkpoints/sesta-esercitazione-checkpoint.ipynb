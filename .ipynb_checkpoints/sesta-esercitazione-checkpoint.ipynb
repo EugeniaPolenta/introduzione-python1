{
 "cells": [
  {
   "cell_type": "markdown",
   "id": "e4e0a4e7",
   "metadata": {},
   "source": [
    "## Numeri in python\n",
    "Python utilizza oggetti complessi per la gestione dei numeri, a differenza quindi di altri linguaggi di programmazione la memoria è gestita \"dinamicamente\", ovvero per molti tipi di dati numerici non ci sono limiti architetturali di memoria (se non quelli della macchina). Per esempio possiamo fare 2 alla diecimila"
   ]
  },
  {
   "cell_type": "code",
   "execution_count": 1,
   "id": "6e5dd765",
   "metadata": {},
   "outputs": [
    {
     "data": {
      "text/plain": [
       "float"
      ]
     },
     "execution_count": 1,
     "metadata": {},
     "output_type": "execute_result"
    }
   ],
   "source": [
    "big_int=2**10000\n",
    "type(1.5)"
   ]
  },
  {
   "cell_type": "markdown",
   "id": "6e4a3636",
   "metadata": {},
   "source": [
    "I numeri con parte decimale sono trattati in maniera diversa dei numeri interi. Cambia anche il tipo: 1.5 ci dà come tipo float: è uno di quei dati di python puramente primitivo, ed0, essendo un dato primitivo, ci sono dei limiti di memoria."
   ]
  },
  {
   "cell_type": "markdown",
   "id": "eeef3a7d",
   "metadata": {},
   "source": [
    "Possibili codifiche per numeri in Python"
   ]
  },
  {
   "cell_type": "code",
   "execution_count": 2,
   "id": "c489c539",
   "metadata": {},
   "outputs": [
    {
     "data": {
      "text/plain": [
       "1"
      ]
     },
     "execution_count": 2,
     "metadata": {},
     "output_type": "execute_result"
    }
   ],
   "source": [
    "#aggiungendo 0x indico una codifica esadecimale\n",
    "0x1"
   ]
  },
  {
   "cell_type": "code",
   "execution_count": 3,
   "id": "8f42ecd0",
   "metadata": {},
   "outputs": [
    {
     "data": {
      "text/plain": [
       "16"
      ]
     },
     "execution_count": 3,
     "metadata": {},
     "output_type": "execute_result"
    }
   ],
   "source": [
    "0x10"
   ]
  },
  {
   "cell_type": "code",
   "execution_count": 5,
   "id": "9176fb00",
   "metadata": {},
   "outputs": [
    {
     "name": "stdout",
     "output_type": "stream",
     "text": [
      "16\n"
     ]
    }
   ],
   "source": [
    "#aggiungendo 0b indico codifica binaria\n",
    "print(0b10000)"
   ]
  },
  {
   "cell_type": "code",
   "execution_count": 6,
   "id": "adc1302f",
   "metadata": {},
   "outputs": [
    {
     "name": "stdout",
     "output_type": "stream",
     "text": [
      "8\n"
     ]
    }
   ],
   "source": [
    "#aggiungendo 0o indico codifica ottale\n",
    "print(0o10)"
   ]
  },
  {
   "cell_type": "markdown",
   "id": "1abdb949",
   "metadata": {},
   "source": [
    "Python supporta nativamente i numeri complessi"
   ]
  },
  {
   "cell_type": "code",
   "execution_count": 8,
   "id": "cbd9ae5b",
   "metadata": {},
   "outputs": [
    {
     "name": "stdout",
     "output_type": "stream",
     "text": [
      "<class 'complex'>\n"
     ]
    }
   ],
   "source": [
    "c= 1j\n",
    "# la variabile complessa si indica con j, per non farla passare come variabile anche se ridondante scriviamo 1j\n",
    "print(type(c))"
   ]
  },
  {
   "cell_type": "code",
   "execution_count": 11,
   "id": "b873c7f4",
   "metadata": {},
   "outputs": [
    {
     "name": "stdout",
     "output_type": "stream",
     "text": [
      "(2+1j) <class 'complex'>\n",
      "2.0 1.0\n",
      "(1+5j)\n",
      "(2+11j)\n"
     ]
    }
   ],
   "source": [
    "c=2+1j\n",
    "print (c, type(c))\n",
    "print(c.real, c.imag) #per avere parte reale e parte immaginaria di un numero\n",
    "#le operazioni matematiche fondamentali sono supportate da questa classe, per es:\n",
    "c_2=-1+4j\n",
    "print(c+c_2)\n",
    "print(c**3)"
   ]
  },
  {
   "cell_type": "code",
   "execution_count": 14,
   "id": "ef199512",
   "metadata": {},
   "outputs": [
    {
     "name": "stdout",
     "output_type": "stream",
     "text": [
      "<class 'int'>\n",
      "(6.123233995736766e-17+1j) <class 'complex'>\n"
     ]
    }
   ],
   "source": [
    "print(type(-1)) \n",
    "print((-1)**.5, type((-1)**.5))"
   ]
  },
  {
   "cell_type": "markdown",
   "id": "12336bb6",
   "metadata": {},
   "source": [
    "Vediamo i tipi di dati True, False e None. I primi due sono i tipi di valori che un'espressione boleana può assumere. "
   ]
  },
  {
   "cell_type": "code",
   "execution_count": 16,
   "id": "2ad64e40",
   "metadata": {},
   "outputs": [
    {
     "data": {
      "text/plain": [
       "[24, 27, 30, 33, 36, 39, 42, 45, 48, 51]"
      ]
     },
     "execution_count": 16,
     "metadata": {},
     "output_type": "execute_result"
    }
   ],
   "source": [
    "[n for n in range(23,52) if n %3==0] #metto tutti gli n nel range.. se n è un multiplo intero di 3\n",
    "#posso usare l'if alla fine per filtrare, se lo metto all'inizio allora devo mettere un else dopo"
   ]
  },
  {
   "cell_type": "code",
   "execution_count": 17,
   "id": "255de688",
   "metadata": {},
   "outputs": [
    {
     "data": {
      "text/plain": [
       "[24, -27, 30, -33, 36, -39, 42, -45, 48, -51]"
      ]
     },
     "execution_count": 17,
     "metadata": {},
     "output_type": "execute_result"
    }
   ],
   "source": [
    "[(n if n%2 ==0 else -n) for n in range(23,52) if n%3==0]\n",
    "#in questo caso l'else è obbligatorio"
   ]
  },
  {
   "cell_type": "markdown",
   "id": "54c8c8d0",
   "metadata": {},
   "source": [
    "è possibile salvare in una variabile i valori booleani (true e false) direttamente."
   ]
  },
  {
   "cell_type": "code",
   "execution_count": 18,
   "id": "fc317eac",
   "metadata": {},
   "outputs": [],
   "source": [
    "a= True\n",
    "b= False #attenzione no tra '', se no sarebbe una stringa, iniziano con lettera maiuscola"
   ]
  },
  {
   "cell_type": "markdown",
   "id": "b5b393d8",
   "metadata": {},
   "source": [
    "In alcune occasioni la computazione porta ad avere dei valori mancanti. In alcuni casi è possibile usare il valore None per indicare la mancanza di un valore."
   ]
  },
  {
   "cell_type": "code",
   "execution_count": 21,
   "id": "1e0abdd6",
   "metadata": {},
   "outputs": [],
   "source": [
    "a=10\n",
    "b=0\n",
    "try:\n",
    "    c=a/b\n",
    "except:\n",
    "    c=None"
   ]
  },
  {
   "cell_type": "code",
   "execution_count": null,
   "id": "cfac8049",
   "metadata": {},
   "outputs": [],
   "source": []
  }
 ],
 "metadata": {
  "kernelspec": {
   "display_name": "Python 3 (ipykernel)",
   "language": "python",
   "name": "python3"
  },
  "language_info": {
   "codemirror_mode": {
    "name": "ipython",
    "version": 3
   },
   "file_extension": ".py",
   "mimetype": "text/x-python",
   "name": "python",
   "nbconvert_exporter": "python",
   "pygments_lexer": "ipython3",
   "version": "3.10.7"
  }
 },
 "nbformat": 4,
 "nbformat_minor": 5
}
