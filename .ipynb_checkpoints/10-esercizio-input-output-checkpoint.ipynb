{
 "cells": [
  {
   "cell_type": "markdown",
   "id": "36b6ac87",
   "metadata": {},
   "source": [
    "Metodi e tecniche standard per la gestione di input e output IO"
   ]
  },
  {
   "cell_type": "code",
   "execution_count": 1,
   "id": "35d4a149",
   "metadata": {},
   "outputs": [
    {
     "name": "stdout",
     "output_type": "stream",
     "text": [
      "Nome:Maria, Cognome: Giovanna, Mail:maria@giovanna.com\n"
     ]
    }
   ],
   "source": [
    "print('Nome:{0}, Cognome: {1}, Mail:{2}'.format('Maria', 'Giovanna', 'maria@giovanna.com'))"
   ]
  },
  {
   "cell_type": "code",
   "execution_count": 2,
   "id": "d3592d8b",
   "metadata": {},
   "outputs": [
    {
     "name": "stdout",
     "output_type": "stream",
     "text": [
      "Nome: eug, Cognome: pole\n"
     ]
    }
   ],
   "source": [
    "n='eug'\n",
    "c='pole'\n",
    "print(f'Nome: {n}, Cognome: {c}')"
   ]
  },
  {
   "cell_type": "code",
   "execution_count": 3,
   "id": "9a6507f2",
   "metadata": {},
   "outputs": [
    {
     "data": {
      "text/plain": [
       "str"
      ]
     },
     "execution_count": 3,
     "metadata": {},
     "output_type": "execute_result"
    }
   ],
   "source": [
    "type('')"
   ]
  },
  {
   "cell_type": "code",
   "execution_count": 4,
   "id": "8be54ef9",
   "metadata": {},
   "outputs": [
    {
     "data": {
      "text/plain": [
       "str"
      ]
     },
     "execution_count": 4,
     "metadata": {},
     "output_type": "execute_result"
    }
   ],
   "source": [
    "type(f'')"
   ]
  },
  {
   "cell_type": "markdown",
   "id": "fd1f0cae",
   "metadata": {},
   "source": [
    "### Lettura di file"
   ]
  },
  {
   "cell_type": "code",
   "execution_count": 5,
   "id": "07b54348",
   "metadata": {},
   "outputs": [],
   "source": [
    "f= open('prova.txt', 'r')"
   ]
  },
  {
   "cell_type": "code",
   "execution_count": 6,
   "id": "416d4c14",
   "metadata": {},
   "outputs": [
    {
     "name": "stdout",
     "output_type": "stream",
     "text": [
      "Help on TextIOWrapper object:\n",
      "\n",
      "class TextIOWrapper(_TextIOBase)\n",
      " |  TextIOWrapper(buffer, encoding=None, errors=None, newline=None, line_buffering=False, write_through=False)\n",
      " |  \n",
      " |  Character and line based layer over a BufferedIOBase object, buffer.\n",
      " |  \n",
      " |  encoding gives the name of the encoding that the stream will be\n",
      " |  decoded or encoded with. It defaults to locale.getpreferredencoding(False).\n",
      " |  \n",
      " |  errors determines the strictness of encoding and decoding (see\n",
      " |  help(codecs.Codec) or the documentation for codecs.register) and\n",
      " |  defaults to \"strict\".\n",
      " |  \n",
      " |  newline controls how line endings are handled. It can be None, '',\n",
      " |  '\\n', '\\r', and '\\r\\n'.  It works as follows:\n",
      " |  \n",
      " |  * On input, if newline is None, universal newlines mode is\n",
      " |    enabled. Lines in the input can end in '\\n', '\\r', or '\\r\\n', and\n",
      " |    these are translated into '\\n' before being returned to the\n",
      " |    caller. If it is '', universal newline mode is enabled, but line\n",
      " |    endings are returned to the caller untranslated. If it has any of\n",
      " |    the other legal values, input lines are only terminated by the given\n",
      " |    string, and the line ending is returned to the caller untranslated.\n",
      " |  \n",
      " |  * On output, if newline is None, any '\\n' characters written are\n",
      " |    translated to the system default line separator, os.linesep. If\n",
      " |    newline is '' or '\\n', no translation takes place. If newline is any\n",
      " |    of the other legal values, any '\\n' characters written are translated\n",
      " |    to the given string.\n",
      " |  \n",
      " |  If line_buffering is True, a call to flush is implied when a call to\n",
      " |  write contains a newline character.\n",
      " |  \n",
      " |  Method resolution order:\n",
      " |      TextIOWrapper\n",
      " |      _TextIOBase\n",
      " |      _IOBase\n",
      " |      builtins.object\n",
      " |  \n",
      " |  Methods defined here:\n",
      " |  \n",
      " |  __init__(self, /, *args, **kwargs)\n",
      " |      Initialize self.  See help(type(self)) for accurate signature.\n",
      " |  \n",
      " |  __next__(self, /)\n",
      " |      Implement next(self).\n",
      " |  \n",
      " |  __repr__(self, /)\n",
      " |      Return repr(self).\n",
      " |  \n",
      " |  close(self, /)\n",
      " |      Flush and close the IO object.\n",
      " |      \n",
      " |      This method has no effect if the file is already closed.\n",
      " |  \n",
      " |  detach(self, /)\n",
      " |      Separate the underlying buffer from the TextIOBase and return it.\n",
      " |      \n",
      " |      After the underlying buffer has been detached, the TextIO is in an\n",
      " |      unusable state.\n",
      " |  \n",
      " |  fileno(self, /)\n",
      " |      Returns underlying file descriptor if one exists.\n",
      " |      \n",
      " |      OSError is raised if the IO object does not use a file descriptor.\n",
      " |  \n",
      " |  flush(self, /)\n",
      " |      Flush write buffers, if applicable.\n",
      " |      \n",
      " |      This is not implemented for read-only and non-blocking streams.\n",
      " |  \n",
      " |  isatty(self, /)\n",
      " |      Return whether this is an 'interactive' stream.\n",
      " |      \n",
      " |      Return False if it can't be determined.\n",
      " |  \n",
      " |  read(self, size=-1, /)\n",
      " |      Read at most n characters from stream.\n",
      " |      \n",
      " |      Read from underlying buffer until we have n characters or we hit EOF.\n",
      " |      If n is negative or omitted, read until EOF.\n",
      " |  \n",
      " |  readable(self, /)\n",
      " |      Return whether object was opened for reading.\n",
      " |      \n",
      " |      If False, read() will raise OSError.\n",
      " |  \n",
      " |  readline(self, size=-1, /)\n",
      " |      Read until newline or EOF.\n",
      " |      \n",
      " |      Returns an empty string if EOF is hit immediately.\n",
      " |  \n",
      " |  reconfigure(self, /, *, encoding=None, errors=None, newline=None, line_buffering=None, write_through=None)\n",
      " |      Reconfigure the text stream with new parameters.\n",
      " |      \n",
      " |      This also does an implicit stream flush.\n",
      " |  \n",
      " |  seek(self, cookie, whence=0, /)\n",
      " |      Change stream position.\n",
      " |      \n",
      " |      Change the stream position to the given byte offset. The offset is\n",
      " |      interpreted relative to the position indicated by whence.  Values\n",
      " |      for whence are:\n",
      " |      \n",
      " |      * 0 -- start of stream (the default); offset should be zero or positive\n",
      " |      * 1 -- current stream position; offset may be negative\n",
      " |      * 2 -- end of stream; offset is usually negative\n",
      " |      \n",
      " |      Return the new absolute position.\n",
      " |  \n",
      " |  seekable(self, /)\n",
      " |      Return whether object supports random access.\n",
      " |      \n",
      " |      If False, seek(), tell() and truncate() will raise OSError.\n",
      " |      This method may need to do a test seek().\n",
      " |  \n",
      " |  tell(self, /)\n",
      " |      Return current stream position.\n",
      " |  \n",
      " |  truncate(self, pos=None, /)\n",
      " |      Truncate file to size bytes.\n",
      " |      \n",
      " |      File pointer is left unchanged.  Size defaults to the current IO\n",
      " |      position as reported by tell().  Returns the new size.\n",
      " |  \n",
      " |  writable(self, /)\n",
      " |      Return whether object was opened for writing.\n",
      " |      \n",
      " |      If False, write() will raise OSError.\n",
      " |  \n",
      " |  write(self, text, /)\n",
      " |      Write string to stream.\n",
      " |      Returns the number of characters written (which is always equal to\n",
      " |      the length of the string).\n",
      " |  \n",
      " |  ----------------------------------------------------------------------\n",
      " |  Static methods defined here:\n",
      " |  \n",
      " |  __new__(*args, **kwargs) from builtins.type\n",
      " |      Create and return a new object.  See help(type) for accurate signature.\n",
      " |  \n",
      " |  ----------------------------------------------------------------------\n",
      " |  Data descriptors defined here:\n",
      " |  \n",
      " |  buffer\n",
      " |  \n",
      " |  closed\n",
      " |  \n",
      " |  encoding\n",
      " |      Encoding of the text stream.\n",
      " |      \n",
      " |      Subclasses should override.\n",
      " |  \n",
      " |  errors\n",
      " |      The error setting of the decoder or encoder.\n",
      " |      \n",
      " |      Subclasses should override.\n",
      " |  \n",
      " |  line_buffering\n",
      " |  \n",
      " |  name\n",
      " |  \n",
      " |  newlines\n",
      " |      Line endings translated so far.\n",
      " |      \n",
      " |      Only line endings translated during reading are considered.\n",
      " |      \n",
      " |      Subclasses should override.\n",
      " |  \n",
      " |  write_through\n",
      " |  \n",
      " |  ----------------------------------------------------------------------\n",
      " |  Methods inherited from _IOBase:\n",
      " |  \n",
      " |  __del__(...)\n",
      " |  \n",
      " |  __enter__(...)\n",
      " |  \n",
      " |  __exit__(...)\n",
      " |  \n",
      " |  __iter__(self, /)\n",
      " |      Implement iter(self).\n",
      " |  \n",
      " |  readlines(self, hint=-1, /)\n",
      " |      Return a list of lines from the stream.\n",
      " |      \n",
      " |      hint can be specified to control the number of lines read: no more\n",
      " |      lines will be read if the total size (in bytes/characters) of all\n",
      " |      lines so far exceeds hint.\n",
      " |  \n",
      " |  writelines(self, lines, /)\n",
      " |      Write a list of lines to stream.\n",
      " |      \n",
      " |      Line separators are not added, so it is usual for each of the\n",
      " |      lines provided to have a line separator at the end.\n",
      " |  \n",
      " |  ----------------------------------------------------------------------\n",
      " |  Data descriptors inherited from _IOBase:\n",
      " |  \n",
      " |  __dict__\n",
      "\n"
     ]
    }
   ],
   "source": [
    "help(f)"
   ]
  },
  {
   "cell_type": "code",
   "execution_count": 7,
   "id": "86c1972d",
   "metadata": {},
   "outputs": [
    {
     "data": {
      "text/plain": [
       "'0, maria, verdi, 1990, 8, 15\\n'"
      ]
     },
     "execution_count": 7,
     "metadata": {},
     "output_type": "execute_result"
    }
   ],
   "source": [
    "f.readline()"
   ]
  },
  {
   "cell_type": "code",
   "execution_count": 8,
   "id": "4f9095bd",
   "metadata": {},
   "outputs": [
    {
     "data": {
      "text/plain": [
       "'1, andrea, rossi, 1992, 7, 19\\n'"
      ]
     },
     "execution_count": 8,
     "metadata": {},
     "output_type": "execute_result"
    }
   ],
   "source": [
    "f.readline()"
   ]
  },
  {
   "cell_type": "code",
   "execution_count": 9,
   "id": "dfe1b0b8",
   "metadata": {},
   "outputs": [
    {
     "data": {
      "text/plain": [
       "'2, giovanni, gialli, 1954, 1, 30'"
      ]
     },
     "execution_count": 9,
     "metadata": {},
     "output_type": "execute_result"
    }
   ],
   "source": [
    "f.readline()"
   ]
  },
  {
   "cell_type": "code",
   "execution_count": 10,
   "id": "d9ef3eda",
   "metadata": {},
   "outputs": [
    {
     "data": {
      "text/plain": [
       "''"
      ]
     },
     "execution_count": 10,
     "metadata": {},
     "output_type": "execute_result"
    }
   ],
   "source": [
    "f.readline()"
   ]
  },
  {
   "cell_type": "markdown",
   "id": "72db6162",
   "metadata": {},
   "source": [
    "quando si apre un file: ricordarsi di chiuderlo, così:"
   ]
  },
  {
   "cell_type": "code",
   "execution_count": 11,
   "id": "f63cd9fe",
   "metadata": {},
   "outputs": [],
   "source": [
    "f.close()"
   ]
  },
  {
   "cell_type": "code",
   "execution_count": 12,
   "id": "0c0688e4",
   "metadata": {},
   "outputs": [],
   "source": [
    "def leggi_persone():\n",
    "    f=open('prova.txt', 'r')\n",
    "    for l in f.readlines():\n",
    "        print(l)\n",
    "    f.close()"
   ]
  },
  {
   "cell_type": "code",
   "execution_count": 33,
   "id": "ec4cc6c3",
   "metadata": {},
   "outputs": [],
   "source": [
    "import datetime #per lavorare su data_nascita\n",
    "\n",
    "class Persona:\n",
    "    def __init__ (self, id_persona, nome, cognome, data_nascita):\n",
    "        self.id_persona=id_persona\n",
    "        self.nome=nome\n",
    "        self.cognome=cognome\n",
    "        self.data_nascita=data_nascita\n",
    "        \n",
    "    def get_anni(self):\n",
    "        t=datetime.date.today()\n",
    "        anni=int((t-self.data_nascita).days/365)\n",
    "        return anni\n",
    "    \n",
    "    def __str__(self):\n",
    "        return f'id_persona: {self.id_persona}, nome:{self.nome}, cognome: {self.cognome}, anni:{self.anni}'\n",
    "    \n",
    "    anni=property(get_anni) #anni è la property che mi restituisce il valore di get anni"
   ]
  },
  {
   "cell_type": "code",
   "execution_count": 14,
   "id": "feb028ec",
   "metadata": {},
   "outputs": [
    {
     "name": "stdout",
     "output_type": "stream",
     "text": [
      "0, maria, verdi, 1990, 8, 15\n",
      "\n",
      "1, andrea, rossi, 1992, 7, 19\n",
      "\n",
      "2, giovanni, gialli, 1954, 1, 30\n"
     ]
    }
   ],
   "source": [
    "leggi_persone()"
   ]
  },
  {
   "cell_type": "code",
   "execution_count": 16,
   "id": "c28044b2",
   "metadata": {},
   "outputs": [
    {
     "name": "stdout",
     "output_type": "stream",
     "text": [
      "['0, maria, verdi, 1990, 8, 15\\n', '1, andrea, rossi, 1992, 7, 19\\n', '2, giovanni, gialli, 1954, 1, 30']\n"
     ]
    }
   ],
   "source": [
    "\"\"\"\n",
    "dato un file di persone CSV ritorna una struttura dati come segue\n",
    "[\n",
    "  ['id', 'nome', 'cognome', datetime.date(anno, mese, giorno)],\n",
    " ... per ogni line\n",
    "]\n",
    "\n",
    "\n",
    "ovvero una lista che contiene l'id, il nome, il cognome,.. per ogni riga\n",
    "\"\"\"\n",
    "\n",
    "def import_persone():\n",
    "    f= open('prova.txt', 'r')\n",
    "    print(f.readlines())\n",
    "    f.close()\n",
    "    \n",
    "import_persone()"
   ]
  },
  {
   "cell_type": "code",
   "execution_count": 18,
   "id": "7f41185d",
   "metadata": {},
   "outputs": [
    {
     "data": {
      "text/plain": [
       "[['0', ' maria', ' verdi', ' 1990', ' 8', ' 15\\n'],\n",
       " ['1', ' andrea', ' rossi', ' 1992', ' 7', ' 19\\n'],\n",
       " ['2', ' giovanni', ' gialli', ' 1954', ' 1', ' 30']]"
      ]
     },
     "execution_count": 18,
     "metadata": {},
     "output_type": "execute_result"
    }
   ],
   "source": [
    "def import_persone():\n",
    "    f= open('prova.txt', 'r')\n",
    "    ret=[]\n",
    "    \n",
    "    for line in f.readlines():\n",
    "        ret+= [line.strip().split(',')] #come fosse append #strip() leva evenutali caratteri di andare a capo in una stringa solo se ci sono\n",
    "    f.close() \n",
    "  \n",
    "    return ret\n",
    "    \n",
    "import_persone()"
   ]
  },
  {
   "cell_type": "code",
   "execution_count": 19,
   "id": "97c85896",
   "metadata": {},
   "outputs": [
    {
     "data": {
      "text/plain": [
       "['str', ' val', ' sep', ' da', ' un', ' carattere', ' ad', ' ed', ' virgola']"
      ]
     },
     "execution_count": 19,
     "metadata": {},
     "output_type": "execute_result"
    }
   ],
   "source": [
    "#uso di split()\n",
    "s='str, val, sep, da, un, carattere, ad, ed, virgola'\n",
    "s.split(',')"
   ]
  },
  {
   "cell_type": "code",
   "execution_count": 26,
   "id": "080cb834",
   "metadata": {},
   "outputs": [
    {
     "name": "stdout",
     "output_type": "stream",
     "text": [
      "0, maria, verdi, 1990, 8, 15\n",
      "\n",
      "0, maria, verdi, 1990, 8, 15\n",
      "['0', ' maria', ' verdi', ' 1990', ' 8', ' 15']\n",
      "['0', ' maria', ' verdi', ' 1990', ' 8', ' 15']\n",
      "['0', 'maria', 'verdi', '1990', '8', '15']\n",
      "1, andrea, rossi, 1992, 7, 19\n",
      "\n",
      "1, andrea, rossi, 1992, 7, 19\n",
      "['1', ' andrea', ' rossi', ' 1992', ' 7', ' 19']\n",
      "['1', ' andrea', ' rossi', ' 1992', ' 7', ' 19']\n",
      "['1', 'andrea', 'rossi', '1992', '7', '19']\n",
      "2, giovanni, gialli, 1954, 1, 30\n",
      "2, giovanni, gialli, 1954, 1, 30\n",
      "['2', ' giovanni', ' gialli', ' 1954', ' 1', ' 30']\n",
      "['2', ' giovanni', ' gialli', ' 1954', ' 1', ' 30']\n",
      "['2', 'giovanni', 'gialli', '1954', '1', '30']\n"
     ]
    },
    {
     "data": {
      "text/plain": [
       "[['0', 'maria', 'verdi', '1990', '8', '15'],\n",
       " ['1', 'andrea', 'rossi', '1992', '7', '19'],\n",
       " ['2', 'giovanni', 'gialli', '1954', '1', '30']]"
      ]
     },
     "execution_count": 26,
     "metadata": {},
     "output_type": "execute_result"
    }
   ],
   "source": [
    "def import_persone():\n",
    "    f= open('prova.txt', 'r')\n",
    "    tup=[]\n",
    "    \n",
    "    for line in f.readlines():\n",
    "        print(line)\n",
    "        print(line.strip())\n",
    "        print(line.strip().split(','))\n",
    "        print([s for s in line.strip().split(',')])\n",
    "        print([s.strip() for s in line.strip().split(',')])\n",
    "        tup+= [[s.strip() for s in line.strip().split(',')]] #trasformiamo la lista in tuple, poi con ret indichiamo sempre la lista che dico io, che voglio io\n",
    "    f.close() \n",
    "    \n",
    "    ret=[]\n",
    "    return tup\n",
    "    \n",
    "import_persone()"
   ]
  },
  {
   "cell_type": "code",
   "execution_count": 29,
   "id": "abdf5445",
   "metadata": {},
   "outputs": [
    {
     "data": {
      "text/plain": [
       "[['0', 'maria', 'verdi', datetime.date(1990, 8, 15)],\n",
       " ['1', 'andrea', 'rossi', datetime.date(1992, 7, 19)],\n",
       " ['2', 'giovanni', 'gialli', datetime.date(1954, 1, 30)]]"
      ]
     },
     "execution_count": 29,
     "metadata": {},
     "output_type": "execute_result"
    }
   ],
   "source": [
    "def import_persone():\n",
    "    f= open('prova.txt', 'r')\n",
    "    tup=[]\n",
    "    \n",
    "    for line in f.readlines():\n",
    "        tup+= [[s.strip() for s in line.strip().split(',')]] #trasformiamo la lista in tuple, poi con ret indichiamo sempre la lista che dico io, che voglio io\n",
    "    f.close() \n",
    "    \n",
    "    #converto gli ultimi tre elementi in un datetime\n",
    "    ret= [\n",
    "        [id_persona, nome, cognome, datetime.date(int(anno), int(mese), int(giorno))]\n",
    "        for id_persona, nome, cognome, anno, mese, giorno\n",
    "        in tup\n",
    "    ]\n",
    "\n",
    "    return ret\n",
    "    \n",
    "import_persone()"
   ]
  },
  {
   "cell_type": "code",
   "execution_count": 34,
   "id": "d451eeee",
   "metadata": {},
   "outputs": [
    {
     "name": "stdout",
     "output_type": "stream",
     "text": [
      "id_persona: 0, nome:maria, cognome: verdi, anni:32\n",
      "id_persona: 1, nome:andrea, cognome: rossi, anni:30\n",
      "id_persona: 2, nome:giovanni, cognome: gialli, anni:68\n"
     ]
    }
   ],
   "source": [
    "persone_grezze= import_persone()\n",
    "persone_grezze\n",
    "\"\"\"\n",
    "creo una lista di oggetti di tipo Persona usando i valori contenuti in persone_grezze\n",
    "\"\"\"\n",
    "\n",
    "persone=[\n",
    "    Persona(id_persona, nome, cognome, data_nascita)\n",
    "    for id_persona, nome, cognome, data_nascita\n",
    "    in persone_grezze\n",
    "]\n",
    "\n",
    "for p in persone:\n",
    "    print(p)"
   ]
  },
  {
   "cell_type": "code",
   "execution_count": 49,
   "id": "3300d65b",
   "metadata": {},
   "outputs": [],
   "source": [
    "def imp_pers():\n",
    "    f=open('prova.txt', 'r')\n",
    "    ret = [\n",
    "            Persona(id_persona, nome, cognome, datetime.date(int(anno), int(mese), int(giorno)))\n",
    "            for id_persona, nome, cognome, anno, mese, giorno \n",
    "            in [[st.strip().capitalize() for st in s.split(',')] for s in f.readlines()]\n",
    "    ]\n",
    "    f.close()\n",
    "    return ret"
   ]
  },
  {
   "cell_type": "code",
   "execution_count": 50,
   "id": "f1f441de",
   "metadata": {},
   "outputs": [
    {
     "name": "stdout",
     "output_type": "stream",
     "text": [
      "id_persona: 0, nome:Maria, cognome: Verdi, anni:32\n",
      "id_persona: 1, nome:Andrea, cognome: Rossi, anni:30\n",
      "id_persona: 2, nome:Giovanni, cognome: Gialli, anni:68\n"
     ]
    }
   ],
   "source": [
    "for p in imp_pers():\n",
    "    print(p)"
   ]
  },
  {
   "cell_type": "code",
   "execution_count": 53,
   "id": "4d3d8e24",
   "metadata": {},
   "outputs": [],
   "source": [
    "def imp_persdue():\n",
    "    ret = []\n",
    "    with open('prova.txt', 'r') as fp:\n",
    "        ret = [\n",
    "            Persona(i,n,c,datetime.date(int(a),int(m),int(g)))\n",
    "            for i,n,c,a,m,g\n",
    "            #in [[st.strip().capitalize() for st in s.split(',')] for s in fp]\n",
    "            in [[' '.join([parola.capitalize() for parola in st.strip().split(' ')]) for st in s.split(',')] for s in fp]\n",
    "        ]\n",
    "    \n",
    "    return ret"
   ]
  },
  {
   "cell_type": "code",
   "execution_count": 54,
   "id": "9f6a300e",
   "metadata": {},
   "outputs": [
    {
     "name": "stdout",
     "output_type": "stream",
     "text": [
      "id_persona: 0, nome:Maria, cognome: Verdi, anni:32\n",
      "id_persona: 1, nome:Andrea, cognome: Rossi, anni:30\n",
      "id_persona: 2, nome:Giovanni, cognome: Gialli, anni:68\n"
     ]
    }
   ],
   "source": [
    "for p in imp_persdue():\n",
    "    print(p)"
   ]
  },
  {
   "cell_type": "code",
   "execution_count": null,
   "id": "e2e3f7d8",
   "metadata": {},
   "outputs": [],
   "source": []
  }
 ],
 "metadata": {
  "kernelspec": {
   "display_name": "Python 3 (ipykernel)",
   "language": "python",
   "name": "python3"
  },
  "language_info": {
   "codemirror_mode": {
    "name": "ipython",
    "version": 3
   },
   "file_extension": ".py",
   "mimetype": "text/x-python",
   "name": "python",
   "nbconvert_exporter": "python",
   "pygments_lexer": "ipython3",
   "version": "3.10.7"
  }
 },
 "nbformat": 4,
 "nbformat_minor": 5
}
