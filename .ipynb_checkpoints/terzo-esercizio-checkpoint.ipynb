{
 "cells": [
  {
   "cell_type": "markdown",
   "id": "b2536647",
   "metadata": {},
   "source": [
    "# Le stringhe\n",
    "Le stringhe in python possono essere viste come 'sequenze di caratteri'. La stringa è un tipo di dato python che contiene funzioni per poterla utilizzare comodamente."
   ]
  },
  {
   "cell_type": "code",
   "execution_count": 1,
   "id": "6e23c276",
   "metadata": {},
   "outputs": [
    {
     "name": "stdout",
     "output_type": "stream",
     "text": [
      "012 56789 12345678\n"
     ]
    }
   ],
   "source": [
    "s = '0123456789'\n",
    "print(s[:3],s[-5:],s[1:-1])"
   ]
  },
  {
   "cell_type": "markdown",
   "id": "675e301d",
   "metadata": {},
   "source": [
    "se volessi estrapolare delle sottostringhe posso usare l'operatore [:]\n",
    "ricordiamo che il -1 rappresenta l'ultimo elemento"
   ]
  },
  {
   "cell_type": "code",
   "execution_count": 2,
   "id": "d9c233d9",
   "metadata": {},
   "outputs": [
    {
     "name": "stdout",
     "output_type": "stream",
     "text": [
      "02468 13579\n"
     ]
    }
   ],
   "source": [
    "print(s[::2],s[1::2])"
   ]
  },
  {
   "cell_type": "code",
   "execution_count": null,
   "id": "89b1b103",
   "metadata": {},
   "outputs": [],
   "source": []
  },
  {
   "cell_type": "markdown",
   "id": "092eec39",
   "metadata": {},
   "source": [
    "Si può andare anche a prendere un singolo elemento della stringa, es:"
   ]
  },
  {
   "cell_type": "code",
   "execution_count": 3,
   "id": "e3dd9880",
   "metadata": {},
   "outputs": [
    {
     "name": "stdout",
     "output_type": "stream",
     "text": [
      "2\n"
     ]
    }
   ],
   "source": [
    "print(s[2])"
   ]
  },
  {
   "cell_type": "markdown",
   "id": "d2c6f816",
   "metadata": {},
   "source": [
    "Le liste sono oggetti variabili, posso andare ad agire sugli elementi della lista. \n",
    "Le stringhe invece sono immutabili: non sono oggetti mutabili. La gestione della memoria delle stringhe è più complessa di quella delle liste."
   ]
  },
  {
   "cell_type": "code",
   "execution_count": 4,
   "id": "8268e7eb",
   "metadata": {},
   "outputs": [
    {
     "name": "stdout",
     "output_type": "stream",
     "text": [
      "[0, 1, 2, 3, 4, 5, 6, 7, 8, 9]\n",
      "[0, 1, 'ciao', 3, 4, 5, 6, 7, 8, 9]\n"
     ]
    }
   ],
   "source": [
    "l=[0, 1, 2, 3, 4, 5, 6, 7, 8, 9]\n",
    "print(l)\n",
    "l[2]='ciao'\n",
    "print(l)"
   ]
  },
  {
   "cell_type": "code",
   "execution_count": 5,
   "id": "f6952fbd",
   "metadata": {},
   "outputs": [
    {
     "name": "stdout",
     "output_type": "stream",
     "text": [
      "operazione fallita\n"
     ]
    }
   ],
   "source": [
    "try: #le stringhe sono immutabili--> no assegnazione\n",
    "   s[2] ='x'\n",
    "except:\n",
    "    print('operazione fallita')"
   ]
  },
  {
   "cell_type": "markdown",
   "id": "091048e7",
   "metadata": {},
   "source": [
    "Allora un modo per modificare una stringa può essere il seguente:"
   ]
  },
  {
   "cell_type": "code",
   "execution_count": 6,
   "id": "94be975f",
   "metadata": {},
   "outputs": [
    {
     "name": "stdout",
     "output_type": "stream",
     "text": [
      "01x3456789\n"
     ]
    }
   ],
   "source": [
    "s = s[:2] + 'x' +s[3:] #assegnazione tramite substrings\n",
    "print(s)"
   ]
  },
  {
   "cell_type": "markdown",
   "id": "09729800",
   "metadata": {},
   "source": [
    "Le stringhe possno essere dichiarate sia con apice singolo che doppio e li posso combinare tra loro"
   ]
  },
  {
   "cell_type": "code",
   "execution_count": 7,
   "id": "18d5f905",
   "metadata": {},
   "outputs": [
    {
     "name": "stdout",
     "output_type": "stream",
     "text": [
      "ciao ciao questo è un \"esempio\" di utilizzo di apici combinati\n"
     ]
    }
   ],
   "source": [
    "s2 = \"ciao\"\n",
    "s3 = 'ciao'\n",
    "s4 = 'questo è un \"esempio\" di utilizzo di apici combinati'\n",
    "print(s2, s3, s4)"
   ]
  },
  {
   "cell_type": "code",
   "execution_count": 8,
   "id": "e87e4a6c",
   "metadata": {},
   "outputs": [
    {
     "name": "stdout",
     "output_type": "stream",
     "text": [
      "1\n",
      "2\n",
      "3\n",
      "auguri\n"
     ]
    }
   ],
   "source": [
    "#\\n= nuova riga\n",
    "s='1\\n2\\n3\\nauguri'\n",
    "print(s)"
   ]
  },
  {
   "cell_type": "code",
   "execution_count": 9,
   "id": "7557b654",
   "metadata": {},
   "outputs": [
    {
     "name": "stdout",
     "output_type": "stream",
     "text": [
      "NOME\tCOGNOME\n",
      "MARIA\tVERDI\n",
      "MARIO\tROSSI\n"
     ]
    }
   ],
   "source": [
    "#\\t=tab, serve per tabulare\n",
    "s = 'NOME\\tCOGNOME\\nMARIA\\tVERDI\\nMARIO\\tROSSI'\n",
    "print(s)"
   ]
  },
  {
   "cell_type": "code",
   "execution_count": 10,
   "id": "bdb39342",
   "metadata": {},
   "outputs": [
    {
     "name": "stdout",
     "output_type": "stream",
     "text": [
      " questa stringa \n",
      "è molto \n",
      "lunga\n",
      "'posso anche usare gli apici singoli!'\n",
      "\n",
      "\n"
     ]
    }
   ],
   "source": [
    "s= \"\"\" questa stringa \n",
    "è molto \n",
    "lunga\n",
    "'posso anche usare gli apici singoli!'\n",
    "\n",
    "\"\"\"\n",
    "print(s)"
   ]
  },
  {
   "cell_type": "markdown",
   "id": "b249a683",
   "metadata": {},
   "source": [
    "Si possono concatenare le stringhe tramite il +. A differenza dell'effetto che il + ha sui dati numerici, il risultato cambia. Python capisce come usare l'operatore in base al tipo di dato.\n",
    "Si dice che fa 'inferenza' con il tipo di dato. Si può anche usare l'operatore * per operare sulle stringhe."
   ]
  },
  {
   "cell_type": "code",
   "execution_count": 11,
   "id": "940a3423",
   "metadata": {},
   "outputs": [
    {
     "name": "stdout",
     "output_type": "stream",
     "text": [
      "ciaociaociaociaociao\n"
     ]
    }
   ],
   "source": [
    "s='ciao'\n",
    "print(s*5) #ripetizione della stringa"
   ]
  },
  {
   "cell_type": "code",
   "execution_count": 12,
   "id": "612a6663",
   "metadata": {},
   "outputs": [
    {
     "name": "stdout",
     "output_type": "stream",
     "text": [
      "[0, 1, 'ciao', 3, 4, 5, 6, 7, 8, 9, 0, 1, 'ciao', 3, 4, 5, 6, 7, 8, 9]\n"
     ]
    }
   ],
   "source": [
    "print(l*2) #ripetizione elementi della lista"
   ]
  },
  {
   "cell_type": "markdown",
   "id": "6eb72335",
   "metadata": {},
   "source": [
    "Si può sempre sovrascrivere il comportamento degli operatori fondamentali, come il +, il - etc."
   ]
  },
  {
   "cell_type": "markdown",
   "id": "0e64500e",
   "metadata": {},
   "source": [
    "se vogliamo creare una stringa a partire da tutti gli elementi della lista:\n",
    "il senso è : per ogni valore nella lista vogliamo convertire il valore in stringa. per fare questo usiamo \n",
    "per prima cosa abbiamo convertito gli elementi di una lista in elementi di una stringa, l'abbiamo fatto forzatamente con str()\n",
    "la stringa separatore è la stringa trattino che viene messa tra un elemento e l'altro della lista\n",
    "join() è un metodo delle stringhe (stringa_separatore.join(lista_da unire)) ,infatti abbiamo fatto--> stringa.join() ,\n",
    "che prende in ingresso una lista di stringhe e dà in output una stringa composta da tutti gli elementi della lista separati dalla stringa usata per chiamare il metodo."
   ]
  },
  {
   "cell_type": "code",
   "execution_count": 13,
   "id": "f4b48c7f",
   "metadata": {},
   "outputs": [
    {
     "name": "stdout",
     "output_type": "stream",
     "text": [
      "0-1-ciao-3-4-5-6-7-8-9\n"
     ]
    }
   ],
   "source": [
    "st='-'.join([str (v) for v in l])\n",
    "print(st)"
   ]
  },
  {
   "cell_type": "markdown",
   "id": "bb05a1a2",
   "metadata": {},
   "source": [
    "La funzione index() trova l'indice di un elemento in una lista, per le stringhe si fa la cosa analoga con find(), che ci dice l'indice di partenza della sottostringa"
   ]
  },
  {
   "cell_type": "code",
   "execution_count": 14,
   "id": "b4deb447",
   "metadata": {},
   "outputs": [
    {
     "name": "stdout",
     "output_type": "stream",
     "text": [
      "9\n"
     ]
    }
   ],
   "source": [
    "print(st.find('3-4'))"
   ]
  },
  {
   "cell_type": "markdown",
   "id": "ce7755af",
   "metadata": {},
   "source": [
    "Davanti e alla fine di una stringa spesso alla fine di una elaborazione si trovano molti spazi vuoti"
   ]
  },
  {
   "cell_type": "code",
   "execution_count": 15,
   "id": "0250d1d8",
   "metadata": {},
   "outputs": [],
   "source": [
    "st= '     hdghasgdh      '"
   ]
  },
  {
   "cell_type": "markdown",
   "id": "cd969ad9",
   "metadata": {},
   "source": [
    "Potrebbe essere utile eliminarci di tutti questi spazi vuoti, questo si fa con strip()"
   ]
  },
  {
   "cell_type": "code",
   "execution_count": 16,
   "id": "5092e4bb",
   "metadata": {},
   "outputs": [
    {
     "name": "stdout",
     "output_type": "stream",
     "text": [
      "hdghasgdh\n"
     ]
    }
   ],
   "source": [
    "print(st.strip())"
   ]
  },
  {
   "cell_type": "code",
   "execution_count": 17,
   "id": "143a4497",
   "metadata": {},
   "outputs": [
    {
     "name": "stdout",
     "output_type": "stream",
     "text": [
      "quanto mi piace python\n"
     ]
    }
   ],
   "source": [
    "st2= 'non mi piace python'\n",
    "st2= st2.replace('non','quanto') #replace() rimpiazza una sottostringa con un'altra: crea una nuova stringa\n",
    "print(st2)"
   ]
  },
  {
   "cell_type": "markdown",
   "id": "8e6140d9",
   "metadata": {},
   "source": [
    "Vediamo il contrario di join: join() unisce gli elementi di una lista. Per separare i caratteri di una stringa e metterli in una lista usare split()"
   ]
  },
  {
   "cell_type": "code",
   "execution_count": 18,
   "id": "5562b6dc",
   "metadata": {},
   "outputs": [
    {
     "name": "stdout",
     "output_type": "stream",
     "text": [
      "abcd\n"
     ]
    }
   ],
   "source": [
    "l=['a','b','c','d'] #una lista che contiene delle stringhe:lista di stringhe, possocreare una join partendo dagli elementi di una lista, per farlo possiamo utilizzare la stringa vuota\n",
    "nuova_stringa=''.join(l) #sto unendo tutti gli elementi della lista l separandoli con la lista vuota, ovvero con niente: a+''+b+''+c''+d\n",
    "print(nuova_stringa)"
   ]
  },
  {
   "cell_type": "code",
   "execution_count": 25,
   "id": "8d9c7e65",
   "metadata": {},
   "outputs": [
    {
     "name": "stdout",
     "output_type": "stream",
     "text": [
      "013\n",
      "['0', '1', '3']\n"
     ]
    }
   ],
   "source": [
    "l=['0','1','3'] #esempio lista di caratteri numerici, possiamo fare la join:\n",
    "print(''.join(l))\n",
    "print(list(''.join(l))) #operiamo la conversione in lista se è necessario separare tutti i caratteri senza che ci sia uno specifico carattere separatore"
   ]
  },
  {
   "cell_type": "markdown",
   "id": "be3ecc2f",
   "metadata": {},
   "source": [
    "Se è presente un carattere separatore in una lista--> utilizzo di split('carattere_separatore')\n"
   ]
  }
 ],
 "metadata": {
  "kernelspec": {
   "display_name": "Python 3 (ipykernel)",
   "language": "python",
   "name": "python3"
  },
  "language_info": {
   "codemirror_mode": {
    "name": "ipython",
    "version": 3
   },
   "file_extension": ".py",
   "mimetype": "text/x-python",
   "name": "python",
   "nbconvert_exporter": "python",
   "pygments_lexer": "ipython3",
   "version": "3.10.7"
  }
 },
 "nbformat": 4,
 "nbformat_minor": 5
}
