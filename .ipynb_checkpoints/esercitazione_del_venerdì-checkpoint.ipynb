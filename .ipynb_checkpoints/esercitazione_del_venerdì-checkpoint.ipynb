{
 "cells": [
  {
   "cell_type": "code",
   "execution_count": 1,
   "id": "62fb2f15",
   "metadata": {},
   "outputs": [],
   "source": [
    "#restituire una lista con gli elementi unici \n",
    "s=[1,2,3,6,7,7,8]\n",
    "l=[]\n",
    "for i, lettera in enumerate(s[:-1]):\n",
    "    if lettera not in s[:i] and i not in s[:i-1]:\n",
    "        l.append(lettera)\n"
   ]
  },
  {
   "cell_type": "code",
   "execution_count": 2,
   "id": "fd669a50",
   "metadata": {},
   "outputs": [
    {
     "name": "stdout",
     "output_type": "stream",
     "text": [
      "[1, 2, 3, 4, 5, 6, 7, 11, 20]\n",
      "11\n"
     ]
    }
   ],
   "source": [
    "#prendiamo il secondo numero più alto\n",
    "#lista = [1, 2, 4, 3, 2, 4, 5, 5, 6,6, 7]\n",
    "lista = [7,6,6,11,20,5,5,4,2,3,4,2,1]\n",
    "l = list(set(lista))\n",
    "print(l)\n",
    "massimo=max(l)\n",
    "secondo=[]\n",
    "for num in l:\n",
    "    if num<massimo:\n",
    "        secondo.append(num)\n",
    "print(max(secondo))"
   ]
  },
  {
   "cell_type": "code",
   "execution_count": 3,
   "id": "fc4ee3a9",
   "metadata": {},
   "outputs": [
    {
     "name": "stdout",
     "output_type": "stream",
     "text": [
      "[1, 2, 3, 4, 5]\n"
     ]
    }
   ],
   "source": [
    "s=[1, 2, 4, 3, 2, 4, 5, 5]\n",
    "l=list(set(s))\n",
    "type(l)\n",
    "print(l)"
   ]
  },
  {
   "cell_type": "code",
   "execution_count": 3,
   "id": "478f48d5",
   "metadata": {},
   "outputs": [],
   "source": [
    "l=[]\n",
    "def pal(stringa):\n",
    "    for i, _ in enumerate(stringa):\n",
    "        if stringa[i]!=stringa[-(i+1)]:\n",
    "            print('no, non è palindromo')\n",
    "            return\n",
    "    print('è palindromo')\n",
    "    return\n",
    "        "
   ]
  },
  {
   "cell_type": "code",
   "execution_count": 5,
   "id": "db9fc707",
   "metadata": {},
   "outputs": [
    {
     "name": "stdout",
     "output_type": "stream",
     "text": [
      "no, non è palindromo\n"
     ]
    }
   ],
   "source": [
    "pal('18389281')"
   ]
  },
  {
   "cell_type": "code",
   "execution_count": 25,
   "id": "9ae7337a",
   "metadata": {},
   "outputs": [
    {
     "name": "stdout",
     "output_type": "stream",
     "text": [
      "[3, 6, 9, 12, 18, 21, 24, 27, 33, 36, 39, 42, 48, 51, 54, 57, 63, 66, 69, 72, 78, 81, 84, 87, 93, 96, 99, 102, 108, 111, 114, 117, 123, 126, 129, 132, 138, 141, 144, 147, 153, 156, 159, 162, 168, 171, 174, 177, 183, 186, 189, 192, 198]\n"
     ]
    }
   ],
   "source": [
    "#Crea una lista con tutti i valori fino a 200 divisibili per 3 ma non multipli di 5. \n",
    "#Quanti elementi sono presenti? Qual è l'85° elemento?\n",
    "\n",
    "y=[]\n",
    "x=range(0,200)\n",
    "for n in x:\n",
    "    if n%3==0 and n%5!=0:\n",
    "        y.append(n)\n",
    "print(y)"
   ]
  },
  {
   "cell_type": "code",
   "execution_count": 31,
   "id": "6367b3eb",
   "metadata": {},
   "outputs": [],
   "source": [
    "def pyfunc(n):\n",
    "    for i in range(0,n+1):\n",
    "        print('#'*i)\n",
    "    "
   ]
  },
  {
   "cell_type": "code",
   "execution_count": 30,
   "id": "6aaaf56c",
   "metadata": {},
   "outputs": [
    {
     "name": "stdout",
     "output_type": "stream",
     "text": [
      "#\n",
      "\n",
      "#\n",
      "#\n",
      "#\n",
      "##\n"
     ]
    }
   ],
   "source": [
    "pyfunc(3)"
   ]
  },
  {
   "cell_type": "code",
   "execution_count": 32,
   "id": "6daa5648",
   "metadata": {},
   "outputs": [
    {
     "name": "stdout",
     "output_type": "stream",
     "text": [
      "\n",
      "#\n",
      "##\n"
     ]
    }
   ],
   "source": [
    "pyfunc(3)"
   ]
  },
  {
   "cell_type": "code",
   "execution_count": 33,
   "id": "c2d40d0d",
   "metadata": {},
   "outputs": [],
   "source": [
    "def pyfunc(n):\n",
    "    for i in range(0,n+1):\n",
    "        print('#'*i)"
   ]
  },
  {
   "cell_type": "code",
   "execution_count": 34,
   "id": "2deda8d6",
   "metadata": {},
   "outputs": [
    {
     "name": "stdout",
     "output_type": "stream",
     "text": [
      "\n",
      "#\n",
      "##\n",
      "###\n",
      "####\n"
     ]
    }
   ],
   "source": [
    "pyfunc(4)"
   ]
  },
  {
   "cell_type": "code",
   "execution_count": 35,
   "id": "f491db4c",
   "metadata": {},
   "outputs": [],
   "source": [
    "s='FrAnnnG'\n",
    "for i in s:\n",
    "    if i=lower"
   ]
  },
  {
   "cell_type": "code",
   "execution_count": 4,
   "id": "f9762169",
   "metadata": {},
   "outputs": [
    {
     "name": "stdout",
     "output_type": "stream",
     "text": [
      "ciao, mi chiamo alessandro\n",
      "CIAO, MI CHIAMO ALESSANDRO\n",
      "3\n"
     ]
    }
   ],
   "source": [
    "presentazione = 'Ciao, mi chiamo Alessandro'\n",
    "print(presentazione.lower())\n",
    "print(presentazione.upper())\n",
    "x='cia'\n",
    "print(len(x))"
   ]
  },
  {
   "cell_type": "code",
   "execution_count": 9,
   "id": "2fd33fb4",
   "metadata": {},
   "outputs": [
    {
     "name": "stdout",
     "output_type": "stream",
     "text": [
      "fRaNNNg\n"
     ]
    }
   ],
   "source": [
    "s='FrAnnnGG'\n",
    "maiuscole=s.upper()\n",
    "minuscole=s.lower()\n",
    "l=[]\n",
    "for i, lettera in enumerate(s[:len(s)-1]):\n",
    "    if lettera==minuscole[i]:\n",
    "        l.append(lettera.upper())\n",
    "    if lettera==maiuscole[i]:\n",
    "        l.append(lettera.lower())\n",
    "s=''.join(l)\n",
    "print(s)\n",
    "     "
   ]
  },
  {
   "cell_type": "code",
   "execution_count": 10,
   "id": "efc84f2f",
   "metadata": {},
   "outputs": [
    {
     "name": "stdout",
     "output_type": "stream",
     "text": [
      "aGGGaaaa\n"
     ]
    }
   ],
   "source": [
    "#altro modo:\n",
    "frase = 'AgggAAAA'\n",
    "frasenuova=''\n",
    "for lettera in frase:\n",
    "    if lettera.islower():\n",
    "        LG=lettera.upper()\n",
    "        frasenuova += LG\n",
    "    else:\n",
    "        LP=lettera.lower()\n",
    "        frasenuova += LP\n",
    "        \n",
    "print(frasenuova)"
   ]
  },
  {
   "cell_type": "code",
   "execution_count": 14,
   "id": "2afac44a",
   "metadata": {},
   "outputs": [
    {
     "name": "stdout",
     "output_type": "stream",
     "text": [
      "aGGGaaaa\n"
     ]
    }
   ],
   "source": [
    "frase = 'AgggAAAA'\n",
    "lista=[i.upper() if i.islower() else i.lower() for i in frase]\n",
    "frase_nuova=''.join(lista)\n",
    "print(frase_nuova)"
   ]
  },
  {
   "cell_type": "markdown",
   "id": "b15e9458",
   "metadata": {},
   "source": [
    "[1,2,3] -> [6,3,2] ad una lista all'indice in cui stai, deve restituire il valore moltiplicato di tutti gli elementi tranne quelli nell'indice in cui non stai."
   ]
  },
  {
   "cell_type": "code",
   "execution_count": 25,
   "id": "0ca01128",
   "metadata": {},
   "outputs": [
    {
     "name": "stdout",
     "output_type": "stream",
     "text": [
      "[2, 3]\n",
      "[3]\n"
     ]
    }
   ],
   "source": [
    "l=[1,2,3]\n",
    "for i, el in enumerate(l[:len(l)-1]):\n",
    "    s=l.remove(el)\n",
    "    l[i]=\n",
    "    \n",
    "    "
   ]
  },
  {
   "cell_type": "code",
   "execution_count": 22,
   "id": "41f44bf5",
   "metadata": {},
   "outputs": [
    {
     "name": "stdout",
     "output_type": "stream",
     "text": [
      "[1, 3]\n"
     ]
    }
   ],
   "source": [
    "l=[1,2,3]\n",
    "l.remove(l[1])\n",
    "print(l)"
   ]
  },
  {
   "cell_type": "code",
   "execution_count": null,
   "id": "4d72447f",
   "metadata": {},
   "outputs": [],
   "source": []
  }
 ],
 "metadata": {
  "kernelspec": {
   "display_name": "Python 3 (ipykernel)",
   "language": "python",
   "name": "python3"
  },
  "language_info": {
   "codemirror_mode": {
    "name": "ipython",
    "version": 3
   },
   "file_extension": ".py",
   "mimetype": "text/x-python",
   "name": "python",
   "nbconvert_exporter": "python",
   "pygments_lexer": "ipython3",
   "version": "3.10.7"
  }
 },
 "nbformat": 4,
 "nbformat_minor": 5
}
