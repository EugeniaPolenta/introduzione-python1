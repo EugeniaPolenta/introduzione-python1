{
 "cells": [
  {
   "cell_type": "markdown",
   "id": "ecc2b180",
   "metadata": {},
   "source": [
    "### I Dizionari\n",
    "Sono strutture dati in grado di associare un valore ad una chiave.\n",
    "Le keys appartengono ad un set (non possono essercene due uguali), i valori appartengono ad una list (possono essercene due uguali).\n",
    "\n",
    "La struttura del dizionario prevede nome_variabile[nome_key]=valore.\n",
    "\n",
    "Es. creiamo un modello in cui associamo ad ogni città il suo stato."
   ]
  },
  {
   "cell_type": "code",
   "execution_count": 1,
   "id": "fc9ca2e3",
   "metadata": {},
   "outputs": [
    {
     "name": "stdout",
     "output_type": "stream",
     "text": [
      "{'Roma': 'Italia', 'Napoli': 'Italia', 'Barcelona': 'Spagna'}\n"
     ]
    }
   ],
   "source": [
    "elenco_citta= dict() #inizializiamo in questo modo per un dizionario, una volta inizializzato possiamo aggiungere dei valori usando un indice di natura non numerica, di tipo stringa\n",
    "elenco_citta['Roma']= 'Italia'\n",
    "elenco_citta['Napoli']= 'Italia'\n",
    "elenco_citta['Barcelona']='Spagna'\n",
    "print(elenco_citta)"
   ]
  },
  {
   "cell_type": "markdown",
   "id": "33bcb2fa",
   "metadata": {},
   "source": [
    "Viene creato un insieme, in cui gli elementi sono delle coppie chiave: valore. A volte fare il reverse non è così immediato. A differenza del set tradizionale il dizionario utilizza 'Roma' come hash e salva il valore 'Italia' nell'hash di 'Roma'. I dizionari permettono l'accesso al set di tutte le chiavi:"
   ]
  },
  {
   "cell_type": "code",
   "execution_count": 2,
   "id": "86708081",
   "metadata": {},
   "outputs": [
    {
     "data": {
      "text/plain": [
       "dict_keys(['Roma', 'Napoli', 'Barcelona'])"
      ]
     },
     "execution_count": 2,
     "metadata": {},
     "output_type": "execute_result"
    }
   ],
   "source": [
    "elenco_citta.keys()"
   ]
  },
  {
   "cell_type": "code",
   "execution_count": 3,
   "id": "07c0e853",
   "metadata": {},
   "outputs": [],
   "source": [
    "elenco_citta['Roma']='Francia'"
   ]
  },
  {
   "cell_type": "markdown",
   "id": "1efb3ddb",
   "metadata": {},
   "source": [
    "in questo caso le keys non cambiano ma i valori si, in questo modo non dà errore perchè si sovrascrive.\n",
    "Il dizionario utilizza come identificativo la chiave per salvare il valore del dizionario, quindi sovrascrivendo il valore corrispondente ad una chiave esistente verrà effettuata la sostituzione"
   ]
  },
  {
   "cell_type": "code",
   "execution_count": 4,
   "id": "f754a935",
   "metadata": {},
   "outputs": [],
   "source": [
    "elenco_citta['Roma']='Italia'"
   ]
  },
  {
   "cell_type": "markdown",
   "id": "20dfa1f5",
   "metadata": {},
   "source": [
    "Avendo un elenco di città è possibile ricavare lo stato di appartenenza"
   ]
  },
  {
   "cell_type": "code",
   "execution_count": 5,
   "id": "143dc350",
   "metadata": {},
   "outputs": [
    {
     "ename": "SyntaxError",
     "evalue": "'[' was never closed (2819655098.py, line 1)",
     "output_type": "error",
     "traceback": [
      "\u001b[1;36m  Cell \u001b[1;32mIn [5], line 1\u001b[1;36m\u001b[0m\n\u001b[1;33m    lista_citta=['Roma','Napoli','Barcelona]'\u001b[0m\n\u001b[1;37m                ^\u001b[0m\n\u001b[1;31mSyntaxError\u001b[0m\u001b[1;31m:\u001b[0m '[' was never closed\n"
     ]
    }
   ],
   "source": [
    "lista_citta=['Roma','Napoli','Barcelona]'\n",
    "             print(elenco_citta[lista_citta[0], elenco_citta['Roma']])\n",
    "             \n",
    "#vogliamo ottenere una lista di stati contenuti in elenco_citta\n",
    "             #corrispondenti solo a città che hanno all'interno del proprio nome la lettera 'r'"
   ]
  },
  {
   "cell_type": "code",
   "execution_count": null,
   "id": "f23bfddd",
   "metadata": {},
   "outputs": [],
   "source": [
    "print([elenco_citta[citta] for citta in lista_citta])"
   ]
  },
  {
   "cell_type": "markdown",
   "id": "f5ca6691",
   "metadata": {},
   "source": [
    "si accede all'interno dei valori attraverso le chiavi. "
   ]
  },
  {
   "cell_type": "markdown",
   "id": "05a3638f",
   "metadata": {},
   "source": [
    "Allo stesso modo possiamo trovare i valori di un dizionario"
   ]
  },
  {
   "cell_type": "code",
   "execution_count": null,
   "id": "917cd887",
   "metadata": {},
   "outputs": [],
   "source": [
    "elenco_citta.values()"
   ]
  },
  {
   "cell_type": "code",
   "execution_count": null,
   "id": "c7aa22f4",
   "metadata": {},
   "outputs": [],
   "source": [
    "lista_citta=['Roma','Napoli','Barcelona]'\n",
    "             #vogliamo ottenere una lista di stati contenuti in elenco_citta\n",
    "             #corrispondenti solo a città che hanno all'interno del proprio nome la lettera 'r'"
   ]
  },
  {
   "cell_type": "code",
   "execution_count": null,
   "id": "2388d8bc",
   "metadata": {},
   "outputs": [],
   "source": [
    "stati={elenco_citta[citta] for citta in lista_citta}\n",
    "citta= list(elenco_citta.keys())\n",
    "print(citta)\n",
    "print([[stati_r] for stati_r in stati if 'r' in citta])\n"
   ]
  },
  {
   "cell_type": "markdown",
   "id": "33c2f7a2",
   "metadata": {},
   "source": [
    "Inizializzare un dizionario con valori"
   ]
  },
  {
   "cell_type": "code",
   "execution_count": 6,
   "id": "f933cce6",
   "metadata": {},
   "outputs": [
    {
     "name": "stdout",
     "output_type": "stream",
     "text": [
      "{'key_1': 'value_1', 'key_2': 'value_2'}\n"
     ]
    }
   ],
   "source": [
    "d={\n",
    "    \"key_1\":\"value_1\",\n",
    "    'key_2':'value_2',\n",
    "}\n",
    "print(d)"
   ]
  },
  {
   "cell_type": "markdown",
   "id": "132e563c",
   "metadata": {},
   "source": [
    "Eliminare un valore da un dizionario"
   ]
  },
  {
   "cell_type": "code",
   "execution_count": 7,
   "id": "02b91e3a",
   "metadata": {},
   "outputs": [
    {
     "name": "stdout",
     "output_type": "stream",
     "text": [
      "{'key_2': 'value_2'}\n"
     ]
    }
   ],
   "source": [
    "del d['key_1']\n",
    "print(d)"
   ]
  },
  {
   "cell_type": "markdown",
   "id": "acd3a68a",
   "metadata": {},
   "source": [
    "Dictionary comprehension"
   ]
  },
  {
   "cell_type": "code",
   "execution_count": null,
   "id": "57f89a0b",
   "metadata": {},
   "outputs": [],
   "source": [
    "#items è una lista di coppie chiave valore.\n",
    "#rigiro un dizionario invertendo keys e values\n",
    "d={\n",
    "    \"key_1\":\"value_1\",\n",
    "    'key_2':'value_2',\n",
    "}\n",
    "d_inv={value: key for key, value in d.items()}\n",
    "print(d_inv)\n",
    "#d.items() è un oggetto iterabile di chiavi valori\n",
    "#io posso iterare gli items andando ad accedere a ciascona...\n",
    "#se abbiamo un oggetto iterabile e queste tuple hanno di valori posso identificarli con \n",
    "#dei valori di variabile"
   ]
  },
  {
   "cell_type": "code",
   "execution_count": 13,
   "id": "a3d2f16e",
   "metadata": {},
   "outputs": [
    {
     "data": {
      "text/plain": [
       "dict_items([('key_2', 'value_2')])"
      ]
     },
     "execution_count": 13,
     "metadata": {},
     "output_type": "execute_result"
    }
   ],
   "source": [
    "d.items()"
   ]
  },
  {
   "cell_type": "code",
   "execution_count": 8,
   "id": "ff900a6a",
   "metadata": {},
   "outputs": [
    {
     "data": {
      "text/plain": [
       "{'key_2': 'value_2'}"
      ]
     },
     "execution_count": 8,
     "metadata": {},
     "output_type": "execute_result"
    }
   ],
   "source": [
    "{k: v for k, v in d.items()}"
   ]
  },
  {
   "cell_type": "code",
   "execution_count": 9,
   "id": "4560b41a",
   "metadata": {},
   "outputs": [
    {
     "data": {
      "text/plain": [
       "{'Roma': 'Italia', 'Napoli': 'Italia', 'Barcelona': 'Spagna'}"
      ]
     },
     "execution_count": 9,
     "metadata": {},
     "output_type": "execute_result"
    }
   ],
   "source": [
    "elenco_citta"
   ]
  },
  {
   "cell_type": "code",
   "execution_count": 11,
   "id": "7b1628af",
   "metadata": {},
   "outputs": [
    {
     "name": "stdout",
     "output_type": "stream",
     "text": [
      "{'Roma': 'ITALIA', 'Napoli': 'ITALIA', 'Barcelona': 'SPAGNA'}\n"
     ]
    },
    {
     "data": {
      "text/plain": [
       "<function print>"
      ]
     },
     "execution_count": 11,
     "metadata": {},
     "output_type": "execute_result"
    }
   ],
   "source": [
    "#creare un dizionario con i nomi delle città maiuscoli usando una dictionary comprhension\n",
    "elenco_CITTA={k: v.upper() for k, v in elenco_citta.items()}\n",
    "print(elenco_CITTA)\n",
    "#voglio la chiave e il valore convertito in upper case per ogni coppia chiave valore all'interno di ...\n",
    "print"
   ]
  },
  {
   "cell_type": "code",
   "execution_count": 12,
   "id": "4eb4295c",
   "metadata": {},
   "outputs": [
    {
     "data": {
      "text/plain": [
       "{'ITALIA', 'SPAGNA'}"
      ]
     },
     "execution_count": 12,
     "metadata": {},
     "output_type": "execute_result"
    }
   ],
   "source": [
    "{v.upper() for k, v in elenco_citta.items()}\n",
    "#potevamo farlo con gli insiemi"
   ]
  },
  {
   "cell_type": "code",
   "execution_count": null,
   "id": "2ac100bc",
   "metadata": {},
   "outputs": [],
   "source": []
  }
 ],
 "metadata": {
  "kernelspec": {
   "display_name": "Python 3 (ipykernel)",
   "language": "python",
   "name": "python3"
  },
  "language_info": {
   "codemirror_mode": {
    "name": "ipython",
    "version": 3
   },
   "file_extension": ".py",
   "mimetype": "text/x-python",
   "name": "python",
   "nbconvert_exporter": "python",
   "pygments_lexer": "ipython3",
   "version": "3.10.7"
  }
 },
 "nbformat": 4,
 "nbformat_minor": 5
}
