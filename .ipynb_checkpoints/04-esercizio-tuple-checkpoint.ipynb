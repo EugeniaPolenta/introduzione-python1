{
 "cells": [
  {
   "cell_type": "markdown",
   "id": "a68c2bb6",
   "metadata": {},
   "source": [
    "# Le tuple\n",
    "Sono insieme di oggetti possibilmente di diversa natura immutabili (come le stringhe, non ne posso modificare il valore)."
   ]
  },
  {
   "cell_type": "code",
   "execution_count": 1,
   "id": "ba26bed0",
   "metadata": {},
   "outputs": [
    {
     "name": "stdout",
     "output_type": "stream",
     "text": [
      "('ciao', 'a', 'tutti', 'i', 'presenti')\n"
     ]
    }
   ],
   "source": [
    "t=('ciao','a','tutti','i','presenti')\n",
    "print(t)"
   ]
  },
  {
   "cell_type": "markdown",
   "id": "49e10af0",
   "metadata": {},
   "source": [
    "Per accedere ad un elemento di una tupla è possibile usare l'indice, ovverot[]) (come per le liste e le stringhe). Allo stesso modo si possono considerare sottotuple."
   ]
  },
  {
   "cell_type": "code",
   "execution_count": 2,
   "id": "05f5a6a0",
   "metadata": {},
   "outputs": [
    {
     "name": "stdout",
     "output_type": "stream",
     "text": [
      "tutti ('ciao', 'a', 'tutti') presenti\n"
     ]
    }
   ],
   "source": [
    "print(t[2],t[:3],t[-1])"
   ]
  },
  {
   "cell_type": "code",
   "execution_count": 3,
   "id": "251bbef6",
   "metadata": {},
   "outputs": [
    {
     "name": "stdout",
     "output_type": "stream",
     "text": [
      "impossibile modificare il modificare il valore di una tupla--->tuple immutabili\n"
     ]
    }
   ],
   "source": [
    "try:\n",
    "    t[0]='Buongiorno'\n",
    "except:\n",
    "    print('impossibile modificare il modificare il valore di una tupla--->tuple immutabili')"
   ]
  },
  {
   "cell_type": "code",
   "execution_count": 4,
   "id": "418c20e8",
   "metadata": {},
   "outputs": [
    {
     "name": "stdout",
     "output_type": "stream",
     "text": [
      "stringhe immutabili\n",
      "tuple immutabili\n"
     ]
    }
   ],
   "source": [
    "### Puntatore vs memoria\n",
    "#in python i puntatori possono essere riutilizzati indefinite volte (facendoli puntare a porzioni di memoria sempre diverse): quando si parla di immutabilità dunque non ci si riferisce al puntatore.\n",
    "#il nome della variabile (nell'esempio 's') può essere riassegnato indefinite volte\n",
    "s='ciao'\n",
    "try:\n",
    "    s[0]='x'\n",
    "except:\n",
    "    print('stringhe immutabili')\n",
    "s=[1]\n",
    "s[0]=2 #qui è concesso, perchè siamo nel caso della lista\n",
    "s=('a')\n",
    "try:\n",
    "    s[0]='b'\n",
    "except:\n",
    "    print('tuple immutabili')"
   ]
  },
  {
   "cell_type": "markdown",
   "id": "1b2abff1",
   "metadata": {},
   "source": [
    "## Un operatore interessante da usare su insiemi"
   ]
  },
  {
   "cell_type": "code",
   "execution_count": 5,
   "id": "9cde024b",
   "metadata": {},
   "outputs": [],
   "source": [
    "t=(1,4,9,16,25)"
   ]
  },
  {
   "cell_type": "markdown",
   "id": "f2163bbf",
   "metadata": {},
   "source": [
    "Vogliamo provare a vedere se c'è un qualcosa all'interno della tupla t e il risultato ci dà un'espressione booleana, ci dà un True o False"
   ]
  },
  {
   "cell_type": "code",
   "execution_count": 6,
   "id": "41ddb5f0",
   "metadata": {},
   "outputs": [
    {
     "name": "stdout",
     "output_type": "stream",
     "text": [
      "False True\n"
     ]
    }
   ],
   "source": [
    "print(5 in t, 25 in t)"
   ]
  },
  {
   "cell_type": "code",
   "execution_count": 7,
   "id": "869bb2b3",
   "metadata": {},
   "outputs": [
    {
     "name": "stdout",
     "output_type": "stream",
     "text": [
      "in usato per le liste False True\n"
     ]
    }
   ],
   "source": [
    "#usando la list comprension e vediamo se si può usare questo stesso comando per e liste\n",
    "l=[n for n in t]\n",
    "print('in usato per le liste', 5 in l, 16 in l)"
   ]
  },
  {
   "cell_type": "code",
   "execution_count": 8,
   "id": "7b1c2dd3",
   "metadata": {},
   "outputs": [
    {
     "name": "stdout",
     "output_type": "stream",
     "text": [
      "1491625\n",
      "in usato per le stringhe True True False\n"
     ]
    }
   ],
   "source": [
    "#vediamo se possiamo fare la stessa cosa per le stringhe\n",
    "s=''.join([str(n) for n in t])\n",
    "print(s)\n",
    "print ('in usato per le stringhe','5' in s, '16' in s, '7' in s)"
   ]
  },
  {
   "cell_type": "code",
   "execution_count": 9,
   "id": "c1fbac29",
   "metadata": {},
   "outputs": [
    {
     "name": "stdout",
     "output_type": "stream",
     "text": [
      "1\n",
      "(1,)\n"
     ]
    }
   ],
   "source": [
    "#caso particolare\n",
    "tupla_solitaria=(1) #ovvero una tupla con un solo valore, se lo stampo non mi ridà la tupla ma solo il valore dentro\n",
    "print(tupla_solitaria)\n",
    "#quindi per creare una tupla che contiene un solo elemento devo mettere la virga dopo, anche se rimane stampata è comunque una tupla che contiene un solo dato \n",
    "tupla_solitaria2=(1,)\n",
    "print(tupla_solitaria2)"
   ]
  },
  {
   "cell_type": "markdown",
   "id": "0656d0c4",
   "metadata": {},
   "source": [
    "Per inizializzare una tupla contenente un solo elemento ad esempio il numero 1, è necessario includere nella dichiarazione una virgola. In caso contrario le parentesi verranno interpretate come un'espressione e non come una dichiarazione di tupla."
   ]
  },
  {
   "cell_type": "code",
   "execution_count": 10,
   "id": "420da4a6",
   "metadata": {},
   "outputs": [
    {
     "name": "stdout",
     "output_type": "stream",
     "text": [
      "1 <class 'int'>\n",
      "(1,) <class 'tuple'>\n"
     ]
    }
   ],
   "source": [
    "non_tupla=(1) #interpretato come espressione\n",
    "print(non_tupla, type(non_tupla)) #qui si vede che viene fuori un int\n",
    "print(tupla_solitaria2, type(tupla_solitaria2))"
   ]
  },
  {
   "cell_type": "markdown",
   "id": "d036b3c2",
   "metadata": {},
   "source": [
    "Trucchi per modificare una tupla senza rompere le regole:\n",
    "ricordiamo che è sempre possibile operare conversioni tra molti tipi di dato in python: es. tupla---> lista"
   ]
  },
  {
   "cell_type": "code",
   "execution_count": 11,
   "id": "6ae5883d",
   "metadata": {},
   "outputs": [
    {
     "name": "stdout",
     "output_type": "stream",
     "text": [
      "non si può modificare una tupla\n"
     ]
    }
   ],
   "source": [
    "tupla=(0,1,2,3,4,5) #vogliamo sostituire il 3\n",
    "try:\n",
    "    tupla[3]='a'\n",
    "except:\n",
    "    print('non si può modificare una tupla')"
   ]
  },
  {
   "cell_type": "code",
   "execution_count": 12,
   "id": "b78d1253",
   "metadata": {},
   "outputs": [
    {
     "name": "stdout",
     "output_type": "stream",
     "text": [
      "(0, 1, 2, 'x', 4, 5)\n"
     ]
    }
   ],
   "source": [
    "l=list(tupla)\n",
    "l[3]='x'\n",
    "print(tuple(l)) #trasformando la tupla in lista siamo riusciti nel nostro intento, questi trucchi richiedono memoria ma si fa spesso"
   ]
  },
  {
   "cell_type": "markdown",
   "id": "f2842d1f",
   "metadata": {},
   "source": [
    "Le tuple possono conservare più occorrenze dello stesso elemento:"
   ]
  },
  {
   "cell_type": "code",
   "execution_count": 13,
   "id": "ea173b17",
   "metadata": {},
   "outputs": [],
   "source": [
    "tupla=(0,0,1,1) #la tupla può contenere lo stesso elemento ripetuto più volte"
   ]
  },
  {
   "cell_type": "markdown",
   "id": "36439faf",
   "metadata": {},
   "source": [
    "## Gli insiemi (set)\n",
    "Come le tuple sono strutture che permettono di conservare una collezione (una molteplicità) di elementi. Sono immutabili e hanno degli operatori speciali che permettono ai developers di operare. Provando ad inserire molteplici volte lo stesso elemento, il set conserverà solo una copia dell'elemento inserito (non tiene conto di occorrenze multiple). (Queste strutture dati con delle differenze esistono anche in Java)"
   ]
  },
  {
   "cell_type": "code",
   "execution_count": 14,
   "id": "bf284e92",
   "metadata": {},
   "outputs": [
    {
     "name": "stdout",
     "output_type": "stream",
     "text": [
      "{0, 1}\n"
     ]
    }
   ],
   "source": [
    "insieme={0,0,1,1}\n",
    "print(insieme)"
   ]
  },
  {
   "cell_type": "markdown",
   "id": "c300ebb8",
   "metadata": {},
   "source": [
    "com'è possibile operare sui set?"
   ]
  },
  {
   "cell_type": "code",
   "execution_count": 15,
   "id": "dea36567",
   "metadata": {},
   "outputs": [
    {
     "name": "stdout",
     "output_type": "stream",
     "text": [
      "impossibile accedere ad un elemento dellinsieme tramite indice: da errore perchè linsieme non ha indice\n"
     ]
    }
   ],
   "source": [
    "try:\n",
    "    insieme[0]\n",
    "except:\n",
    "    print('impossibile accedere ad un elemento dell''insieme tramite indice: da errore perchè l''insieme non ha indice')\n"
   ]
  },
  {
   "cell_type": "markdown",
   "id": "7d52ec5c",
   "metadata": {},
   "source": [
    "Il set non mantiene per forza un ordine, quindi non si può operare in questo modo con gli indici.\n",
    "Per com è fatto il set non è possibile a priori decidere come ordinare elementi al suo interno."
   ]
  },
  {
   "cell_type": "code",
   "execution_count": 16,
   "id": "95f4ccec",
   "metadata": {},
   "outputs": [
    {
     "name": "stdout",
     "output_type": "stream",
     "text": [
      "{0, 1}\n"
     ]
    }
   ],
   "source": [
    "insieme={1,1,0,0} #non è detto che qui mantenga l'ordine 1 e 0.\n",
    "print(insieme)"
   ]
  },
  {
   "cell_type": "markdown",
   "id": "0681dd04",
   "metadata": {},
   "source": [
    "#questo non vuol dire che mantiene l'ordine numerico, questo è un caso: NON MANTIENE ALCUN ORDINE. Quindi NON si può accedere agli elementi tramite indice."
   ]
  },
  {
   "cell_type": "code",
   "execution_count": 17,
   "id": "d06a30aa",
   "metadata": {},
   "outputs": [],
   "source": [
    "l_grande=list(range(10**6))\n",
    "s_grande=set(range(10**6))"
   ]
  },
  {
   "cell_type": "code",
   "execution_count": 18,
   "id": "8ee13697",
   "metadata": {},
   "outputs": [
    {
     "name": "stdout",
     "output_type": "stream",
     "text": [
      "ricerca in lista con operatore \"in\" eseguita in 0.0010001659393310547 s\n",
      "ricerca in set con operatore \"in\" eseguita in 0.0 s\n"
     ]
    }
   ],
   "source": [
    "import time\n",
    "#potremmo fare help(time) per capire meglio come usarlo\n",
    "start=time.time() #per misurare il tempo \n",
    "99999 in l_grande\n",
    "end=time.time()\n",
    "print ('ricerca in lista con operatore \"in\" eseguita in',(end - start), 's')\n",
    "\n",
    "start=time.time()\n",
    "99999 in s_grande\n",
    "end=time.time()\n",
    "print ('ricerca in set con operatore \"in\" eseguita in',(end - start), 's')"
   ]
  },
  {
   "cell_type": "markdown",
   "id": "f544d07d",
   "metadata": {},
   "source": [
    "In python è possibile convertire velocemente diversi tipi di collezioni (termo generico che contiene set, lista, tupla, etc.) "
   ]
  },
  {
   "cell_type": "code",
   "execution_count": 19,
   "id": "fe80f397",
   "metadata": {},
   "outputs": [
    {
     "name": "stdout",
     "output_type": "stream",
     "text": [
      "{'u', 'o', 't'}\n"
     ]
    }
   ],
   "source": [
    "insieme_da_str= set(\"tutto\")\n",
    "print(insieme_da_str)"
   ]
  },
  {
   "cell_type": "markdown",
   "id": "0cc8831b",
   "metadata": {},
   "source": [
    "Altri operatori interessanti sugli insiemi "
   ]
  },
  {
   "cell_type": "code",
   "execution_count": 20,
   "id": "124f14b2",
   "metadata": {},
   "outputs": [
    {
     "name": "stdout",
     "output_type": "stream",
     "text": [
      "{'C', 'a', 'B', 'A', 'c', 'b'}\n"
     ]
    }
   ],
   "source": [
    "maiuscole={'A','B','C'}\n",
    "minuscole={'a','b','c'}\n",
    "lettere=maiuscole | minuscole #questo fa l'unione\n",
    "print(lettere)"
   ]
  },
  {
   "cell_type": "code",
   "execution_count": 21,
   "id": "5baacde0",
   "metadata": {},
   "outputs": [
    {
     "name": "stdout",
     "output_type": "stream",
     "text": [
      "set()\n"
     ]
    }
   ],
   "source": [
    "#intersezione( and logico)\n",
    "print(maiuscole & minuscole)\n",
    "#ci darà l'insieme vuoto"
   ]
  },
  {
   "cell_type": "code",
   "execution_count": 22,
   "id": "adc1a5bd",
   "metadata": {},
   "outputs": [
    {
     "name": "stdout",
     "output_type": "stream",
     "text": [
      "{'a'}\n"
     ]
    }
   ],
   "source": [
    "vocali_minuscole={'a','e','i','o','u'}\n",
    "print(minuscole & vocali_minuscole)"
   ]
  },
  {
   "cell_type": "code",
   "execution_count": 23,
   "id": "efe9b84d",
   "metadata": {},
   "outputs": [
    {
     "name": "stdout",
     "output_type": "stream",
     "text": [
      "{'c', 'b'}\n"
     ]
    }
   ],
   "source": [
    "#differenza\n",
    "print(minuscole- vocali_minuscole)"
   ]
  },
  {
   "cell_type": "code",
   "execution_count": 24,
   "id": "17652344",
   "metadata": {},
   "outputs": [
    {
     "name": "stdout",
     "output_type": "stream",
     "text": [
      "{'o', 'i', 'e', 'u', 'c', 'b'}\n"
     ]
    }
   ],
   "source": [
    "#l'unione dei due meno l'intersezione dei due è lo xor ^\n",
    "print(minuscole ^ vocali_minuscole)\n",
    "# ci darà tutto tranne la a"
   ]
  },
  {
   "cell_type": "markdown",
   "id": "b4a66885",
   "metadata": {},
   "source": [
    "Set comprehension"
   ]
  },
  {
   "cell_type": "markdown",
   "id": "6a7ebd1e",
   "metadata": {},
   "source": [
    "Si possono creare dei set dinamicamente, come per le list comprehension"
   ]
  },
  {
   "cell_type": "code",
   "execution_count": 25,
   "id": "d7253472",
   "metadata": {},
   "outputs": [
    {
     "name": "stdout",
     "output_type": "stream",
     "text": [
      "{0, 1, 64, 4, 36, 9, 16, 49, 81, 25}\n"
     ]
    }
   ],
   "source": [
    "set_quadrati ={n**2 for n in range(10)}\n",
    "print(set_quadrati)\n",
    "#range(10) ci da i valori tra 0 e 9:l'indice di partenza è sempre incluso e quello di arrivo è sempre escluso\n",
    "#otteniamo un set con una comprhension"
   ]
  },
  {
   "cell_type": "markdown",
   "id": "6ba5f28d",
   "metadata": {},
   "source": [
    "qui osserviamo che l'ordinamento non è numerico "
   ]
  },
  {
   "cell_type": "code",
   "execution_count": null,
   "id": "de77b901",
   "metadata": {},
   "outputs": [],
   "source": []
  },
  {
   "cell_type": "code",
   "execution_count": null,
   "id": "b10592b0",
   "metadata": {},
   "outputs": [],
   "source": []
  },
  {
   "cell_type": "code",
   "execution_count": null,
   "id": "e7efd78a",
   "metadata": {},
   "outputs": [],
   "source": []
  },
  {
   "cell_type": "code",
   "execution_count": null,
   "id": "896aeb6f",
   "metadata": {},
   "outputs": [],
   "source": []
  }
 ],
 "metadata": {
  "kernelspec": {
   "display_name": "Python 3 (ipykernel)",
   "language": "python",
   "name": "python3"
  },
  "language_info": {
   "codemirror_mode": {
    "name": "ipython",
    "version": 3
   },
   "file_extension": ".py",
   "mimetype": "text/x-python",
   "name": "python",
   "nbconvert_exporter": "python",
   "pygments_lexer": "ipython3",
   "version": "3.10.7"
  }
 },
 "nbformat": 4,
 "nbformat_minor": 5
}
