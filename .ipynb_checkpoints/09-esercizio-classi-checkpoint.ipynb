{
 "cells": [
  {
   "cell_type": "markdown",
   "id": "92afe6c1",
   "metadata": {},
   "source": [
    "## Le classi in Python\n",
    "\n",
    "Ci permettono di definire ed usare strutture di dati che contengono variabili e funzioni.\n",
    "Una classe ci permette di definire un'entità, che ha degli attributi.\n",
    "\n",
    "(keyword) class (nome classe) Persona (due punti):\n",
    "\n",
    "I nomi delle classi convenzionalmente iniziano con una Maiuscola."
   ]
  },
  {
   "cell_type": "code",
   "execution_count": 1,
   "id": "ab02d339",
   "metadata": {},
   "outputs": [],
   "source": [
    "class Persona:\n",
    "    pass #ho definito una classe che non ha niente. pass mi consente di andare avanti.\n",
    "#anche se è vuota il fatto che è una classe mi permette di ereditare una serie di operazioni date da python--> questo si vede con dir(Persona)"
   ]
  },
  {
   "cell_type": "code",
   "execution_count": 2,
   "id": "3e251607",
   "metadata": {},
   "outputs": [
    {
     "data": {
      "text/plain": [
       "['__class__',\n",
       " '__delattr__',\n",
       " '__dict__',\n",
       " '__dir__',\n",
       " '__doc__',\n",
       " '__eq__',\n",
       " '__format__',\n",
       " '__ge__',\n",
       " '__getattribute__',\n",
       " '__gt__',\n",
       " '__hash__',\n",
       " '__init__',\n",
       " '__init_subclass__',\n",
       " '__le__',\n",
       " '__lt__',\n",
       " '__module__',\n",
       " '__ne__',\n",
       " '__new__',\n",
       " '__reduce__',\n",
       " '__reduce_ex__',\n",
       " '__repr__',\n",
       " '__setattr__',\n",
       " '__sizeof__',\n",
       " '__str__',\n",
       " '__subclasshook__',\n",
       " '__weakref__']"
      ]
     },
     "execution_count": 2,
     "metadata": {},
     "output_type": "execute_result"
    }
   ],
   "source": [
    "dir(Persona)"
   ]
  },
  {
   "cell_type": "markdown",
   "id": "03d07a1d",
   "metadata": {},
   "source": [
    "## Istanziare una classe"
   ]
  },
  {
   "cell_type": "code",
   "execution_count": 3,
   "id": "655ec191",
   "metadata": {},
   "outputs": [
    {
     "data": {
      "text/plain": [
       "__main__.Persona"
      ]
     },
     "execution_count": 3,
     "metadata": {},
     "output_type": "execute_result"
    }
   ],
   "source": [
    "mario=Persona() #crea una nuova istanza di una classe Persona\n",
    "type(mario) #le classi costituiscono tipi: quando dichiaro una classe è come se stessi impostando un nuovo tipo"
   ]
  },
  {
   "cell_type": "code",
   "execution_count": 4,
   "id": "bd86780e",
   "metadata": {},
   "outputs": [
    {
     "name": "stdout",
     "output_type": "stream",
     "text": [
      "<__main__.Persona object at 0x0000015FFF5EAC50>\n"
     ]
    }
   ],
   "source": [
    "print(mario) #mancanza di una rappresentazione stringa: viene usata solo quella di default"
   ]
  },
  {
   "cell_type": "markdown",
   "id": "ca5956b1",
   "metadata": {},
   "source": [
    "è possibile assegnare degli attributi (variabili) ad una classe. Le classi rappresentano 'oggetti' della vita reale. Ad es. una persona è caratterizzata da Nome, Cognome, email.\n",
    "\n",
    "La quantità di attributi che dichiariamo in una classe è proporzionale a quanto dettagliatamente vogliamo descrivere l'oggetto (una persona può avere centinaia di attributi)."
   ]
  },
  {
   "cell_type": "code",
   "execution_count": 5,
   "id": "cdb9cb63",
   "metadata": {},
   "outputs": [],
   "source": [
    "class Persona: #ho ridichiarato la classe Persona: l'ho sovrascritta\n",
    "    pass"
   ]
  },
  {
   "cell_type": "code",
   "execution_count": 6,
   "id": "ab7ef4ff",
   "metadata": {},
   "outputs": [],
   "source": [
    "#abbiamo visto che abbiamo già la funzione __ init__ per una classe, ma ora ridefinensola dentro class la andiamo a sovrascrivere\n",
    "class Persona:\n",
    "    \"\"\"\n",
    "    quando dichiariamo una classe è convenzione definire un metodo speciale che ne descrive gli attributi.\n",
    "    Questo metodo speciale si chiama _ _init_ _\n",
    "    \"\"\"\n",
    "    \"\"\"\n",
    "    di default la funzione _ _init_ _ di una nuova classe è vuota:\n",
    "    def _ _init_ _(self):\n",
    "        pass\n",
    "    \"\"\"\n",
    "    \n",
    "    #ogni funzione all'interno della classe come primo argomento deve avere una parola chiave 'self'\n",
    "    #self indica se stessa e poi mettiamo gli attributi\n",
    "    #self ci permette di accedere alla memoria stessa della classe\n",
    "    def __init__(self, nome, cognome, email):\n",
    "        self.nome=nome #il secondo 'nome' è quello che gli passo dentro l'int, è diverso dal primo\n",
    "                       #self è il rappresentante della classe dentro cui è\n",
    "        self.cognome=cognome\n",
    "        self.email=email"
   ]
  },
  {
   "cell_type": "markdown",
   "id": "a347bb07",
   "metadata": {},
   "source": [
    "Use the __init__() function to assign values to object properties, or other operations that are necessary to do when the object is being created:"
   ]
  },
  {
   "cell_type": "code",
   "execution_count": 5,
   "id": "7b05d5b6",
   "metadata": {},
   "outputs": [
    {
     "name": "stdout",
     "output_type": "stream",
     "text": [
      "Mario Rossi mario@rossi.it\n"
     ]
    }
   ],
   "source": [
    "#mario=Persona() type error: per istanziare una classe bisogna chiamare correttamente la funzione _ _init_ _\n",
    "mario=Persona('Mario', 'Rossi', 'mario@rossi.it') #self è implicitamente passato, non lo usiamo nella chiamata della funzione\n",
    "print(mario.nome, mario.cognome, mario.email)"
   ]
  },
  {
   "cell_type": "code",
   "execution_count": 8,
   "id": "ca175e1e",
   "metadata": {},
   "outputs": [
    {
     "data": {
      "text/plain": [
       "{'nome': 'valentina', 'cognome': 'verdi'}"
      ]
     },
     "execution_count": 8,
     "metadata": {},
     "output_type": "execute_result"
    }
   ],
   "source": [
    "#vediamo che c'è una sorta di similitudine con self e il dizionario\n",
    "#questo crea un dizionario:\n",
    "persona={}\n",
    "persona['nome']='valentina'\n",
    "persona['cognome']='verdi'\n",
    "persona"
   ]
  },
  {
   "cell_type": "markdown",
   "id": "d7bd8346",
   "metadata": {},
   "source": [
    "## Print di un oggetto"
   ]
  },
  {
   "cell_type": "code",
   "execution_count": 9,
   "id": "5156ea5c",
   "metadata": {},
   "outputs": [
    {
     "name": "stdout",
     "output_type": "stream",
     "text": [
      "<__main__.Persona object at 0x0000015FFF5EAD40>\n"
     ]
    }
   ],
   "source": [
    "# non me lo stampa bene mario però\n",
    "print(mario)"
   ]
  },
  {
   "cell_type": "code",
   "execution_count": 3,
   "id": "044be04a",
   "metadata": {},
   "outputs": [],
   "source": [
    "#allora posso fare così:\n",
    "class Persona:\n",
    "     def __init__(self, nome, cognome, email):\n",
    "        self.nome=nome #il secondo 'nome' è quello che gli passo dentro l'int, è diverso dal primo\n",
    "                       #self è il rappresentante della classe dentro cui è\n",
    "        self.cognome=cognome\n",
    "        self.email=email\n",
    "        \n",
    "     def __str__(self):\n",
    "        \"\"\"\n",
    "        la funzione _ _str_ _ viene implicitamente chiamata da 'print'\n",
    "        print stampa il valore stringa ritornato da _ _str_ _()\n",
    "        \"\"\"\n",
    "        return 'Nome:' + self.nome+ ', Cognome:' + self.cognome + ', email:' + self.email"
   ]
  },
  {
   "cell_type": "code",
   "execution_count": 6,
   "id": "23451804",
   "metadata": {},
   "outputs": [
    {
     "name": "stdout",
     "output_type": "stream",
     "text": [
      "Nome:Mario, Cognome:Rossi, email:mario@rossi.it\n"
     ]
    }
   ],
   "source": [
    "mario.__str__()\n",
    "print(mario)"
   ]
  },
  {
   "cell_type": "code",
   "execution_count": 7,
   "id": "fcb06a96",
   "metadata": {},
   "outputs": [],
   "source": [
    "class Persona:\n",
    "    def __init__(self, nome, cognome, email, anno_nascita=1900):\n",
    "        self.nome=nome #il secondo 'nome' è quello che gli passo dentro l'int, è diverso dal primo\n",
    "                       #self è il rappresentante della classe dentro cui è\n",
    "        self.cognome=cognome\n",
    "        self.email=email\n",
    "        self.anno_nascita=anno_nascita\n",
    "    def __str__(self):\n",
    "        \"\"\"\n",
    "        la funzione _ _str_ _ viene implicitamente chiamata da 'print'\n",
    "        print stampa il valore stringa ritornato da _ _str_ _()\n",
    "        \"\"\"\n",
    "        return 'Nome:' + self.nome+ ', Cognome:' + self.cognome + ', email:' + self.email+'anno: ' + self.anno_nascita\n"
   ]
  },
  {
   "cell_type": "code",
   "execution_count": 11,
   "id": "bc3a0e44",
   "metadata": {},
   "outputs": [
    {
     "name": "stdout",
     "output_type": "stream",
     "text": [
      "Nome:Mario, Cognome:Rossi, email:mario@rossi.it\n"
     ]
    }
   ],
   "source": [
    "#possiamo cambiare gli attributi di una classe successivamente\n",
    "mario.anno_nascita=1990\n",
    "print(mario)"
   ]
  },
  {
   "cell_type": "markdown",
   "id": "fc408bd6",
   "metadata": {},
   "source": [
    "### Differenza tra DATO e INFORMAZIONE:\n",
    "\n",
    "Il dato è slegato da un valore semantico, l'informazione porta con se un valore semantico.\n",
    "\n",
    "Il dato è un atomo di informazione: il dato concorre alla creazione di un'informazione. Ad es: l'età è dato o informazione? E' informazione in quanto è elaborata a partire dalla data odierna (DATO) e la data di nascita (DATO).\n",
    "\n",
    "Nelle basi di dati NON ci vanno informazioni.\n",
    "\n",
    "Come avviene nei database, anche le classi dovrebbero contenere (all'interno dei loro attributi) solo DATI. Con la differenza che le classi possono esporre delle funzionalità per produrre delle informazioni a partire dai loro stessi dati."
   ]
  },
  {
   "cell_type": "code",
   "execution_count": 12,
   "id": "a849dd85",
   "metadata": {},
   "outputs": [],
   "source": [
    "class Utente:\n",
    "    \"\"\"\n",
    "    Classe che rappres l'utente di una piattaforma social.\n",
    "    La policy della compagnia prevede che all'iscrizione l'utente\n",
    "    abbia almeno 16 anni.\n",
    "    \"\"\"\n",
    "    def __init__(self, nome, cognome, data_nascita):\n",
    "        self.nome=nome\n",
    "        self.cognome=cognome\n",
    "        self.data_nascita=data_nascita  \n",
    "    \"\"\"\n",
    "    è corretto salvare la data di nascita in quanto immutabile.\n",
    "    I dati si leggono.\n",
    "    Non sarebbe corretto salvare gli anni in un attributo in quanto\n",
    "    rappresentano un'info. Le info si calcolano.\n",
    "    \"\"\"\n",
    "    def get_eta(self):\n",
    "        t=datetime.date.today()\n",
    "        anni=int((t-self.data_nascita).days/365)\n",
    "        return anni\n",
    "        \n",
    "    def __str__(self):\n",
    "        return self.nome + ' ' + self.cognome + ', età: ' + str(self.get_eta()) + ' anni'"
   ]
  },
  {
   "cell_type": "code",
   "execution_count": 9,
   "id": "d5d610ff",
   "metadata": {},
   "outputs": [
    {
     "data": {
      "text/plain": [
       "26"
      ]
     },
     "execution_count": 9,
     "metadata": {},
     "output_type": "execute_result"
    }
   ],
   "source": [
    "import datetime\n",
    "t=datetime.date.today()\n",
    "g=datetime.date(1995,10,19)\n",
    "t-g #ce lo dà in giorni\n",
    "anni=int((t-g).days/365)\n",
    "anni"
   ]
  },
  {
   "cell_type": "code",
   "execution_count": 17,
   "id": "65f9dbb0",
   "metadata": {},
   "outputs": [],
   "source": [
    "class Utente:\n",
    "    \"\"\"\n",
    "    Classe che rappresenta l'utente di una piattaforma social.\n",
    "    La policy della compagnia prevede che all'iscrizione l'utente abbia almeno 16 anni\n",
    "    \"\"\"\n",
    "    def __init__(self, nome, cognome, data_nascita):\n",
    "        self.nome=nome\n",
    "        self.cognome=cognome\n",
    "        \"\"\"\n",
    "        è corretto salvare la data di nascita in quanto immutabile\n",
    "        \"\"\"\n",
    "        self.data_nascita=data_nascita\n",
    "        \n",
    "    def __str__(self):\n",
    "        return self.nome + ' ' + self.cognome + 'età' + str(self.get_anni()) + 'anni.'\n",
    "    \n",
    "    def get_anni(self):\n",
    "        \"\"\"\n",
    "        non sarebbe corretto salvare gli anni in un attributo, in quanto rappresentano\n",
    "        un'informazione: i dati si LEGGONO, le informazioni si CALCOLANO\n",
    "        \"\"\"\n",
    "        t=datetime.date.today()\n",
    "        #g=datetime.date(1995,10,19) questo è il mio data_nascita\n",
    "        #t-g #ce lo dà in giorni\n",
    "        anni=int((t-self.data_nascita).days/365)\n",
    "        return anni"
   ]
  },
  {
   "cell_type": "code",
   "execution_count": 18,
   "id": "7edb5f27",
   "metadata": {},
   "outputs": [
    {
     "data": {
      "text/plain": [
       "27"
      ]
     },
     "execution_count": 18,
     "metadata": {},
     "output_type": "execute_result"
    }
   ],
   "source": [
    "io= Utente('Eugenia', 'Polenta', datetime.date(1994, 12, 14))\n",
    "io.get_anni()"
   ]
  },
  {
   "cell_type": "code",
   "execution_count": null,
   "id": "885ec3e9",
   "metadata": {},
   "outputs": [],
   "source": [
    "io= Utente('Eugenia', 'Polenta', datetime.date(1994, 12, 14))\n",
    "print(io)"
   ]
  },
  {
   "cell_type": "code",
   "execution_count": null,
   "id": "08eca802",
   "metadata": {},
   "outputs": [],
   "source": [
    "\"\"\"\n",
    "creare una funzione che restituisca una data random dati in ingresso gli anni\n",
    "26---> date dal \n",
    "\"\"\"\n",
    "import random\n",
    "\n",
    "def random_data(anni):\n",
    "    giorni=anni*365\n",
    "    rnd_giorno= random.randrange(1, giorni)\n",
    "    return datetime.date.today()-datetime.timedelta(days=rnd_giorno)\n",
    "\n",
    "random_data(26)"
   ]
  },
  {
   "cell_type": "code",
   "execution_count": 13,
   "id": "dc4051ec",
   "metadata": {},
   "outputs": [],
   "source": [
    "import calendar\n",
    "import random\n",
    "import datetime\n",
    "\n",
    "def random_data(anni):\n",
    "    \n",
    "    rnd_giorno = random.randint(1, 365)\n",
    "    rnd_mese = random.randint(1, 12)\n",
    "    \n",
    "    if rnd_mese < datetime.date.today().month:\n",
    "\n",
    "            anno = datetime.date.today().year - anni\n",
    "            mese = random.randint(1, datetime.date.today().month)\n",
    "            giorno = random.randint(1, datetime.date.today().day-1)\n",
    "            \n",
    "    elif rnd_mese == datetime.date.today().month:\n",
    "        \n",
    "        if rnd_giorno > datetime.date.today().day:\n",
    "            anno = datetime.date.today().year - anni -1\n",
    "            mese = random.randint(datetime.date.today().month, 12)\n",
    "            ultimo_giorno = calendar.monthrange(anno, mese)[1]\n",
    "            giorno = random.randint(datetime.date.today().day, ultimo_giorno)\n",
    "    else:\n",
    "        anno = datetime.date.today().year - anni -1\n",
    "        mese = random.randint(rnd_mese, 12)\n",
    "        ultimo_giorno = calendar.monthrange(anno, mese)[1]\n",
    "        giorno = random.randint(1, ultimo_giorno)\n",
    "            \n",
    "    return datetime.date(anno, mese, giorno)"
   ]
  },
  {
   "cell_type": "code",
   "execution_count": null,
   "id": "57657c8c",
   "metadata": {},
   "outputs": [],
   "source": [
    "\"\"\" \n",
    "data una lista di 10 nomi e 10 cognomi, creare 10 istanze di Utente\n",
    "inizializzate con date di nascita random in modo tale che gli utenti abbiano \n",
    "un'età compresa tra 15 e 20 anni\"\"\"\n",
    "\n",
    "nomi=['Ginevra','Martina','Aldo','Silvia','Giacomo','Enrico','Eugenia','Francesco','Nicola','Mark']\n",
    "cognomi=['Verdi','Rossi','Bianchi','Blui','Gialli','Neri','Azzurri','Arancioni','Marroni','Grigi']\n",
    "\n",
    "utenti=[]\n",
    "for nome, cognome in zip(nomi, cognomi):\n",
    "    anni= random.randint(15,20) \n",
    "    data= random_data(anni)\n",
    "    utenti.append(Utente (nome, cognome,data))\n",
    "for u in utenti:\n",
    "    print(u)"
   ]
  },
  {
   "cell_type": "code",
   "execution_count": null,
   "id": "67bc1c72",
   "metadata": {},
   "outputs": [],
   "source": [
    "utenti2= [Utente(nome, cognome, random_data(random.randint(15,20))) for nome, cognome in zip(nomi, cognomi)]\n",
    "for u in utenti2:\n",
    "    print(u)"
   ]
  },
  {
   "cell_type": "code",
   "execution_count": null,
   "id": "58347fa2",
   "metadata": {},
   "outputs": [],
   "source": [
    "\"\"\"\n",
    "calcolare la media dell'età\n",
    "\"\"\"\n",
    "avg= lambda numeri: sum(numeri)/ len(numeri)\n",
    "avg([u.get_eta() for u in utenti])"
   ]
  },
  {
   "cell_type": "code",
   "execution_count": null,
   "id": "099421b7",
   "metadata": {},
   "outputs": [],
   "source": [
    "[u.get_eta() for u in utenti]"
   ]
  },
  {
   "cell_type": "markdown",
   "id": "59d1ac7b",
   "metadata": {},
   "source": [
    "## Property()\n",
    "\n",
    "Abbiamo fatto una distinzione tra DATI (grezzi) e INFORMAZIONI (che sono l'output di un calcolo che prevedere dati). A volte è comodo poter rappresentare certe informazioni COME SE fossero dati (nella forma di attributo di una classe). La funzione di built-in property ha questo scopo\n",
    "\n",
    "#è una funzione built-in standard, che permette di definire un attributo, una proprietà che è una 'view' su una funzione.\n",
    "property()\n"
   ]
  },
  {
   "cell_type": "code",
   "execution_count": 19,
   "id": "0beb0d58",
   "metadata": {},
   "outputs": [
    {
     "data": {
      "text/plain": [
       "32"
      ]
     },
     "execution_count": 19,
     "metadata": {},
     "output_type": "execute_result"
    }
   ],
   "source": [
    "io.get_anni() #funzione che chiamo per vedere quanti anni ho\n",
    "Utente.anni= property(Utente.get_anni) #faccio un assegnamento alla classe Utente\n",
    "\n",
    "tu= Utente('marco','fumagalli', datetime.date(1990, 9, 29))\n",
    "tu.get_anni()"
   ]
  },
  {
   "cell_type": "markdown",
   "id": "99ff603e",
   "metadata": {},
   "source": [
    "### L'ereditarietà\n",
    "\n",
    "Molto spesso, in un modello computazionale, esistono diverse entità relazionate in qualche modo tra loro. Oltre alle relazioni di 'appartenenza' (1-1, 1-n, n-n) possono esistere delle relazioni di 'parentela'.\n",
    "\n",
    "Una classe può ereditare proprietà da un'altra classe genitore/parente.\n",
    "\n",
    "Es. tutti i mezzi di trasporto hanno una velocità massima (proprietà i.e. dato i.e un attributo)\n",
    "Creo un modello di MezzoDiTrasporto\n",
    "\n",
    "Le automobili a combustibile hanno una proprietà che è: capacità_serbatoio.\n",
    "\n",
    "I treni non hanno la proprietà 'capacità_serbatoio'\n",
    "nonostante le diversità condividono comunque la proprietà 'velocità massima'."
   ]
  },
  {
   "cell_type": "code",
   "execution_count": null,
   "id": "d1da6916",
   "metadata": {},
   "outputs": [],
   "source": [
    "class MezzoDiTrasporto:\n",
    "    def __init__(self, vel_max):\n",
    "        self.vel_max= vel_max\n",
    "        \n",
    "class Automobile:\n",
    "    def __init__(self, vel_max, capienza_serbatoio):\n",
    "        self.vel_max= vel_max\n",
    "        self.capienza_serbatoio=capienza_serbatoio\n",
    "        \n",
    "class Treno:\n",
    "    def __init__(self, vel_max, numero_vagoni):\n",
    "        self.vel_max=vel_max\n",
    "        self.numero_vagoni=numero_vagoni\n",
    "        "
   ]
  },
  {
   "cell_type": "markdown",
   "id": "af573f00",
   "metadata": {},
   "source": [
    "L'esempio sopra ci fa notare quanto sia scomodo e ridondante ripetere il codice. (ci sono 3 classi che ripetono la stessa proprietà).\n",
    "Al posto di ripetere il codice usiamo degli strumenti python per indicare esplicitamente una relazione di parentela tra le diverse classi."
   ]
  },
  {
   "cell_type": "code",
   "execution_count": null,
   "id": "f3a9e971",
   "metadata": {},
   "outputs": [],
   "source": [
    "class MezzoDiTrasporto: #classe genitore\n",
    "    def __init__(self, vel_max):\n",
    "        self.vel_max= vel_max\n",
    "        \n",
    "    def __str__(self):\n",
    "        return 'Sono un mezzo di trasporto'\n",
    "    \n",
    "    \"\"\"\n",
    "    I due metodi seguenti si chiamano SETTER e GETTER\n",
    "    \"\"\"\n",
    "    def set_vel_max(self, new_vel):\n",
    "        if new_vel<0:\n",
    "            self.vel_max=0\n",
    "        else:\n",
    "            self.vel_max=new_vel\n",
    "        \n",
    "    def get_vel_max(self):\n",
    "        return self.vel_max\n",
    "    \n",
    "    #in assenza di un setter, le proprietà sono da considerarsi READ-ONLY\n",
    "    vel=property(get_vel_max, set_vel_max) #la property ci dice come settare...\n",
    "    \n",
    "   # def print_vel_max(self): #questa print me la farà anche automobile\n",
    "    #    print(self.vel_max)\n",
    "        \n",
    "class Automobile(MezzoDiTrasporto): #leggiamo le parentesi come 'è'\n",
    "    def __init(self, vel_max, capienza_serbatoio):#abbiamo già la proprietà di vel massima ereditata dalla classe genitore\n",
    "        #MezzoDiTrasporto.__init__(vel_max), ma non è molto comodo usare MezzoDiTrasporto, quindi usiamo super: una funzione che dato un oggetto ci ritorna la classe da cui eredita\n",
    "        super().__init_(vel_max)\n",
    "        self.capienza_serbatoio= capienza_serbatoio\n",
    "        "
   ]
  },
  {
   "cell_type": "code",
   "execution_count": null,
   "id": "b4e8d60d",
   "metadata": {},
   "outputs": [],
   "source": [
    "mdt= MezzoDiTrasporto(20)\n",
    "print(mdt.vel)\n",
    "#con property è anche possibile indicare una funzione di SETTER per modificare il valore\n",
    "mdt.vel=10\n",
    "print(mdt.vel)\n",
    "\n",
    "\"\"\"\n",
    "qualcuno potrebbe argomentare che, in questo caso sarebbe inutile usare la property perché\n",
    "basterebbe usare l'attributo direttamente (uso di vel_max al posto di usare 'vel' e basta)\n",
    "e allora PERCHé preoccuparsi tanto con GETTER SETTER e property?\n",
    "\n",
    "In molti casi il set di un attributo dovrebbe essere possibile solo se il nuovo valore\n",
    "soddisfa determinati REQUISITI: es: la velocità massima può essere negativa? NO\n",
    "\n",
    "i setter sono FUNZIONI, quindi ci permettono di eseguire BLOCCHI---> più istruzioni.\n",
    "\"\"\"\n",
    "\n",
    "print(mdt.vel_max)\n",
    "mdt.vel_max=100\n",
    "print(mdt.vel_max)"
   ]
  },
  {
   "cell_type": "markdown",
   "id": "74bf2eac",
   "metadata": {},
   "source": [
    "Attenzione: le relazioni di tipo 'parentale' sono unidirezionali:\n",
    "i figli sanno chi sono i genitori, ma i genitori NON sanno chi sono i figli"
   ]
  },
  {
   "cell_type": "code",
   "execution_count": null,
   "id": "bfec0d61",
   "metadata": {},
   "outputs": [],
   "source": [
    "# 'stringa' +3 è impossibile.\n"
   ]
  },
  {
   "cell_type": "markdown",
   "id": "ee008419",
   "metadata": {},
   "source": [
    "Metodi speciali di comparazione delle classi"
   ]
  },
  {
   "cell_type": "code",
   "execution_count": 22,
   "id": "5c6b5504",
   "metadata": {},
   "outputs": [
    {
     "data": {
      "text/plain": [
       "False"
      ]
     },
     "execution_count": 22,
     "metadata": {},
     "output_type": "execute_result"
    }
   ],
   "source": [
    "u_1 = Utente('stefano', 'marzo', datetime.date(1995,10,19))\n",
    "u_2 = Utente('stefano', 'marzo', datetime.date(1995,10,19))\n",
    "\n",
    "u_1==u_2 #ci dà false perché perché uguagliano la posizione in memoria non il contenuto: non è lo stesso spazio di memoria"
   ]
  },
  {
   "cell_type": "code",
   "execution_count": 23,
   "id": "ffcf6ea8",
   "metadata": {},
   "outputs": [
    {
     "name": "stdout",
     "output_type": "stream",
     "text": [
      "True\n",
      "False\n"
     ]
    }
   ],
   "source": [
    "class Admin(Utente):\n",
    "    def __eq__(self, altro):\n",
    "        return self.nome == altro.nome and self.cognome == altro.cognome and self.data_nascita == altro.data_nascita\n",
    "\n",
    "a1 = Admin('stefano', 'marzo', datetime.date(1995,10,19))\n",
    "a2 = Admin('stefano', 'marzo', datetime.date(1995,10,19))\n",
    "\n",
    "print(a1 == a2)#metodo wrapper: un operatore semplice può essere usato per un'operazione un pò più complessa\n",
    "#ora mi da true\n",
    "\n",
    "a3 = Admin('stefano', 'marzo', datetime.date(1999,10,19))\n",
    "\n",
    "print(a1 == a3)\n"
   ]
  },
  {
   "cell_type": "code",
   "execution_count": 24,
   "id": "f46bb0a1",
   "metadata": {},
   "outputs": [
    {
     "name": "stdout",
     "output_type": "stream",
     "text": [
      "mario rossietà53anni.\n",
      "andrea verdietà39anni.\n",
      "maria bianchietà45anni.\n"
     ]
    },
    {
     "data": {
      "text/plain": [
       "list"
      ]
     },
     "execution_count": 24,
     "metadata": {},
     "output_type": "execute_result"
    }
   ],
   "source": [
    "import random\n",
    "class Admin(Utente):\n",
    "    def __eq__(self, altro):\n",
    "        return self.nome == altro.nome and self.cognome == altro.cognome and self.data_nascita == altro.data_nascita\n",
    "\n",
    "admins = [\n",
    "    Admin(n,c,datetime.date(random.randrange(1960, 1990),1,1))\n",
    "    for n,c \n",
    "    in [('mario', 'rossi'), ('andrea', 'verdi'), ('maria','bianchi')]\n",
    "]\n",
    "\n",
    "#dir(list) <-- qui troviamo il metodo sort che si può provare ad applicare\n",
    "#admins.sort() #non possiamo farlo perché non abbiamo definito un ordinamento\n",
    "for a in admins:\n",
    "    print(a)\n",
    "    \n",
    "type(admins)"
   ]
  },
  {
   "cell_type": "code",
   "execution_count": null,
   "id": "8be866b2",
   "metadata": {},
   "outputs": [],
   "source": []
  }
 ],
 "metadata": {
  "kernelspec": {
   "display_name": "Python 3 (ipykernel)",
   "language": "python",
   "name": "python3"
  },
  "language_info": {
   "codemirror_mode": {
    "name": "ipython",
    "version": 3
   },
   "file_extension": ".py",
   "mimetype": "text/x-python",
   "name": "python",
   "nbconvert_exporter": "python",
   "pygments_lexer": "ipython3",
   "version": "3.10.7"
  }
 },
 "nbformat": 4,
 "nbformat_minor": 5
}
