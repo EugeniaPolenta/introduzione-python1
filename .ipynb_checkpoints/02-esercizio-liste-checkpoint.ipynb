{
 "cells": [
  {
   "cell_type": "markdown",
   "id": "31369529",
   "metadata": {},
   "source": [
    "# Liste"
   ]
  },
  {
   "cell_type": "markdown",
   "id": "774218d0",
   "metadata": {},
   "source": [
    "In molti casi è necessario conservare in una sola variabile un insieme di elementi, in questo caso si possono usare strutture di dati come le LISTE"
   ]
  },
  {
   "cell_type": "code",
   "execution_count": 1,
   "id": "598f694d",
   "metadata": {},
   "outputs": [],
   "source": [
    "elenco=[1,3,5,7,9,1.5,-4.8,'ciao']"
   ]
  },
  {
   "cell_type": "markdown",
   "id": "ea64f143",
   "metadata": {},
   "source": [
    "Le liste possono contenere oggetti appartenenti a diversi tipi di dato, come es interi e stringhe o addirittura altre liste. Per accedere ad uno degli elementi della lista possiamo usare il cosiddetto \"indice della lista\" indicato come numero racchiuso nelle parentesi quadre che segue il nome della variabile e che va da 0 a len-1."
   ]
  },
  {
   "cell_type": "code",
   "execution_count": 2,
   "id": "e3a3a539",
   "metadata": {},
   "outputs": [
    {
     "name": "stdout",
     "output_type": "stream",
     "text": [
      "3\n"
     ]
    }
   ],
   "source": [
    "print(elenco[1])"
   ]
  },
  {
   "cell_type": "markdown",
   "id": "dc6154f5",
   "metadata": {},
   "source": [
    "L'indice parte sempre da 0. Se metto un indice più grande del num degli elementi della lista -1, ottengo errore di index out of bound/range (index error)."
   ]
  },
  {
   "cell_type": "code",
   "execution_count": 3,
   "id": "e421ffed",
   "metadata": {},
   "outputs": [
    {
     "name": "stdout",
     "output_type": "stream",
     "text": [
      "index fuori dai valori consentiti\n"
     ]
    }
   ],
   "source": [
    "try:\n",
    "    print(elenco[20])\n",
    "except:\n",
    "    print('index fuori dai valori consentiti')"
   ]
  },
  {
   "cell_type": "code",
   "execution_count": 4,
   "id": "eb646c44",
   "metadata": {},
   "outputs": [
    {
     "name": "stdout",
     "output_type": "stream",
     "text": [
      "<class 'IndexError'> caused by: list index out of range\n"
     ]
    }
   ],
   "source": [
    "try:\n",
    "    elenco[20]\n",
    "except Exception as e:\n",
    "    print(e.__class__,'caused by:', e)"
   ]
  },
  {
   "cell_type": "markdown",
   "id": "f73b3e94",
   "metadata": {},
   "source": [
    "In molti casi è utile sapere il numero di elementi di una lista. Ciò si può ottenere con la funzione built-in len()"
   ]
  },
  {
   "cell_type": "code",
   "execution_count": 5,
   "id": "4e40ec2b",
   "metadata": {},
   "outputs": [
    {
     "data": {
      "text/plain": [
       "8"
      ]
     },
     "execution_count": 5,
     "metadata": {},
     "output_type": "execute_result"
    }
   ],
   "source": [
    "len(elenco)"
   ]
  },
  {
   "cell_type": "code",
   "execution_count": 6,
   "id": "e350bf0b",
   "metadata": {},
   "outputs": [
    {
     "name": "stdout",
     "output_type": "stream",
     "text": [
      "ciao\n",
      "ciao\n",
      "ciao -4.8\n",
      "[5, 7, 9]\n"
     ]
    }
   ],
   "source": [
    "print(elenco[len(elenco)-1])\n",
    "print(elenco[-1])\n",
    "# slicing and indexing:\n",
    "print(elenco[-1], elenco[-2])\n",
    "print(elenco[2:5])"
   ]
  },
  {
   "cell_type": "markdown",
   "id": "34d2eadf",
   "metadata": {},
   "source": [
    "è possibile ottenere sottoliste (sublist) utilizzando l'operatore : all'interno delle parentesi quadre. Il primo limite è inclusivo il secondo è esclusivo"
   ]
  },
  {
   "cell_type": "code",
   "execution_count": 7,
   "id": "fb225f6f",
   "metadata": {},
   "outputs": [
    {
     "name": "stdout",
     "output_type": "stream",
     "text": [
      "[1, 3, 5]\n",
      "[1, 3, 5]\n",
      "[7, 9, 1.5, -4.8, 'ciao']\n",
      "[1, 3, 7, 9, 1.5, -4.8, 'ciao']\n"
     ]
    }
   ],
   "source": [
    "print(elenco[0:3])\n",
    "print(elenco[:3])\n",
    "print(elenco[3:])\n",
    "n=2\n",
    "#concatenazione\n",
    "print(elenco[0:n]+elenco[n+1:])"
   ]
  },
  {
   "cell_type": "markdown",
   "id": "316052f0",
   "metadata": {},
   "source": [
    "$lista[start:stop:step]$ (start incluso, stop non incluso)\\\n",
    "possibili omissioni:\n",
    "- start $\\rightarrow$ 0\n",
    "- end $\\rightarrow$ len\n",
    "- step $\\rightarrow$ 1"
   ]
  },
  {
   "cell_type": "markdown",
   "id": "3cb5247d",
   "metadata": {},
   "source": [
    "Quando manipoliamo una lista al fine di creare una sottolista usando l'operatore \":\" stiamo creando una nuova lista che è indipendente dalla lista originale, non stiamo modificando la lista originale. Siccome l'operatore \":\" crea sempre una nuova copia della lista, il modo più veloce di copiare una lista in python è il seguente"
   ]
  },
  {
   "cell_type": "markdown",
   "id": "c81d5f04",
   "metadata": {},
   "source": [
    "l'operatore : crea una nuova lista, diversa da quella originale.\n",
    "posso quindi creare una copia semplicemente con\\\n",
    "$nuova = vecchia[:]$"
   ]
  },
  {
   "cell_type": "code",
   "execution_count": 8,
   "id": "92271540",
   "metadata": {},
   "outputs": [],
   "source": [
    "elenco_copia=elenco [:]"
   ]
  },
  {
   "cell_type": "code",
   "execution_count": 9,
   "id": "c45b9239",
   "metadata": {},
   "outputs": [
    {
     "name": "stdout",
     "output_type": "stream",
     "text": [
      "2214158523008 2214158533376\n",
      "stessa lista? False\n"
     ]
    }
   ],
   "source": [
    "nuovo_elenco = elenco[:2]+elenco[3:]\n",
    "\n",
    "#The id () function returns a unique id for the specified object. \n",
    "#All objects in Python has its own unique id. The id is assigned to the object when it is created. \n",
    "#The id is the object's memory address, and will be different for each time you run the program. \n",
    "#con questa funzione id() capiamo che anche se 'appaiono' allo stesso modo queste due liste sono due oggetti diversi\n",
    "print(id(elenco), id(nuovo_elenco))\n",
    "print('stessa lista?', id(elenco) == id(nuovo_elenco))"
   ]
  },
  {
   "cell_type": "markdown",
   "id": "4aca8c4f",
   "metadata": {},
   "source": [
    "Inoltre è possibile definire una lista vuota"
   ]
  },
  {
   "cell_type": "code",
   "execution_count": 10,
   "id": "9d8dd6ca",
   "metadata": {},
   "outputs": [],
   "source": [
    "vuota=[]"
   ]
  },
  {
   "cell_type": "code",
   "execution_count": 11,
   "id": "c0beb406",
   "metadata": {},
   "outputs": [
    {
     "name": "stdout",
     "output_type": "stream",
     "text": [
      "[1]\n",
      "[1, 2, 3, 4]\n"
     ]
    }
   ],
   "source": [
    "# lista vuota\n",
    "vuota = []\n",
    "\n",
    "# aggiungi un elemento\n",
    "vuota.append(1)\n",
    "print(vuota)\n",
    "\n",
    "# aggiungi più elementi\n",
    "vuota.extend([2, 3, 4])\n",
    "print(vuota)"
   ]
  },
  {
   "cell_type": "markdown",
   "id": "74109e3c",
   "metadata": {},
   "source": [
    "e possiamo utilizzare delle funzioni per inserire in una lista un determinato elemento, concatenare le liste e fare: \n",
    "append,\n",
    "insert (inserisce un nuovo elemento: prende tra le tonde la posizione e cosa inserire),\n",
    "pop (elimina l'ultimo elemento e lo ritorno),\n",
    "remove (rimuove elementi),\n",
    "reverse (inverte l'ordine della lista),\n",
    "sort (riordina la lista, ma se ci sono tipi diversi nella lista non può farlo perchè non posso ordinare numeri e stringhe),\n",
    "index (ti dice in che posizione è un certo elemento)\n",
    "extend (fa una concatenazione, come il +, di elenchi)"
   ]
  },
  {
   "cell_type": "code",
   "execution_count": 12,
   "id": "4dfbca70",
   "metadata": {},
   "outputs": [
    {
     "name": "stdout",
     "output_type": "stream",
     "text": [
      "[1, 3, 5, 'python', 7, 9, 1.5, -4.8, 'ciao']\n",
      "[1, 3, 5, 'python', 7, 9, 1.5, -4.8, 'ciao', 1, 2, 3]\n",
      "[1, 3, 5, 'python', 7, 9, 1.5, -4.8, 1, 2, 3]\n",
      "[1, 3, 5, 'python', 7, 9, 1.5, -4.8, 1, 2]\n",
      "6\n",
      "['ciao', -4.8, 1.5, 9, 7, 5, 3, 1]\n",
      "qualcosa è andato storto\n",
      "[1, 3, 5, 7, 9, 1.5, -4.8, 1, 2]\n",
      "[-4.8, 1, 1, 1.5, 2, 3, 5, 7, 9]\n"
     ]
    }
   ],
   "source": [
    "elenco.insert(3,'python')\n",
    "print(elenco)\n",
    "elenco.extend([1,2,3])\n",
    "print(elenco)\n",
    "elenco.remove('ciao')\n",
    "print(elenco)\n",
    "elenco.pop()\n",
    "print(elenco)\n",
    "print(elenco.index(1.5))\n",
    "elenco_copia.reverse()\n",
    "print(elenco_copia)\n",
    "try:\n",
    "    elenco.sort()\n",
    "except:\n",
    "    print('qualcosa è andato storto')\n",
    "elenco.remove('python')\n",
    "print (elenco)\n",
    "elenco.sort()\n",
    "print (elenco)"
   ]
  },
  {
   "cell_type": "code",
   "execution_count": 13,
   "id": "30bff638",
   "metadata": {},
   "outputs": [
    {
     "name": "stdout",
     "output_type": "stream",
     "text": [
      "prima della modifica [1, 2, 3, 4, 2]\n",
      "dopo la modifica [1, 2, 3, 4, 'modifica']\n"
     ]
    }
   ],
   "source": [
    "# modificare un elemento tramite indice\n",
    "vuota.append(2)\n",
    "print('prima della modifica', vuota)\n",
    "vuota[-1] = 'modifica'\n",
    "print('dopo la modifica', vuota)"
   ]
  },
  {
   "cell_type": "code",
   "execution_count": 14,
   "id": "77d6ed8a",
   "metadata": {},
   "outputs": [
    {
     "name": "stdout",
     "output_type": "stream",
     "text": [
      "3\n"
     ]
    }
   ],
   "source": [
    "# rimuovi elemento tramite indice (ultimo per default se non lo specifico)\n",
    "print(vuota.pop(2), vuota) "
   ]
  },
  {
   "cell_type": "code",
   "execution_count": 26,
   "id": "e5125aed",
   "metadata": {},
   "outputs": [
    {
     "data": {
      "text/plain": [
       "([-4.8, 1, 1, 1.5, 2, 5, 7, 9], None, [-4.8, 1, 1, 1.5, 2, 5, 7, 9])"
      ]
     },
     "execution_count": 26,
     "metadata": {},
     "output_type": "execute_result"
    }
   ],
   "source": [
    "# rimuovi elemento tramite valore\n",
    "elenco, elenco.remove(3), elenco"
   ]
  },
  {
   "cell_type": "code",
   "execution_count": 27,
   "id": "4a98dcb6",
   "metadata": {},
   "outputs": [
    {
     "data": {
      "text/plain": [
       "3"
      ]
     },
     "execution_count": 27,
     "metadata": {},
     "output_type": "execute_result"
    }
   ],
   "source": [
    "# trova indice di un elemento tramite valore\n",
    "elenco.index(1.5)"
   ]
  },
  {
   "cell_type": "code",
   "execution_count": 28,
   "id": "3457a4a2",
   "metadata": {},
   "outputs": [
    {
     "data": {
      "text/plain": [
       "[9, 7, 5, 2, 1.5, 1, 1, -4.8]"
      ]
     },
     "execution_count": 28,
     "metadata": {},
     "output_type": "execute_result"
    }
   ],
   "source": [
    "# lista al contrario\n",
    "#   senza creare una copia\n",
    "elenco.reverse()\n",
    "elenco"
   ]
  },
  {
   "cell_type": "code",
   "execution_count": 29,
   "id": "3ba86e64",
   "metadata": {},
   "outputs": [
    {
     "data": {
      "text/plain": [
       "['a', 'e', 'i', 'o', 'u']"
      ]
     },
     "execution_count": 29,
     "metadata": {},
     "output_type": "execute_result"
    }
   ],
   "source": [
    "# se gli elementi possono essere comparati, la lista si può ordinare\n",
    "#   senza creare una copia\n",
    "vocali = ['e', 'o', 'i', 'a', 'u']\n",
    "vocali.sort()\n",
    "vocali"
   ]
  },
  {
   "cell_type": "markdown",
   "id": "001ec322",
   "metadata": {},
   "source": [
    "## For-loop"
   ]
  },
  {
   "cell_type": "code",
   "execution_count": 30,
   "id": "0e5a6f7b",
   "metadata": {},
   "outputs": [
    {
     "name": "stdout",
     "output_type": "stream",
     "text": [
      "9\n",
      "7\n",
      "5\n",
      "2\n",
      "1.5\n",
      "1\n",
      "1\n",
      "-4.8\n"
     ]
    }
   ],
   "source": [
    "# for-loop su una lista\n",
    "for elemento in elenco: \n",
    "    print(elemento)"
   ]
  },
  {
   "cell_type": "code",
   "execution_count": 31,
   "id": "be00e16b",
   "metadata": {},
   "outputs": [
    {
     "name": "stdout",
     "output_type": "stream",
     "text": [
      "0\n",
      "1\n",
      "2\n",
      "3\n",
      "4\n",
      "5\n",
      "6\n",
      "7\n",
      "8\n",
      "9\n"
     ]
    }
   ],
   "source": [
    "# for-loop su un range [a, b)\n",
    "for i in range(10):\n",
    "    print(i)"
   ]
  },
  {
   "cell_type": "markdown",
   "id": "dd44640d",
   "metadata": {},
   "source": [
    "In pyt è definito un ordine naturale di stringhe e numeri, non è facile ordinare una lista di liste. Per farlo: funzione comparator "
   ]
  },
  {
   "cell_type": "markdown",
   "id": "3a32e10b",
   "metadata": {},
   "source": [
    "## range()\n",
    "\n",
    "Utilizzo di range e funzioni di built-in combinate:"
   ]
  },
  {
   "cell_type": "code",
   "execution_count": 32,
   "id": "15883854",
   "metadata": {},
   "outputs": [
    {
     "data": {
      "text/plain": [
       "6"
      ]
     },
     "execution_count": 32,
     "metadata": {},
     "output_type": "execute_result"
    }
   ],
   "source": [
    "sum(range(4)) # --> [0, 3]"
   ]
  },
  {
   "cell_type": "code",
   "execution_count": 33,
   "id": "06e98418",
   "metadata": {},
   "outputs": [
    {
     "data": {
      "text/plain": [
       "(range(0, 10), [0, 1, 2, 3, 4, 5, 6, 7, 8, 9])"
      ]
     },
     "execution_count": 33,
     "metadata": {},
     "output_type": "execute_result"
    }
   ],
   "source": [
    "# range non è una lista in sé\n",
    "range(10), list(range(10))"
   ]
  },
  {
   "cell_type": "markdown",
   "id": "a5ff7df9",
   "metadata": {},
   "source": [
    "per avere la lista di indici di elenco faccio print() della seguente cosa:"
   ]
  },
  {
   "cell_type": "code",
   "execution_count": 16,
   "id": "bb00d40e",
   "metadata": {},
   "outputs": [
    {
     "data": {
      "text/plain": [
       "[0, 1, 2, 3, 4, 5, 6, 7, 8]"
      ]
     },
     "execution_count": 16,
     "metadata": {},
     "output_type": "execute_result"
    }
   ],
   "source": [
    "# e.g. trovare gli indici di una lista\n",
    "list(range(len(elenco)))"
   ]
  },
  {
   "cell_type": "code",
   "execution_count": 17,
   "id": "6844b64f",
   "metadata": {},
   "outputs": [
    {
     "data": {
      "text/plain": [
       "36"
      ]
     },
     "execution_count": 17,
     "metadata": {},
     "output_type": "execute_result"
    }
   ],
   "source": [
    "sum(list(range(len(elenco))))"
   ]
  },
  {
   "cell_type": "markdown",
   "id": "c63837d7",
   "metadata": {},
   "source": [
    "Attenzione, è importante convertirlo in una lista, perchè se faccio direttamente print di range di 10 si ha:"
   ]
  },
  {
   "cell_type": "code",
   "execution_count": 18,
   "id": "672a3aef",
   "metadata": {},
   "outputs": [
    {
     "name": "stdout",
     "output_type": "stream",
     "text": [
      "range(0, 10)\n"
     ]
    }
   ],
   "source": [
    "print(range(10))"
   ]
  },
  {
   "cell_type": "markdown",
   "id": "c52cd318",
   "metadata": {},
   "source": [
    "vediamo una lista da 10 a 21 e una lista da 10 a 21 saltando di 3:"
   ]
  },
  {
   "cell_type": "code",
   "execution_count": 19,
   "id": "ee7feb4b",
   "metadata": {},
   "outputs": [
    {
     "name": "stdout",
     "output_type": "stream",
     "text": [
      "[10, 11, 12, 13, 14, 15, 16, 17, 18, 19, 20]\n",
      "[10, 13, 16, 19]\n"
     ]
    }
   ],
   "source": [
    "print(list(range(10,21)))\n",
    "print(list(range(10,21,3)))"
   ]
  },
  {
   "cell_type": "code",
   "execution_count": 34,
   "id": "4ef96e49",
   "metadata": {},
   "outputs": [
    {
     "data": {
      "text/plain": [
       "[7, 10, 13, 16, 19]"
      ]
     },
     "execution_count": 34,
     "metadata": {},
     "output_type": "execute_result"
    }
   ],
   "source": [
    "# range(start, stop, step) --> [start, stop), per default start = 0\n",
    "list(range(7, 20, 3))"
   ]
  },
  {
   "cell_type": "markdown",
   "id": "1f19ec86",
   "metadata": {},
   "source": [
    "## List comprehension\n",
    "\n",
    "sintassi per creare liste in maniera veloce ed efficiente.\n",
    "Facciamo un esempio per capire cosa sono, come filtrare.\n",
    "Se abbiamo per esempio una lista contenente numeri e vogliamo ottenere una lista con gli stessi numeri ma elevati al quadrato: "
   ]
  },
  {
   "cell_type": "code",
   "execution_count": 35,
   "id": "05ca4294",
   "metadata": {},
   "outputs": [
    {
     "data": {
      "text/plain": [
       "[0, 1, 2, 3, 4, 5, 6, 7, 8, 9]"
      ]
     },
     "execution_count": 35,
     "metadata": {},
     "output_type": "execute_result"
    }
   ],
   "source": [
    "# da 0 a 9\n",
    "l1 = [v for v in range(10)]\n",
    "l1"
   ]
  },
  {
   "cell_type": "code",
   "execution_count": 20,
   "id": "6094c0e4",
   "metadata": {},
   "outputs": [
    {
     "name": "stdout",
     "output_type": "stream",
     "text": [
      "[1, 4, 9, 16, 25]\n"
     ]
    }
   ],
   "source": [
    "numeri=[1,2,3,4,5]\n",
    "quadrati=[n**2 for n in numeri]\n",
    "print(quadrati)"
   ]
  },
  {
   "cell_type": "code",
   "execution_count": 36,
   "id": "7e6eb546",
   "metadata": {},
   "outputs": [
    {
     "data": {
      "text/plain": [
       "[1, 3, 5, 7, 9]"
      ]
     },
     "execution_count": 36,
     "metadata": {},
     "output_type": "execute_result"
    }
   ],
   "source": [
    "# da 0 a 9, solo dispari\n",
    "l2 = [v for v in range(10) if v%2]\n",
    "l2"
   ]
  },
  {
   "cell_type": "code",
   "execution_count": 37,
   "id": "724f132a",
   "metadata": {},
   "outputs": [
    {
     "data": {
      "text/plain": [
       "['0', 1, '0', 3, '0', 5, '0', 7, '0', 9]"
      ]
     },
     "execution_count": 37,
     "metadata": {},
     "output_type": "execute_result"
    }
   ],
   "source": [
    "# da 0 a 9, solo dispari ma con pari messi a 0\n",
    "l2 = [v if v%2 else '0' for v in range(10)]\n",
    "l2"
   ]
  },
  {
   "cell_type": "code",
   "execution_count": 21,
   "id": "6f0a6018",
   "metadata": {},
   "outputs": [
    {
     "name": "stdout",
     "output_type": "stream",
     "text": [
      "[2, 4]\n"
     ]
    }
   ],
   "source": [
    "filtro_pari=[n for n in numeri if n%2==0]\n",
    "print(filtro_pari)"
   ]
  },
  {
   "cell_type": "markdown",
   "id": "91750555",
   "metadata": {},
   "source": [
    "creiamo una matrice 5 per 5 di uni"
   ]
  },
  {
   "cell_type": "code",
   "execution_count": 38,
   "id": "0947fa03",
   "metadata": {},
   "outputs": [
    {
     "data": {
      "text/plain": [
       "[[1, 1, 1, 1, 1],\n",
       " [1, 1, 1, 1, 1],\n",
       " [1, 1, 1, 1, 1],\n",
       " [1, 1, 1, 1, 1],\n",
       " [1, 1, 1, 1, 1]]"
      ]
     },
     "execution_count": 38,
     "metadata": {},
     "output_type": "execute_result"
    }
   ],
   "source": [
    "matrice=[[1 for x in range(5)] for x in range(5)]\n",
    "matrice"
   ]
  },
  {
   "cell_type": "code",
   "execution_count": 39,
   "id": "59435fc8",
   "metadata": {},
   "outputs": [
    {
     "name": "stdout",
     "output_type": "stream",
     "text": [
      "[1, 1, 1, 1, 1]\n",
      "[1, 1, 1, 1, 1]\n",
      "[1, 1, 1, 1, 1]\n",
      "[1, 1, 1, 1, 1]\n",
      "[1, 1, 1, 1, 1]\n"
     ]
    }
   ],
   "source": [
    "for riga in matrice:\n",
    "    print(riga)"
   ]
  },
  {
   "cell_type": "markdown",
   "id": "62523ac7",
   "metadata": {},
   "source": [
    "## Esercizi\n",
    "\n",
    "$1.$ salvare la dimensione della matrice in una variabile n e generare matrici di dimensione diversa a seconda del valore di n"
   ]
  },
  {
   "cell_type": "code",
   "execution_count": 40,
   "id": "65dc1e97",
   "metadata": {},
   "outputs": [],
   "source": [
    "def crea_matrice(n_dim=4, value=0):\n",
    "    matrix = [[value for x in range(n_dim)] for x in range(n_dim)]\n",
    "    return matrix"
   ]
  },
  {
   "cell_type": "code",
   "execution_count": 41,
   "id": "7d1a2244",
   "metadata": {},
   "outputs": [
    {
     "name": "stdout",
     "output_type": "stream",
     "text": [
      "[1, 1, 1]\n",
      "[1, 1, 1]\n",
      "[1, 1, 1]\n"
     ]
    }
   ],
   "source": [
    "m = crea_matrice(3, 1)\n",
    "for riga in m:\n",
    "    print(riga)"
   ]
  },
  {
   "cell_type": "code",
   "execution_count": 42,
   "id": "a3154af2",
   "metadata": {},
   "outputs": [
    {
     "name": "stdout",
     "output_type": "stream",
     "text": [
      "[1, 1, 1, 1]\n",
      "[1, 1, 1, 1]\n",
      "[1, 1, 1, 1]\n",
      "[1, 1, 1, 1]\n"
     ]
    }
   ],
   "source": [
    "n_dim = 4\n",
    "matrix = [[1 for x in range(n_dim)] for x in range(n_dim)]\n",
    "\n",
    "for riga in matrix:\n",
    "    print(riga)"
   ]
  },
  {
   "cell_type": "markdown",
   "id": "0a6a10c6",
   "metadata": {},
   "source": [
    "$2.$ trasformare il codice facendo in modo di produrre la matrice identità di dimensione n (tutti zeri, tranne che sulla diagonale principale)"
   ]
  },
  {
   "cell_type": "code",
   "execution_count": 43,
   "id": "d3efd720",
   "metadata": {},
   "outputs": [
    {
     "name": "stdout",
     "output_type": "stream",
     "text": [
      "[1, 0, 0, 0, 0]\n",
      "[0, 1, 0, 0, 0]\n",
      "[0, 0, 1, 0, 0]\n",
      "[0, 0, 0, 1, 0]\n",
      "[0, 0, 0, 0, 1]\n"
     ]
    }
   ],
   "source": [
    "# CON LIST COMPREHENSION\n",
    "m_id = [[1 if i==j else 0 for i in range(n)] for j in range(n)]\n",
    "for riga in m_id:\n",
    "    print(riga)"
   ]
  },
  {
   "cell_type": "code",
   "execution_count": 44,
   "id": "6d860e13",
   "metadata": {},
   "outputs": [
    {
     "name": "stdout",
     "output_type": "stream",
     "text": [
      "[1, 0, 0]\n",
      "[0, 1, 0]\n",
      "[0, 0, 1]\n"
     ]
    }
   ],
   "source": [
    "n# ALTERNATIVA 1\n",
    "n = 3\n",
    "m_id = crea_matrice(n, 0)\n",
    "for i in range(n):\n",
    "    m_id[i][i]+=1\n",
    "    \n",
    "for riga in m_id:\n",
    "    print(riga)"
   ]
  },
  {
   "cell_type": "code",
   "execution_count": 45,
   "id": "3d26069a",
   "metadata": {},
   "outputs": [],
   "source": [
    "# ALTERNATIVA 2\n",
    "m_id = []\n",
    "for i in range(n):\n",
    "    new_row = []\n",
    "    for j in range(n):\n",
    "        value = 1 if i==j else 0\n",
    "        new_row.append(value)\n",
    "    m_id.append(new_row)"
   ]
  },
  {
   "cell_type": "code",
   "execution_count": 46,
   "id": "c2c41c26",
   "metadata": {},
   "outputs": [
    {
     "name": "stdout",
     "output_type": "stream",
     "text": [
      "[1, 0, 0]\n",
      "[0, 1, 0]\n",
      "[0, 0, 1]\n"
     ]
    }
   ],
   "source": [
    "for riga in m_id:\n",
    "    print(riga)"
   ]
  }
 ],
 "metadata": {
  "kernelspec": {
   "display_name": "Python 3 (ipykernel)",
   "language": "python",
   "name": "python3"
  },
  "language_info": {
   "codemirror_mode": {
    "name": "ipython",
    "version": 3
   },
   "file_extension": ".py",
   "mimetype": "text/x-python",
   "name": "python",
   "nbconvert_exporter": "python",
   "pygments_lexer": "ipython3",
   "version": "3.10.7"
  }
 },
 "nbformat": 4,
 "nbformat_minor": 5
}
