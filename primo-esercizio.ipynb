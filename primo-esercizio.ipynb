{
 "cells": [
  {
   "cell_type": "code",
   "execution_count": 1,
   "id": "13b1d57b",
   "metadata": {},
   "outputs": [],
   "source": [
    "a=1\n",
    "b=0 "
   ]
  },
  {
   "cell_type": "code",
   "execution_count": 2,
   "id": "07df4760",
   "metadata": {},
   "outputs": [
    {
     "data": {
      "text/plain": [
       "1"
      ]
     },
     "execution_count": 2,
     "metadata": {},
     "output_type": "execute_result"
    }
   ],
   "source": [
    "a"
   ]
  },
  {
   "cell_type": "markdown",
   "id": "b0ff7000",
   "metadata": {},
   "source": [
    "#benvenuti"
   ]
  },
  {
   "cell_type": "markdown",
   "id": "9cf709ae",
   "metadata": {},
   "source": [
    "#Benvenuti"
   ]
  },
  {
   "cell_type": "markdown",
   "id": "de1c91f6",
   "metadata": {},
   "source": [
    "# Benvenuti"
   ]
  },
  {
   "cell_type": "markdown",
   "id": "58f81588",
   "metadata": {},
   "source": [
    "Per un insieme $S ={s_1,s_2,...,s_n}$ di numeri interi, è possibile calcolare il valore medio come $\\dfrac{\\sum_{i=1}^{n} s_i}{n}$"
   ]
  },
  {
   "cell_type": "code",
   "execution_count": null,
   "id": "49fd562d",
   "metadata": {},
   "outputs": [],
   "source": []
  }
 ],
 "metadata": {
  "kernelspec": {
   "display_name": "Python 3 (ipykernel)",
   "language": "python",
   "name": "python3"
  },
  "language_info": {
   "codemirror_mode": {
    "name": "ipython",
    "version": 3
   },
   "file_extension": ".py",
   "mimetype": "text/x-python",
   "name": "python",
   "nbconvert_exporter": "python",
   "pygments_lexer": "ipython3",
   "version": "3.10.7"
  }
 },
 "nbformat": 4,
 "nbformat_minor": 5
}
