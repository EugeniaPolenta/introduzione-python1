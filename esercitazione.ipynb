{
 "cells": [
  {
   "cell_type": "markdown",
   "id": "1398bede",
   "metadata": {},
   "source": [
    "Espressioni ben parentesizzate\n",
    "Data una generica stringa contenente tutti i caratteri della tastiera, ritorna true se la stringa è ben parentesizzata, false altrimenti. Le parentesi più interne possono contenere stringhe generiche (vedi esempio sotto).\n",
    "I caratteri da considerarsi parentesi sono “()”, “[]”, “{}”.\n",
    "Nonostante ciò, la funzione deve essere scalabile ed adattarsi facilmente ad interpretare nuovi simboli di parentesi, ad esempio “<>”.\n",
    "Esempi di espressione ben parentesizzata: {[stringa](ben){parentesizzata}}, {{{{[str](([ben])[par])}}}}\n",
    "Esempi di espr. non ben parentesizzata: {[}], [[), ((())\n"
   ]
  },
  {
   "cell_type": "code",
   "execution_count": 1,
   "id": "43eba710",
   "metadata": {},
   "outputs": [],
   "source": [
    "s='{stringa(con parentesi)}'\n",
    "gr_dex=s.count('{')\n",
    "gr_sin=s.count('}')\n",
    "ton_sin=s.count('(')\n",
    "ton_dex=s.count(')')\n",
    "quad_sin=s.count('[')\n",
    "quad_dex=s.count(']')\n",
    "par=('(',')','[',']','{','}')\n",
    "\n",
    "#def paren(str): #funzione per numero uguale di parentesi\n",
    "   # if gr_dex!=gr_sin or ton_sin!=ton_dex or quad_sin!=quad_dex:\n",
    "     #   return False\n",
    "#    elif \n",
    "#destr=['),]'] \n",
    "#for i, car in enumerate(s):\n",
    "#    if car=='{' and s[i:\n",
    "s='{{aa}'\n",
    "for i in s:\n",
    "    if i not in par:\n",
    "        s=s.replace(i,'')\n",
    "dex_gr=(')',']')\n",
    "dex_to=('}',']')\n",
    "dex_qu=('}',')')\n",
    "def paren(s):\n",
    "    for i, car in enumerate(s):\n",
    "        if gr_dex!=gr_sin or ton_sin!=ton_dex or quad_sin!=quad_dex:\n",
    "            return False\n",
    "        elif car=='{' and s[i+1] in dex_gr:\n",
    "            return False\n",
    "        elif car=='(' and s[i+1] in dex_to:\n",
    "            return False\n",
    "        elif car=='[' and s[i+1] in dex_qu:\n",
    "            return False\n",
    "        else:\n",
    "            return True\n"
   ]
  },
  {
   "cell_type": "code",
   "execution_count": 2,
   "id": "1ad62f40",
   "metadata": {},
   "outputs": [],
   "source": [
    "#altro modo:\n",
    "par = [('(', ')'), ('[', ']'), ('{','}'), ('<', '>')]\n",
    "def parentesi_ite (s, par = [('(', ')'), ('[', ']'), ('{','}'), ('<', '>')]):\n",
    "    l = filtra_caratteri(s,par)\n",
    "    while esiste_chiusura(l, par):\n",
    "        el = ricerca_indice(l, par)\n",
    "        l = l[:el] + l[el+2:]\n",
    "    return l == []\n",
    "        \n",
    "def ricerca_indice(l, par):\n",
    "    for i in range(len(l)-1):\n",
    "        if is_chiusura(l,i,par):\n",
    "            return i        \n",
    "        \n",
    "def esiste_chiusura(l, par):\n",
    "    return any([True if is_chiusura(l, i, par) else False for i in range(len(l) -1)])\n",
    "    \n",
    "def is_chiusura(l, i, par):   \n",
    "    return any([True if l[i] == t[0] and l[i+1] == t[1] else False for t in par])\n",
    "\n",
    "\n",
    "def filtra_caratteri(s, par):\n",
    "    tup = [item for e in par for item in e]\n",
    "    l = [c for c in list(s) if c in tup]\n",
    "    return l\n"
   ]
  },
  {
   "cell_type": "markdown",
   "id": "830bf40d",
   "metadata": {},
   "source": [
    "Lambdas\n",
    "scrivere utilizzando più possibile lambda functions le seguenti funzioni:\n",
    "data una lista di tuple (‘nome’ ‘altezza’) -> [(‘giovanni’, 170), (‘francesca’, 171), … ]\n",
    "ritornare lista ordinata secondo il nome\n",
    "ritornare la lista ordinata secondo l’altezza\n",
    "ritornare lista che ordina secondo l’altezza, nel caso in cui due persone hanno stessa altezza ritornare in base al nome\n",
    "data una stringa contenente un timestamp, estrarre anno, mese, giorno, ore, minuti, secondi, ritornare in forma di dizionario:\n",
    "esempio: 03-10-2022,11:54:23 ->\n",
    "{‘anno’: 2022, ‘mese’: 10, ‘giorno’:3, ‘ore’:11, ‘minuti’:54, ‘secondi’:23}\n",
    "la funzione si deve adattare a diversi caratteri di separazione, da passare in ingresso:\n",
    "separatore data = ‘-’, separatore ora = ‘:’, separatore data ora = ‘,’\n",
    "estendere il programma del punto 2.b in modo tale da poter interpretare correttamente qualunque formato data: YYYY-MM-DD oppure YY-MM-DD oppure MM-DD-YY, ecc…"
   ]
  },
  {
   "cell_type": "code",
   "execution_count": 3,
   "id": "1480e99f",
   "metadata": {},
   "outputs": [
    {
     "name": "stdout",
     "output_type": "stream",
     "text": [
      "ordine secondo il nome:  [('antonio', 190), ('francesca', 170), ('giovanni', 170), ('maria', 150)]\n",
      "ordine secondo altezza:  [('maria', 150), ('francesca', 170), ('giovanni', 170), ('antonio', 190)]\n",
      "ordine secondo altezza e dopo nome:  [('maria', 150), ('francesca', 170), ('giovanni', 170), ('antonio', 190)]\n"
     ]
    }
   ],
   "source": [
    "s=[('giovanni', 170), ('francesca', 170), ('maria', 150), ('antonio', 190)]\n",
    "\n",
    "\n",
    "s.sort(key=lambda x:x[0])\n",
    "print('ordine secondo il nome: ',s)\n",
    "s.sort(key=lambda x:x[1])\n",
    "print('ordine secondo altezza: ',s)\n",
    "s.sort(key=lambda x:(x[1],x[0]))\n",
    "print('ordine secondo altezza e dopo nome: ', s)\n",
    "\n",
    "\n",
    "\n"
   ]
  },
  {
   "cell_type": "code",
   "execution_count": 4,
   "id": "ae409ede",
   "metadata": {},
   "outputs": [
    {
     "name": "stdout",
     "output_type": "stream",
     "text": [
      "{'anno': 2022, 'mese': 10, 'giorno': 3, 'ore': 11, 'minuti': 54, 'secondi': 23}\n"
     ]
    }
   ],
   "source": [
    "\n",
    "l='03-10-2022,11:54:23'\n",
    "a=l.split(',')\n",
    "data=(a[0])\n",
    "ora=a[1]\n",
    "#print(data)\n",
    "#print(ora)\n",
    "data_sp=data.split('-')\n",
    "ora_sp=ora.split(':')\n",
    "lista=data_sp+ora_sp\n",
    "#print(lista)\n",
    "#-> {‘anno’: 2022, ‘mese’: 10, ‘giorno’:3, ‘ore’:11, ‘minuti’:54, ‘secondi’:23} \n",
    "\n",
    "dict_= {'anno': int(lista[2]),\n",
    "'mese': int(lista[1]),\n",
    "'giorno': int(lista[0]),\n",
    "'ore': int(lista[3]),\n",
    "'minuti': int(lista[4]),\n",
    "'secondi': int(lista[5])}\n",
    "print(dict_)\n",
    "    \n",
    "\n",
    "\n"
   ]
  },
  {
   "cell_type": "code",
   "execution_count": 5,
   "id": "9247825e",
   "metadata": {},
   "outputs": [
    {
     "name": "stdout",
     "output_type": "stream",
     "text": [
      "{'anno': '2022', 'mese': '10', 'giorno': '03', 'ora': '14', 'minuti': '40', 'secondi': '40'}\n",
      "{'giorno': '28', 'mese': '07', 'anno': '93', 'ora': '14', 'minuti': '40', 'secondi': '40'}\n"
     ]
    }
   ],
   "source": [
    "#si poteva anche utilizzare la libreria datetime: usare stripdate\n",
    "def data(formato, data):\n",
    "    a=data.split(',')\n",
    "    data_damod=(a[0])\n",
    "    ora_damod=a[1]\n",
    "    data_sp=data_damod.split('-')\n",
    "    ora_sp=ora_damod.split(':')\n",
    "    #lista=data_sp+ora_sp\n",
    "    b=formato.split(',')\n",
    "    data_form=(b[0])\n",
    "    ora_form=b[1]\n",
    "    data_sp_form=data_form.split('-')\n",
    "    ora_sp_form=ora_form.split(':')\n",
    "    #lista_formato=data_sp_form+ora_sp_form\n",
    "    dizionario={}\n",
    "    for i,elem in enumerate(data_sp_form):\n",
    "        if elem=='DD':\n",
    "            dizionario['giorno']=data_sp[i]\n",
    "        if elem=='MM':\n",
    "            dizionario['mese']=data_sp[i]\n",
    "        if 'Y' in elem:\n",
    "            dizionario['anno']=data_sp[i]\n",
    "    for i,elem in enumerate(ora_sp_form):\n",
    "        if elem=='HH':\n",
    "            dizionario['ora']=ora_sp[i]\n",
    "        if elem=='MM':\n",
    "            dizionario['minuti']=ora_sp[i]\n",
    "        if elem=='SS':\n",
    "            dizionario['secondi']=ora_sp[i]\n",
    "    return dizionario\n",
    "print(data('YYYY-MM-DD,HH:MM:SS','2022-10-03,14:40:40'))\n",
    "print(data('DD-MM-YY,HH:MM:SS','28-07-93,14:40:40'))"
   ]
  },
  {
   "cell_type": "markdown",
   "id": "f7aad358",
   "metadata": {},
   "source": [
    "scrivere una funzione che identifichi stringhe palindrome"
   ]
  },
  {
   "cell_type": "code",
   "execution_count": 10,
   "id": "d8f36212",
   "metadata": {},
   "outputs": [],
   "source": [
    "l=[]\n",
    "def pal(stringa):\n",
    "    for i, _ in enumerate(stringa):\n",
    "        if stringa[i]!=stringa[-(i+1)]:\n",
    "            print('no, non è palindromo')\n",
    "            return\n",
    "    print('è palindromo')\n",
    "    return"
   ]
  },
  {
   "cell_type": "markdown",
   "id": "f30fb673",
   "metadata": {},
   "source": [
    "Data una matrice quadrata di dimensione 2n con n intero positivo, è possibile invertire l’ordine di una riga oppure di una colonna.\n",
    "Invertire significa mettere tutti gli elementi di quella riga o di quella colonna in ordine inverso:\n",
    "1   2  3  4\n",
    "5   6  7  8\n",
    "9  10 11 12\n",
    "13 14 15 16\n",
    "\n",
    "flip della prima riga:\n",
    "4   3  2  1\n",
    "5   6  7  8\n",
    "9  10 11 12\n",
    "13 14 15 16\n",
    "\n",
    "ora flip della seconda colonna:\n",
    "4 14  2  1\n",
    "5 10  7  8\n",
    "9  6 11 12\n",
    "13 3 15 16\n",
    "\n",
    "e così via…\n",
    "Non c’è limite al numero di operazioni di flipping che si possono fare.\n",
    "Data una qualunque matrice quadrata di dim. 2n, ritorna la matrice ottenuta da operazioni di flipping tale che la somma di tutti gli elementi della sottomatrice di dimensione n individuata nel “quadrante” nord-ovest sia massima.\n",
    "Es.\n",
    "\n",
    "1 1 2 2\n",
    "1 1 3 3 \n",
    "2 2 4 4\n",
    "2 2 3 3\n",
    "\n",
    "ottimizzare la somma dei valori del quadrante nord-ovest:\n",
    "\n",
    "dopo opportune operazioni di flipping si ottiene\n",
    "3 3 2 2\n",
    "4 4 3 3\n",
    "1 1 2 2\n",
    "1 1 2 2\n",
    "La somma della sottomatrice è massima!\n",
    "\n"
   ]
  },
  {
   "cell_type": "code",
   "execution_count": 11,
   "id": "6b7c218c",
   "metadata": {},
   "outputs": [
    {
     "name": "stdout",
     "output_type": "stream",
     "text": [
      "[[1, 2, 3, 4], [5, 6, 7, 8], [9, 10, 11, 12], [13, 14, 15, 16]]\n"
     ]
    }
   ],
   "source": [
    "val=[[1, 2, 3, 4],\n",
    "[5, 6, 7, 8],\n",
    "[9, 10, 11, 12],\n",
    "[13, 14, 15, 16]]\n",
    "print(val)"
   ]
  },
  {
   "cell_type": "code",
   "execution_count": 12,
   "id": "fc8d12fd",
   "metadata": {},
   "outputs": [
    {
     "name": "stdout",
     "output_type": "stream",
     "text": [
      "[1 2 3 4]\n",
      "[4, 3, 2, 1]\n"
     ]
    }
   ],
   "source": [
    "import numpy as np \n",
    "matr= np.array([[1, 2, 3, 4], [5, 6, 7, 8], [9, 10, 11, 12], [13, 14, 15, 16]])\n",
    "print(matr[0])\n",
    "print(list(reversed(matr[0])))"
   ]
  },
  {
   "cell_type": "code",
   "execution_count": 21,
   "id": "f36528cf",
   "metadata": {},
   "outputs": [],
   "source": [
    "import numpy as np \n",
    "matr= np.array([[1, 2, 3, 4], [5, 6, 7, 8], [9, 10, 11, 12], [13, 14, 15, 16]])\n",
    "def funz_rig(matr, num_rig):\n",
    "    for i in range(1,5):\n",
    "        if i==num_rig:\n",
    "            matr[i-1]=list(reversed(matr[i-1]))\n",
    "        print(matr)\n",
    "        return"
   ]
  },
  {
   "cell_type": "code",
   "execution_count": 22,
   "id": "a7928c9d",
   "metadata": {},
   "outputs": [
    {
     "name": "stdout",
     "output_type": "stream",
     "text": [
      "[[ 4  3  2  1]\n",
      " [ 5  6  7  8]\n",
      " [ 9 10 11 12]\n",
      " [13 14 15 16]]\n"
     ]
    }
   ],
   "source": [
    "funz_rig(matr, 1)"
   ]
  },
  {
   "cell_type": "code",
   "execution_count": 26,
   "id": "6e7bde3a",
   "metadata": {},
   "outputs": [
    {
     "name": "stdout",
     "output_type": "stream",
     "text": [
      "[[ 1  5  9 13]\n",
      " [ 2  6 10 14]\n",
      " [ 3  7 11 15]\n",
      " [ 4  8 12 16]]\n"
     ]
    }
   ],
   "source": [
    "matr_trasp= np.transpose(matr)\n",
    "print(matr_trasp)"
   ]
  },
  {
   "cell_type": "code",
   "execution_count": 32,
   "id": "ad77705e",
   "metadata": {},
   "outputs": [],
   "source": [
    "def funz_rig(matr, num_col):\n",
    "    matr= np.transpose(matr)\n",
    "    for i in range(1,5):\n",
    "        if i==num_col:\n",
    "            matr[i-1]=list(reversed(matr[i-1]))\n",
    "        print(np.transpose(matr))\n",
    "        return"
   ]
  },
  {
   "cell_type": "code",
   "execution_count": 33,
   "id": "144f2d8e",
   "metadata": {},
   "outputs": [
    {
     "name": "stdout",
     "output_type": "stream",
     "text": [
      "[[ 1  2  3  4]\n",
      " [ 5  6  7  8]\n",
      " [ 9 10 11 12]\n",
      " [13 14 15 16]]\n",
      "[[13  2  3  4]\n",
      " [ 9  6  7  8]\n",
      " [ 5 10 11 12]\n",
      " [ 1 14 15 16]]\n"
     ]
    }
   ],
   "source": [
    "matr= np.array([[1, 2, 3, 4], [5, 6, 7, 8], [9, 10, 11, 12], [13, 14, 15, 16]])\n",
    "print(matr)\n",
    "funz_rig(matr, 1)"
   ]
  },
  {
   "cell_type": "code",
   "execution_count": 34,
   "id": "70f5830a",
   "metadata": {},
   "outputs": [
    {
     "name": "stdout",
     "output_type": "stream",
     "text": [
      "[8, 0, 0, 0, 0, 0]\n",
      "[0, 0, 0, 0, 0, 0]\n",
      "[0, 0, 0, 0, 0, 0]\n",
      "[0, 0, 0, 1, 1, 1]\n",
      "[0, 0, 0, 1, 1, 1]\n",
      "[0, 0, 0, 1, 1, 1]\n",
      "\n",
      "[8, 1, 1, 0, 0, 0]\n",
      "[1, 1, 1, 0, 0, 0]\n",
      "[1, 1, 1, 0, 0, 0]\n",
      "[0, 0, 0, 0, 0, 0]\n",
      "[0, 0, 0, 0, 0, 0]\n",
      "[0, 0, 0, 0, 0, 1]\n"
     ]
    }
   ],
   "source": [
    "def print_m(m):\n",
    "    for i in range(len(m)):\n",
    "        print(m[i])\n",
    "\n",
    "\n",
    "\n",
    "def flip_row(m, y=0, l=[]):\n",
    "    if l != []:\n",
    "        for i in l:\n",
    "            m[i].reverse()\n",
    "    else:\n",
    "        m[y].reverse()\n",
    "    \n",
    "def flip_col(m, x=0, l=[]):\n",
    "    if l != []:\n",
    "        for i in l:\n",
    "            l = [r[i] for r in m]\n",
    "            l = l[::-1]\n",
    "            for k in range(len(m)):\n",
    "                m[k][i] = l[k]\n",
    "    else:\n",
    "        l = [r[x] for r in m]\n",
    "        l = l[::-1]\n",
    "        for k in range(len(m)):\n",
    "            m[k][x] = l[k]\n",
    "\n",
    "\n",
    "\n",
    "def trasf_2(m, x, y):\n",
    "    flip_col(m, len(m)-y-1)\n",
    "    flip_row(m, x)\n",
    "    flip_col(m, len(m)-y-1)\n",
    "    flip_row(m, x)\n",
    "    \n",
    "def trasf_1(m, x, y):\n",
    "    flip_col(m, l=[i for i in range(int(len(m)/2)) if i !=x])\n",
    "    flip_row(m, x)\n",
    "    flip_col(m, l=[i for i in range(int(len(m)/2)) if i !=x])\n",
    "    \n",
    "def trasf_3(m, x, y):\n",
    "    flip_row(m, l=[i for i in range(int(len(m)/2)) if i !=y])\n",
    "    flip_col(m, y)\n",
    "    flip_row(m, l=[i for i in range(int(len(m)/2)) if i !=y])\n",
    "    \n",
    "def sort_m(m):\n",
    "    n = int(len(m)/2)\n",
    "    for x in range(n):\n",
    "        for y in range(n):\n",
    "            maxm = max(m[x][y],m[2*n-x-1][y],m[x][2*n-y-1],m[2*n-x-1][2*n-y-1])\n",
    "            if m[x][y] == maxm:\n",
    "                continue\n",
    "            elif m[2*n-x-1][y] == maxm:\n",
    "                trasf_3(m, 2*n-x-1,y)\n",
    "            elif m[x][2*n-y-1] == maxm:\n",
    "                trasf_1(m, x,2*n-y-1)\n",
    "            elif m[2*n-x-1][2*n-y-1] == maxm:\n",
    "                trasf_2(m, 2*n-x-1,2*n-y-1)\n",
    "\n",
    "\n",
    "\n",
    "m = [[4,3,2,1],[5,6,7,8],[9,10,11,12],[13,14,15,16]]\n",
    "l = [[8,0,0,0,0,0],[0,0,0,0,0,0],[0,0,0,0,0,0],[0,0,0,1,1,1],[0,0,0,1,1,1],[0,0,0,1,1,1]]\n",
    "print_m(l)\n",
    "print()\n",
    "sort_m(l)\n",
    "print_m(l)"
   ]
  },
  {
   "cell_type": "markdown",
   "id": "c58be298",
   "metadata": {},
   "source": []
  }
 ],
 "metadata": {
  "kernelspec": {
   "display_name": "Python 3 (ipykernel)",
   "language": "python",
   "name": "python3"
  },
  "language_info": {
   "codemirror_mode": {
    "name": "ipython",
    "version": 3
   },
   "file_extension": ".py",
   "mimetype": "text/x-python",
   "name": "python",
   "nbconvert_exporter": "python",
   "pygments_lexer": "ipython3",
   "version": "3.10.7"
  }
 },
 "nbformat": 4,
 "nbformat_minor": 5
}
