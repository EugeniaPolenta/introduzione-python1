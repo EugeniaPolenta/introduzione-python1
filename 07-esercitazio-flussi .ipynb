{
 "cells": [
  {
   "cell_type": "markdown",
   "id": "7478ee0f",
   "metadata": {},
   "source": [
    "Il flusso è l'ordine di esecuzione delle funzioni. \n",
    "Il controllo del flusso sono quei comandi che ci permettono di controllare l'ordine di esecuzione delle funzioni."
   ]
  },
  {
   "cell_type": "code",
   "execution_count": 1,
   "id": "25229983",
   "metadata": {},
   "outputs": [],
   "source": [
    "import random #così importiamo random, che è una libreria di sistema"
   ]
  },
  {
   "cell_type": "code",
   "execution_count": 2,
   "id": "3a650601",
   "metadata": {},
   "outputs": [
    {
     "data": {
      "text/plain": [
       "0.5210188154817336"
      ]
     },
     "execution_count": 2,
     "metadata": {},
     "output_type": "execute_result"
    }
   ],
   "source": [
    "random.random()"
   ]
  },
  {
   "cell_type": "code",
   "execution_count": 3,
   "id": "662bc259",
   "metadata": {},
   "outputs": [
    {
     "data": {
      "text/plain": [
       "[2.0730885892326114,\n",
       " 1.8007749541645595,\n",
       " 0.22994321209903534,\n",
       " 0.967518358689874,\n",
       " 0.22174194019265736,\n",
       " 2.127061449502026,\n",
       " 3.0445709529984346,\n",
       " 2.2713613513057958,\n",
       " 0.46472690910183345,\n",
       " 0.12550725445442013]"
      ]
     },
     "execution_count": 3,
     "metadata": {},
     "output_type": "execute_result"
    }
   ],
   "source": [
    "[random.gauss(1,1) for _ in range (10)] \n",
    "#[funzione(n) for n in range(10)]\n",
    "#stiamo facendo una list comprension dove decidiamo noi il nome di variabile n che ci va da 0 a 9"
   ]
  },
  {
   "cell_type": "markdown",
   "id": "bac6aa6e",
   "metadata": {},
   "source": [
    "### Fare un plot di un array\n",
    "In presenza di un istogramma, ogni rettangolo è chiamato \"bin\". Binnare significa creare bins, noi vogliamo binnare i valori di g Possiamo creare bins rispetto a come vogliamo accoppiare i valori dati da [random.gauss(1,1) for _ in range (10)] \n",
    "\n"
   ]
  },
  {
   "cell_type": "code",
   "execution_count": 4,
   "id": "4184a97d",
   "metadata": {},
   "outputs": [
    {
     "data": {
      "text/plain": [
       "(array([  23.,  211.,  782., 1864., 2726., 2486., 1340.,  466.,   94.,\n",
       "           8.]),\n",
       " array([-7.21054908e-01, -3.60763807e-01, -4.72705587e-04,  3.59818396e-01,\n",
       "         7.20109497e-01,  1.08040060e+00,  1.44069170e+00,  1.80098280e+00,\n",
       "         2.16127390e+00,  2.52156500e+00,  2.88185611e+00]),\n",
       " <BarContainer object of 10 artists>)"
      ]
     },
     "execution_count": 4,
     "metadata": {},
     "output_type": "execute_result"
    },
    {
     "data": {
      "image/png": "[encoded data removed]",
      "text/plain": [
       "<Figure size 640x480 with 1 Axes>"
      ]
     },
     "metadata": {},
     "output_type": "display_data"
    }
   ],
   "source": [
    "from matplotlib import pyplot as plt\n",
    "plt.hist([random.gauss(1,0.5) for _ in range (10000)])"
   ]
  },
  {
   "cell_type": "markdown",
   "id": "b6e09e6e",
   "metadata": {},
   "source": [
    "Ora si può usare plt per fare degli istogrammi facendo: plt.hist(g) dove prima metto ad esempio g=[random.gauss(1,1) for _ in range (10)].\n",
    "Se vogliamo aumentare la popolazione proviamo con \n",
    "g=[random.gauss(1,0.5) for _ in range (10000)] (dove 1 media e 0,5 deviazione standard)\n",
    "Possiamo anche controllare quanti sono i bins, scrivendo:\n",
    "plt.hist(g, bins=50) \n",
    "ottengo anche la x e la y come array, se non li volessi e voglio solo il grafico scrivo dopo tutto:\n",
    "plt.show()"
   ]
  },
  {
   "cell_type": "code",
   "execution_count": 5,
   "id": "d9ee5fb5",
   "metadata": {},
   "outputs": [
    {
     "data": {
      "image/png": "[encoded data removed]",
      "text/plain": [
       "<Figure size 640x480 with 1 Axes>"
      ]
     },
     "metadata": {},
     "output_type": "display_data"
    }
   ],
   "source": [
    "from matplotlib import pyplot as plt\n",
    "plt.hist([random.gauss(1,0.5) for _ in range (10000)],bins=50)\n",
    "plt.show()"
   ]
  },
  {
   "cell_type": "markdown",
   "id": "52de688d",
   "metadata": {},
   "source": [
    "sulle y mette un punto e poi tira una riga da punto a punto ordinata."
   ]
  },
  {
   "cell_type": "code",
   "execution_count": 6,
   "id": "55d77684",
   "metadata": {},
   "outputs": [
    {
     "ename": "AttributeError",
     "evalue": "Line2D.set() got an unexpected keyword argument 'bins'",
     "output_type": "error",
     "traceback": [
      "\u001b[1;31m---------------------------------------------------------------------------\u001b[0m",
      "\u001b[1;31mAttributeError\u001b[0m                            Traceback (most recent call last)",
      "Cell \u001b[1;32mIn [6], line 1\u001b[0m\n\u001b[1;32m----> 1\u001b[0m \u001b[43mplt\u001b[49m\u001b[38;5;241;43m.\u001b[39;49m\u001b[43mplot\u001b[49m\u001b[43m(\u001b[49m\u001b[43m[\u001b[49m\u001b[43mrandom\u001b[49m\u001b[38;5;241;43m.\u001b[39;49m\u001b[43mgauss\u001b[49m\u001b[43m(\u001b[49m\u001b[38;5;241;43m1\u001b[39;49m\u001b[43m,\u001b[49m\u001b[38;5;241;43m0.5\u001b[39;49m\u001b[43m)\u001b[49m\u001b[43m \u001b[49m\u001b[38;5;28;43;01mfor\u001b[39;49;00m\u001b[43m \u001b[49m\u001b[43m_\u001b[49m\u001b[43m \u001b[49m\u001b[38;5;129;43;01min\u001b[39;49;00m\u001b[43m \u001b[49m\u001b[38;5;28;43mrange\u001b[39;49m\u001b[43m \u001b[49m\u001b[43m(\u001b[49m\u001b[38;5;241;43m10000\u001b[39;49m\u001b[43m)\u001b[49m\u001b[43m]\u001b[49m\u001b[43m,\u001b[49m\u001b[43mbins\u001b[49m\u001b[38;5;241;43m=\u001b[39;49m\u001b[38;5;241;43m50\u001b[39;49m\u001b[43m)\u001b[49m\n\u001b[0;32m      2\u001b[0m plt\u001b[38;5;241m.\u001b[39mshow()\n",
      "File \u001b[1;32m~\\AppData\\Local\\Packages\\PythonSoftwareFoundation.Python.3.10_qbz5n2kfra8p0\\LocalCache\\local-packages\\Python310\\site-packages\\matplotlib\\pyplot.py:2728\u001b[0m, in \u001b[0;36mplot\u001b[1;34m(scalex, scaley, data, *args, **kwargs)\u001b[0m\n\u001b[0;32m   2726\u001b[0m \u001b[38;5;129m@_copy_docstring_and_deprecators\u001b[39m(Axes\u001b[38;5;241m.\u001b[39mplot)\n\u001b[0;32m   2727\u001b[0m \u001b[38;5;28;01mdef\u001b[39;00m \u001b[38;5;21mplot\u001b[39m(\u001b[38;5;241m*\u001b[39margs, scalex\u001b[38;5;241m=\u001b[39m\u001b[38;5;28;01mTrue\u001b[39;00m, scaley\u001b[38;5;241m=\u001b[39m\u001b[38;5;28;01mTrue\u001b[39;00m, data\u001b[38;5;241m=\u001b[39m\u001b[38;5;28;01mNone\u001b[39;00m, \u001b[38;5;241m*\u001b[39m\u001b[38;5;241m*\u001b[39mkwargs):\n\u001b[1;32m-> 2728\u001b[0m     \u001b[38;5;28;01mreturn\u001b[39;00m gca()\u001b[38;5;241m.\u001b[39mplot(\n\u001b[0;32m   2729\u001b[0m         \u001b[38;5;241m*\u001b[39margs, scalex\u001b[38;5;241m=\u001b[39mscalex, scaley\u001b[38;5;241m=\u001b[39mscaley,\n\u001b[0;32m   2730\u001b[0m         \u001b[38;5;241m*\u001b[39m\u001b[38;5;241m*\u001b[39m({\u001b[38;5;124m\"\u001b[39m\u001b[38;5;124mdata\u001b[39m\u001b[38;5;124m\"\u001b[39m: data} \u001b[38;5;28;01mif\u001b[39;00m data \u001b[38;5;129;01mis\u001b[39;00m \u001b[38;5;129;01mnot\u001b[39;00m \u001b[38;5;28;01mNone\u001b[39;00m \u001b[38;5;28;01melse\u001b[39;00m {}), \u001b[38;5;241m*\u001b[39m\u001b[38;5;241m*\u001b[39mkwargs)\n",
      "File \u001b[1;32m~\\AppData\\Local\\Packages\\PythonSoftwareFoundation.Python.3.10_qbz5n2kfra8p0\\LocalCache\\local-packages\\Python310\\site-packages\\matplotlib\\axes\\_axes.py:1662\u001b[0m, in \u001b[0;36mAxes.plot\u001b[1;34m(self, scalex, scaley, data, *args, **kwargs)\u001b[0m\n\u001b[0;32m   1419\u001b[0m \u001b[38;5;124;03m\"\"\"\u001b[39;00m\n\u001b[0;32m   1420\u001b[0m \u001b[38;5;124;03mPlot y versus x as lines and/or markers.\u001b[39;00m\n\u001b[0;32m   1421\u001b[0m \n\u001b[1;32m   (...)\u001b[0m\n\u001b[0;32m   1659\u001b[0m \u001b[38;5;124;03m(``'green'``) or hex strings (``'#008000'``).\u001b[39;00m\n\u001b[0;32m   1660\u001b[0m \u001b[38;5;124;03m\"\"\"\u001b[39;00m\n\u001b[0;32m   1661\u001b[0m kwargs \u001b[38;5;241m=\u001b[39m cbook\u001b[38;5;241m.\u001b[39mnormalize_kwargs(kwargs, mlines\u001b[38;5;241m.\u001b[39mLine2D)\n\u001b[1;32m-> 1662\u001b[0m lines \u001b[38;5;241m=\u001b[39m [\u001b[38;5;241m*\u001b[39m\u001b[38;5;28mself\u001b[39m\u001b[38;5;241m.\u001b[39m_get_lines(\u001b[38;5;241m*\u001b[39margs, data\u001b[38;5;241m=\u001b[39mdata, \u001b[38;5;241m*\u001b[39m\u001b[38;5;241m*\u001b[39mkwargs)]\n\u001b[0;32m   1663\u001b[0m \u001b[38;5;28;01mfor\u001b[39;00m line \u001b[38;5;129;01min\u001b[39;00m lines:\n\u001b[0;32m   1664\u001b[0m     \u001b[38;5;28mself\u001b[39m\u001b[38;5;241m.\u001b[39madd_line(line)\n",
      "File \u001b[1;32m~\\AppData\\Local\\Packages\\PythonSoftwareFoundation.Python.3.10_qbz5n2kfra8p0\\LocalCache\\local-packages\\Python310\\site-packages\\matplotlib\\axes\\_base.py:311\u001b[0m, in \u001b[0;36m_process_plot_var_args.__call__\u001b[1;34m(self, data, *args, **kwargs)\u001b[0m\n\u001b[0;32m    309\u001b[0m     this \u001b[38;5;241m+\u001b[39m\u001b[38;5;241m=\u001b[39m args[\u001b[38;5;241m0\u001b[39m],\n\u001b[0;32m    310\u001b[0m     args \u001b[38;5;241m=\u001b[39m args[\u001b[38;5;241m1\u001b[39m:]\n\u001b[1;32m--> 311\u001b[0m \u001b[38;5;28;01myield from\u001b[39;00m \u001b[38;5;28;43mself\u001b[39;49m\u001b[38;5;241;43m.\u001b[39;49m\u001b[43m_plot_args\u001b[49m\u001b[43m(\u001b[49m\n\u001b[0;32m    312\u001b[0m \u001b[43m    \u001b[49m\u001b[43mthis\u001b[49m\u001b[43m,\u001b[49m\u001b[43m \u001b[49m\u001b[43mkwargs\u001b[49m\u001b[43m,\u001b[49m\u001b[43m \u001b[49m\u001b[43mambiguous_fmt_datakey\u001b[49m\u001b[38;5;241;43m=\u001b[39;49m\u001b[43mambiguous_fmt_datakey\u001b[49m\u001b[43m)\u001b[49m\n",
      "File \u001b[1;32m~\\AppData\\Local\\Packages\\PythonSoftwareFoundation.Python.3.10_qbz5n2kfra8p0\\LocalCache\\local-packages\\Python310\\site-packages\\matplotlib\\axes\\_base.py:544\u001b[0m, in \u001b[0;36m_process_plot_var_args._plot_args\u001b[1;34m(self, tup, kwargs, return_kwargs, ambiguous_fmt_datakey)\u001b[0m\n\u001b[0;32m    542\u001b[0m     \u001b[38;5;28;01mreturn\u001b[39;00m \u001b[38;5;28mlist\u001b[39m(result)\n\u001b[0;32m    543\u001b[0m \u001b[38;5;28;01melse\u001b[39;00m:\n\u001b[1;32m--> 544\u001b[0m     \u001b[38;5;28;01mreturn\u001b[39;00m [l[\u001b[38;5;241m0\u001b[39m] \u001b[38;5;28;01mfor\u001b[39;00m l \u001b[38;5;129;01min\u001b[39;00m result]\n",
      "File \u001b[1;32m~\\AppData\\Local\\Packages\\PythonSoftwareFoundation.Python.3.10_qbz5n2kfra8p0\\LocalCache\\local-packages\\Python310\\site-packages\\matplotlib\\axes\\_base.py:544\u001b[0m, in \u001b[0;36m<listcomp>\u001b[1;34m(.0)\u001b[0m\n\u001b[0;32m    542\u001b[0m     \u001b[38;5;28;01mreturn\u001b[39;00m \u001b[38;5;28mlist\u001b[39m(result)\n\u001b[0;32m    543\u001b[0m \u001b[38;5;28;01melse\u001b[39;00m:\n\u001b[1;32m--> 544\u001b[0m     \u001b[38;5;28;01mreturn\u001b[39;00m [l[\u001b[38;5;241m0\u001b[39m] \u001b[38;5;28;01mfor\u001b[39;00m l \u001b[38;5;129;01min\u001b[39;00m result]\n",
      "File \u001b[1;32m~\\AppData\\Local\\Packages\\PythonSoftwareFoundation.Python.3.10_qbz5n2kfra8p0\\LocalCache\\local-packages\\Python310\\site-packages\\matplotlib\\axes\\_base.py:537\u001b[0m, in \u001b[0;36m<genexpr>\u001b[1;34m(.0)\u001b[0m\n\u001b[0;32m    534\u001b[0m \u001b[38;5;28;01melse\u001b[39;00m:\n\u001b[0;32m    535\u001b[0m     labels \u001b[38;5;241m=\u001b[39m [label] \u001b[38;5;241m*\u001b[39m n_datasets\n\u001b[1;32m--> 537\u001b[0m result \u001b[38;5;241m=\u001b[39m (\u001b[43mmake_artist\u001b[49m\u001b[43m(\u001b[49m\u001b[43mx\u001b[49m\u001b[43m[\u001b[49m\u001b[43m:\u001b[49m\u001b[43m,\u001b[49m\u001b[43m \u001b[49m\u001b[43mj\u001b[49m\u001b[43m \u001b[49m\u001b[38;5;241;43m%\u001b[39;49m\u001b[43m \u001b[49m\u001b[43mncx\u001b[49m\u001b[43m]\u001b[49m\u001b[43m,\u001b[49m\u001b[43m \u001b[49m\u001b[43my\u001b[49m\u001b[43m[\u001b[49m\u001b[43m:\u001b[49m\u001b[43m,\u001b[49m\u001b[43m \u001b[49m\u001b[43mj\u001b[49m\u001b[43m \u001b[49m\u001b[38;5;241;43m%\u001b[39;49m\u001b[43m \u001b[49m\u001b[43mncy\u001b[49m\u001b[43m]\u001b[49m\u001b[43m,\u001b[49m\u001b[43m \u001b[49m\u001b[43mkw\u001b[49m\u001b[43m,\u001b[49m\n\u001b[0;32m    538\u001b[0m \u001b[43m                      \u001b[49m\u001b[43m{\u001b[49m\u001b[38;5;241;43m*\u001b[39;49m\u001b[38;5;241;43m*\u001b[39;49m\u001b[43mkwargs\u001b[49m\u001b[43m,\u001b[49m\u001b[43m \u001b[49m\u001b[38;5;124;43m'\u001b[39;49m\u001b[38;5;124;43mlabel\u001b[39;49m\u001b[38;5;124;43m'\u001b[39;49m\u001b[43m:\u001b[49m\u001b[43m \u001b[49m\u001b[43mlabel\u001b[49m\u001b[43m}\u001b[49m\u001b[43m)\u001b[49m\n\u001b[0;32m    539\u001b[0m           \u001b[38;5;28;01mfor\u001b[39;00m j, label \u001b[38;5;129;01min\u001b[39;00m \u001b[38;5;28menumerate\u001b[39m(labels))\n\u001b[0;32m    541\u001b[0m \u001b[38;5;28;01mif\u001b[39;00m return_kwargs:\n\u001b[0;32m    542\u001b[0m     \u001b[38;5;28;01mreturn\u001b[39;00m \u001b[38;5;28mlist\u001b[39m(result)\n",
      "File \u001b[1;32m~\\AppData\\Local\\Packages\\PythonSoftwareFoundation.Python.3.10_qbz5n2kfra8p0\\LocalCache\\local-packages\\Python310\\site-packages\\matplotlib\\axes\\_base.py:351\u001b[0m, in \u001b[0;36m_process_plot_var_args._makeline\u001b[1;34m(self, x, y, kw, kwargs)\u001b[0m\n\u001b[0;32m    349\u001b[0m default_dict \u001b[38;5;241m=\u001b[39m \u001b[38;5;28mself\u001b[39m\u001b[38;5;241m.\u001b[39m_getdefaults(\u001b[38;5;28mset\u001b[39m(), kw)\n\u001b[0;32m    350\u001b[0m \u001b[38;5;28mself\u001b[39m\u001b[38;5;241m.\u001b[39m_setdefaults(default_dict, kw)\n\u001b[1;32m--> 351\u001b[0m seg \u001b[38;5;241m=\u001b[39m mlines\u001b[38;5;241m.\u001b[39mLine2D(x, y, \u001b[38;5;241m*\u001b[39m\u001b[38;5;241m*\u001b[39mkw)\n\u001b[0;32m    352\u001b[0m \u001b[38;5;28;01mreturn\u001b[39;00m seg, kw\n",
      "File \u001b[1;32m~\\AppData\\Local\\Packages\\PythonSoftwareFoundation.Python.3.10_qbz5n2kfra8p0\\LocalCache\\local-packages\\Python310\\site-packages\\matplotlib\\_api\\deprecation.py:454\u001b[0m, in \u001b[0;36mmake_keyword_only.<locals>.wrapper\u001b[1;34m(*args, **kwargs)\u001b[0m\n\u001b[0;32m    448\u001b[0m \u001b[38;5;28;01mif\u001b[39;00m \u001b[38;5;28mlen\u001b[39m(args) \u001b[38;5;241m>\u001b[39m name_idx:\n\u001b[0;32m    449\u001b[0m     warn_deprecated(\n\u001b[0;32m    450\u001b[0m         since, message\u001b[38;5;241m=\u001b[39m\u001b[38;5;124m\"\u001b[39m\u001b[38;5;124mPassing the \u001b[39m\u001b[38;5;132;01m%(name)s\u001b[39;00m\u001b[38;5;124m \u001b[39m\u001b[38;5;132;01m%(obj_type)s\u001b[39;00m\u001b[38;5;124m \u001b[39m\u001b[38;5;124m\"\u001b[39m\n\u001b[0;32m    451\u001b[0m         \u001b[38;5;124m\"\u001b[39m\u001b[38;5;124mpositionally is deprecated since Matplotlib \u001b[39m\u001b[38;5;132;01m%(since)s\u001b[39;00m\u001b[38;5;124m; the \u001b[39m\u001b[38;5;124m\"\u001b[39m\n\u001b[0;32m    452\u001b[0m         \u001b[38;5;124m\"\u001b[39m\u001b[38;5;124mparameter will become keyword-only \u001b[39m\u001b[38;5;132;01m%(removal)s\u001b[39;00m\u001b[38;5;124m.\u001b[39m\u001b[38;5;124m\"\u001b[39m,\n\u001b[0;32m    453\u001b[0m         name\u001b[38;5;241m=\u001b[39mname, obj_type\u001b[38;5;241m=\u001b[39m\u001b[38;5;124mf\u001b[39m\u001b[38;5;124m\"\u001b[39m\u001b[38;5;124mparameter of \u001b[39m\u001b[38;5;132;01m{\u001b[39;00mfunc\u001b[38;5;241m.\u001b[39m\u001b[38;5;18m__name__\u001b[39m\u001b[38;5;132;01m}\u001b[39;00m\u001b[38;5;124m()\u001b[39m\u001b[38;5;124m\"\u001b[39m)\n\u001b[1;32m--> 454\u001b[0m \u001b[38;5;28;01mreturn\u001b[39;00m func(\u001b[38;5;241m*\u001b[39margs, \u001b[38;5;241m*\u001b[39m\u001b[38;5;241m*\u001b[39mkwargs)\n",
      "File \u001b[1;32m~\\AppData\\Local\\Packages\\PythonSoftwareFoundation.Python.3.10_qbz5n2kfra8p0\\LocalCache\\local-packages\\Python310\\site-packages\\matplotlib\\lines.py:393\u001b[0m, in \u001b[0;36mLine2D.__init__\u001b[1;34m(self, xdata, ydata, linewidth, linestyle, color, gapcolor, marker, markersize, markeredgewidth, markeredgecolor, markerfacecolor, markerfacecoloralt, fillstyle, antialiased, dash_capstyle, solid_capstyle, dash_joinstyle, solid_joinstyle, pickradius, drawstyle, markevery, **kwargs)\u001b[0m\n\u001b[0;32m    389\u001b[0m \u001b[38;5;28mself\u001b[39m\u001b[38;5;241m.\u001b[39mset_markeredgewidth(markeredgewidth)\n\u001b[0;32m    391\u001b[0m \u001b[38;5;66;03m# update kwargs before updating data to give the caller a\u001b[39;00m\n\u001b[0;32m    392\u001b[0m \u001b[38;5;66;03m# chance to init axes (and hence unit support)\u001b[39;00m\n\u001b[1;32m--> 393\u001b[0m \u001b[38;5;28;43mself\u001b[39;49m\u001b[38;5;241;43m.\u001b[39;49m\u001b[43m_internal_update\u001b[49m\u001b[43m(\u001b[49m\u001b[43mkwargs\u001b[49m\u001b[43m)\u001b[49m\n\u001b[0;32m    394\u001b[0m \u001b[38;5;28mself\u001b[39m\u001b[38;5;241m.\u001b[39m_pickradius \u001b[38;5;241m=\u001b[39m pickradius\n\u001b[0;32m    395\u001b[0m \u001b[38;5;28mself\u001b[39m\u001b[38;5;241m.\u001b[39mind_offset \u001b[38;5;241m=\u001b[39m \u001b[38;5;241m0\u001b[39m\n",
      "File \u001b[1;32m~\\AppData\\Local\\Packages\\PythonSoftwareFoundation.Python.3.10_qbz5n2kfra8p0\\LocalCache\\local-packages\\Python310\\site-packages\\matplotlib\\artist.py:1186\u001b[0m, in \u001b[0;36mArtist._internal_update\u001b[1;34m(self, kwargs)\u001b[0m\n\u001b[0;32m   1179\u001b[0m \u001b[38;5;28;01mdef\u001b[39;00m \u001b[38;5;21m_internal_update\u001b[39m(\u001b[38;5;28mself\u001b[39m, kwargs):\n\u001b[0;32m   1180\u001b[0m     \u001b[38;5;124;03m\"\"\"\u001b[39;00m\n\u001b[0;32m   1181\u001b[0m \u001b[38;5;124;03m    Update artist properties without prenormalizing them, but generating\u001b[39;00m\n\u001b[0;32m   1182\u001b[0m \u001b[38;5;124;03m    errors as if calling `set`.\u001b[39;00m\n\u001b[0;32m   1183\u001b[0m \n\u001b[0;32m   1184\u001b[0m \u001b[38;5;124;03m    The lack of prenormalization is to maintain backcompatibility.\u001b[39;00m\n\u001b[0;32m   1185\u001b[0m \u001b[38;5;124;03m    \"\"\"\u001b[39;00m\n\u001b[1;32m-> 1186\u001b[0m     \u001b[38;5;28;01mreturn\u001b[39;00m \u001b[38;5;28;43mself\u001b[39;49m\u001b[38;5;241;43m.\u001b[39;49m\u001b[43m_update_props\u001b[49m\u001b[43m(\u001b[49m\n\u001b[0;32m   1187\u001b[0m \u001b[43m        \u001b[49m\u001b[43mkwargs\u001b[49m\u001b[43m,\u001b[49m\u001b[43m \u001b[49m\u001b[38;5;124;43m\"\u001b[39;49m\u001b[38;5;132;43;01m{cls.__name__}\u001b[39;49;00m\u001b[38;5;124;43m.set() got an unexpected keyword argument \u001b[39;49m\u001b[38;5;124;43m\"\u001b[39;49m\n\u001b[0;32m   1188\u001b[0m \u001b[43m        \u001b[49m\u001b[38;5;124;43m\"\u001b[39;49m\u001b[38;5;132;43;01m{prop_name!r}\u001b[39;49;00m\u001b[38;5;124;43m\"\u001b[39;49m\u001b[43m)\u001b[49m\n",
      "File \u001b[1;32m~\\AppData\\Local\\Packages\\PythonSoftwareFoundation.Python.3.10_qbz5n2kfra8p0\\LocalCache\\local-packages\\Python310\\site-packages\\matplotlib\\artist.py:1160\u001b[0m, in \u001b[0;36mArtist._update_props\u001b[1;34m(self, props, errfmt)\u001b[0m\n\u001b[0;32m   1158\u001b[0m             func \u001b[38;5;241m=\u001b[39m \u001b[38;5;28mgetattr\u001b[39m(\u001b[38;5;28mself\u001b[39m, \u001b[38;5;124mf\u001b[39m\u001b[38;5;124m\"\u001b[39m\u001b[38;5;124mset_\u001b[39m\u001b[38;5;132;01m{\u001b[39;00mk\u001b[38;5;132;01m}\u001b[39;00m\u001b[38;5;124m\"\u001b[39m, \u001b[38;5;28;01mNone\u001b[39;00m)\n\u001b[0;32m   1159\u001b[0m             \u001b[38;5;28;01mif\u001b[39;00m \u001b[38;5;129;01mnot\u001b[39;00m callable(func):\n\u001b[1;32m-> 1160\u001b[0m                 \u001b[38;5;28;01mraise\u001b[39;00m \u001b[38;5;167;01mAttributeError\u001b[39;00m(\n\u001b[0;32m   1161\u001b[0m                     errfmt\u001b[38;5;241m.\u001b[39mformat(\u001b[38;5;28mcls\u001b[39m\u001b[38;5;241m=\u001b[39m\u001b[38;5;28mtype\u001b[39m(\u001b[38;5;28mself\u001b[39m), prop_name\u001b[38;5;241m=\u001b[39mk))\n\u001b[0;32m   1162\u001b[0m             ret\u001b[38;5;241m.\u001b[39mappend(func(v))\n\u001b[0;32m   1163\u001b[0m \u001b[38;5;28;01mif\u001b[39;00m ret:\n",
      "\u001b[1;31mAttributeError\u001b[0m: Line2D.set() got an unexpected keyword argument 'bins'"
     ]
    },
    {
     "data": {
      "image/png": "[encoded data removed]",
      "text/plain": [
       "<Figure size 640x480 with 1 Axes>"
      ]
     },
     "metadata": {},
     "output_type": "display_data"
    }
   ],
   "source": [
    "plt.plot([random.gauss(1,0.5) for _ in range (10000)],bins=50)\n",
    "plt.show()"
   ]
  },
  {
   "cell_type": "code",
   "execution_count": null,
   "id": "1779d38b",
   "metadata": {},
   "outputs": [],
   "source": [
    "random.gauss(1,1) #ogni volta mi dà un risultato diverso e il risultato è generato da una distribuzione gaussiana che ha media 1 e distribuzione 1\n",
    "#se la chiamo 10 volte avrò sempre 10 output diversi"
   ]
  },
  {
   "cell_type": "code",
   "execution_count": null,
   "id": "f6f462cb",
   "metadata": {},
   "outputs": [],
   "source": []
  },
  {
   "cell_type": "code",
   "execution_count": null,
   "id": "45ba1efb",
   "metadata": {},
   "outputs": [],
   "source": [
    "#osserviamo la differenza tra queste due list comprehension\n",
    "[n**2 for n in range(10)] #qui è importante il valore di n\n",
    "[random.gauss(1,1) for n in range (10)] #qui una funzione che non è dipendente da n\n",
    "#dato che non è una funzione dipendente da n, quell'n lo possiamo chiamare in qualsiasi modo,\n",
    "#allora lo chiamiamo underscore :_  significa che la variabile che iteriamo nel range non deve avere un valore significativo\n",
    "#deve solo essere usata per iterare.\n",
    "[0 for _ in range(10)] #altro esempio: se voglio un array con 10 zeri"
   ]
  },
  {
   "cell_type": "markdown",
   "id": "b4624311",
   "metadata": {},
   "source": [
    "### Note su comprehension \n",
    "la forma più utilizzata/semplice è la seguente:\n",
    "[funzione(n) for n in range(50)]\n",
    "in alcuni casi la lista deve essere popolata di elementi che non sono in funzione della variabile sulla quale si itera (n). Ad esempio se ho bisogno di chiamare una funzione che restituisce un valore random (e quindi ad ogni chiamata mi aspetto un valore randomico possibilmente diverso dagli altri). In questo caso la sintassi della comprehension sarebbe simile alla seguente:\n",
    "\n",
    "[funzione_random(x,y, ...) for n in range(50)]\n",
    "\n",
    "Molto spesso, gli sviluppatori python utilizzano in questo caso il simbolo underscore (_) per indicare la variabile su cui si itera. Il motivo è che non avrebbe senso dare un nome significativo a tale variabile.\n",
    "\n",
    "[funzione_random(x,y, ...) for _ in range(50)]"
   ]
  },
  {
   "cell_type": "code",
   "execution_count": null,
   "id": "673f3dbc",
   "metadata": {},
   "outputs": [],
   "source": [
    "s=[random.gauss(1,1) for _ in range(10)]\n",
    "print(s)"
   ]
  },
  {
   "cell_type": "code",
   "execution_count": null,
   "id": "38340035",
   "metadata": {},
   "outputs": [],
   "source": [
    "random.choice(s) #se vogliamo scegliere un valore random tra quelli di s, choise prende un oggetto iterabile e prende a caso uno degli oggetti della collezione"
   ]
  },
  {
   "cell_type": "markdown",
   "id": "365f0a06",
   "metadata": {},
   "source": [
    "# If- Else\n",
    "Uso della keyword \"if\":\n",
    "\n",
    "(keyword) if (espressione condizionale) x>10 (due punti):\n",
    "il contenuto del blocco sottostante viene eseguito solo nel caso in cui l'espressione condizionale viene valutata \"True\".\n",
    "\n",
    "Uso della keyword \"elif\":\n",
    "segue un blocco \"if\" o \"elif\" e permette di dichiarare una nuova diramazione del flusso. \n",
    "\n",
    "(keyword) elif (espressione condizionale) x>10 (due punti):\n",
    "\n",
    "Viene eseguita nel caso in cui il blocco if precedente NON venga eseguito e l'espressione condizionale sia valutata \"True\"\n",
    "\n",
    "Uso della keyword \"else\":\n",
    "segue un blocco \"if\" o \"elif\" e permette di dichiarare una diramazione del flusso da eseguire se il blocco o i blocchi che lo precedono NON sono stati eseguiti.\n",
    "\n",
    "(keyword) else (due punti): "
   ]
  },
  {
   "cell_type": "code",
   "execution_count": null,
   "id": "72424efc",
   "metadata": {
    "scrolled": true
   },
   "outputs": [],
   "source": [
    "n=random.randrange(3,8) #compresi tutti e due gli estremi!!\n",
    "if n <5:\n",
    "    print(n)                       #un blocco è delimitato dall'indentazione\n",
    "    print(\"numero random basso\")   #un blocco può contenere più istruzioni\n",
    "elif n>6: #elif= else if\n",
    "    print(\"numero random alto\")\n",
    "else:\n",
    "    print(\"numero random medio\")\n",
    "#n ogni volta cambierà e quindi anche il valore restituito\n",
    "#notiamo l'indentazione che è molto importante in python"
   ]
  },
  {
   "cell_type": "markdown",
   "id": "5ba4b9ae",
   "metadata": {},
   "source": [
    "if(condizione da verificare){esegui questo} non va bene, bisogna andare a capo e fare indentazione: caratteristica sintassi python\n",
    "il blocco è eseguito solo se la condizione dello statement è vera: il blocco è ciò che è indentato. "
   ]
  },
  {
   "cell_type": "code",
   "execution_count": null,
   "id": "3b5e6516",
   "metadata": {},
   "outputs": [],
   "source": [
    "#Alcuni operatori di comparazione:\n",
    "10<2\n",
    "10<=2\n",
    "2>1\n",
    "2>=3\n",
    "1== 1\n",
    "1!=2 #qui ci dà True o False dell'ultimo comando\n",
    "    "
   ]
  },
  {
   "cell_type": "markdown",
   "id": "cb4522a0",
   "metadata": {},
   "source": [
    "## I Cicli \n",
    "### Istruzione For\n",
    "il 'for' permette di eseguire più volte lo stesso blocco di istruzioni consecutivamente.\n",
    "\n",
    "(keyword) for (espressione iterativa) n in range(10) (due punti):\n",
    "da qui parte il blocco e partono le istruzioni."
   ]
  },
  {
   "cell_type": "code",
   "execution_count": null,
   "id": "117c4d26",
   "metadata": {},
   "outputs": [],
   "source": [
    "#iterazione su stringhe\n",
    "for lettera in 'ciao': #anche le stringhe sono iterabili\n",
    "    print(lettera)\n",
    "    \n",
    " #iterazione su range\n",
    "for numero in range(3, 20, 5):\n",
    "    print(numero)\n",
    "\n",
    "#iterazione su liste\n",
    "for elemento in [n**2 for n in range(10)]: #anche per le list comprehension\n",
    "    print(elemento)\n",
    "    \n",
    "#iterazione su set\n",
    "for el_set in {n*3 for n in range(4)}: \n",
    "    print(el_set)\n",
    "    \n",
    "#nel caso in cui la variabile su cui si itera non è importante nel ciclo si usa (_)\n",
    "#se voglio stampare per cinque volta la stringa 'ciao':\n",
    "for _ in range(5):\n",
    "    print('ciao')\n",
    "    \n",
    "#i cicli si possono combinare con le espressioni condizionali\n",
    "for n in range(10):\n",
    "    if n%2== 0:\n",
    "        print('ciao')\n",
    "    else:\n",
    "        print('arrivederci')"
   ]
  },
  {
   "cell_type": "code",
   "execution_count": null,
   "id": "1d67868d",
   "metadata": {},
   "outputs": [],
   "source": [
    "d={\n",
    "    \"Roma\": \"IT\",\n",
    "    \"Barcelona\": \"ES\",\n",
    "    \"Dublin\": \"IE\"\n",
    "}\n",
    "\n",
    "print(d)\n",
    "#iterazione su dizionario\n",
    "d.keys() #sono le chiavi\n",
    "\n",
    "#possiamo iterare il dizionario sulle proprie keys:\n",
    "for k in d.keys():\n",
    "    print('chiave:', k, 'value', d[k]) #vediamo come ci basta 'lavorare' sulla chiave e così troviamo anche il valore\n",
    "\n",
    "d.values() #sono i valori\n",
    "print(d.items()) #una lista di coppie chiave valore\n",
    "\n",
    "#i DIZIONARI NON SONO ITERABILI (a differenza di list, set, string, range, ...)!\n",
    "#BISOGNO CHIAMARE ITEMS! la funzione items() ritorna un oggetto iterabile che rappresenta il dizionario\n",
    "\n",
    "for k,v in d.items():\n",
    "    print('chiave:',k, 'valore:', v)"
   ]
  },
  {
   "cell_type": "markdown",
   "id": "d1dc549d",
   "metadata": {},
   "source": [
    "## Unpacking\n",
    "\n",
    "in un cliclo for (o comprehension) è possibile gestire collezioni di collezioni. Se tutti gli elementi della collezione principale hanno medesima dimensionalità $d$ è possibile riferirsi ad essi con $d$ nomi di variabile"
   ]
  },
  {
   "cell_type": "code",
   "execution_count": null,
   "id": "fe4a24e8",
   "metadata": {},
   "outputs": [],
   "source": [
    "#altri casi per lavorare con variabili e con il for\n",
    "[(1,-1),(2,-2), (3,-3)] #lista che contiene delle tuple e ogni tupla ha una coppia di valori\n",
    "\n",
    "for elemento in [(1,-1), (2,-2), (3,-3)]:\n",
    "    print (elemento)\n",
    "\n",
    "for e1, e2 in [(1,-1),(2,-2), (3,-3)]:\n",
    "    print(e1,e2)\n",
    "    \n",
    "for x, y, z in [(1,-1,0),(2,-2,0), (3,-3,0)]:\n",
    "    print(x,y,z)\n",
    "    \n",
    "for x, y, z in [[1,-1,0], [2,-2,0], [3,-3,0]]:\n",
    "    print(x,y,z)\n",
    "    \n",
    "for x, y, z in [{1,-1,0}, {2,-2,0}, {3,-3,0}]:\n",
    "    print(x,y,z) #qui vedremo che non c'è un ordine preferenziale"
   ]
  },
  {
   "cell_type": "markdown",
   "id": "229b4811",
   "metadata": {},
   "source": [
    "Data una lista di oggetti (lista quindi ordinata) (libri, matite, etc,...) sotto forma di stringhe, stampare tutti gli oggetti tranne quello di indice 2"
   ]
  },
  {
   "cell_type": "code",
   "execution_count": null,
   "id": "f1147986",
   "metadata": {},
   "outputs": [],
   "source": [
    "l=['libro', 'matita', 'penna', 'gomma']\n",
    "for el in l:\n",
    "    if el != l[2]:\n",
    "        print(el)\n",
    "    "
   ]
  },
  {
   "cell_type": "markdown",
   "id": "8fa05e95",
   "metadata": {},
   "source": [
    "Si osserva che non si può operare sull'indice direttamente.\n",
    "\n",
    "Se vogliamo fare in modo che se un elemento è== a 'penna' non stampiamo l'elemento di indice successivo a quello di 'penna'\n"
   ]
  },
  {
   "cell_type": "code",
   "execution_count": null,
   "id": "42cd810d",
   "metadata": {},
   "outputs": [],
   "source": [
    "l=['libro', 'matita', 'penna', 'gomma']\n",
    "idx_esc = None #indice da escludere, non ci interessa quel'è l'indice\n",
    "for i in range(len(l)): #così abbiamo gli indici\n",
    "    if l[i]=='penna':\n",
    "        idx_esc=i+1\n",
    "    if i== idx_esc:\n",
    "        pass\n",
    "    else:\n",
    "        print(l[i])"
   ]
  },
  {
   "cell_type": "markdown",
   "id": "62927f89",
   "metadata": {},
   "source": [
    "## La funzione zip\n",
    "permette di associare ogni elemento di una lista con il corrispettivo (in ordine) di un'altra lista. Funziona anche con più di una lista."
   ]
  },
  {
   "cell_type": "code",
   "execution_count": null,
   "id": "b0f9f698",
   "metadata": {},
   "outputs": [],
   "source": [
    "l1=[0,1,2]\n",
    "l2=['a','b','c']\n",
    "l3=[['a0'],['b1'],['c2']]\n",
    "print(list(zip(l1,l2,l3)))\n",
    "\n",
    "#esempio più significativo:\n",
    "nomi=['Anna', 'Mario', 'Elena', 'Francesco']\n",
    "cognomi=['Rossi', 'Bianchi','Verdi', 'Gialli']\n",
    "mail=['a@gft.com', 'm@gft.com', 'e@gft.com', 'f@gft.com']\n",
    "\n",
    "#voglio stamprare con una buona formattazione le colonne del mio DB\n",
    "\n",
    "for n, c, m in zip(nomi, cognomi, mail):\n",
    "    print( 'nome utente: ' +n+ ''+c+', email: '+ m)\n",
    "    print( 'nome utente:', n, c, 'email:', m)\n",
    "    #noto che in questo caso non devo usare la lista per zip"
   ]
  },
  {
   "cell_type": "code",
   "execution_count": null,
   "id": "a462d9ab",
   "metadata": {},
   "outputs": [],
   "source": [
    "ll=zip([i for i in range (len(ll))],ll)"
   ]
  },
  {
   "cell_type": "markdown",
   "id": "47493f1d",
   "metadata": {},
   "source": [
    "ci da la posione in memoria 0x ci dice che è esagesimale.\n",
    "altra funzione di zip: lo zip prende due liste e le associa. Le liste devono essere di dimensione uguale "
   ]
  },
  {
   "cell_type": "code",
   "execution_count": null,
   "id": "4118fe8d",
   "metadata": {},
   "outputs": [],
   "source": [
    "l=['libro', 'matita', 'penna', 'gomma']\n",
    "list(zip([i for i in range (len(l))],l))"
   ]
  },
  {
   "cell_type": "code",
   "execution_count": null,
   "id": "6d1a8cc2",
   "metadata": {},
   "outputs": [],
   "source": [
    "idx_esco = None\n",
    "for i, el in zip(range (len(l)),l):\n",
    "    if el== 'penna':\n",
    "        idx_esc= i+1\n",
    "    if i!= idx_esc:\n",
    "        print(el)"
   ]
  },
  {
   "cell_type": "code",
   "execution_count": null,
   "id": "e2a9c24c",
   "metadata": {},
   "outputs": [],
   "source": [
    "#prendiamo due liste della stessa dimensione\n",
    "indici=[0,1,2,3] #questa anche con una list comprension [n for n in range(4)], oppure list(range(4))\n",
    "lista=['ciao','come','va','?']\n",
    "\n",
    "print(list(zip(indici, lista))) # se stampo senza list viene una cosa brutta, ma con list fa capire come si associa uno ad uno tra due liste che devono avere la stessa lunghezza\n",
    "#se non hanno la stessa lunghezza si zippa finchè si può: non cambia niente\n",
    "listadue=['ciao','come','va']\n",
    "print(list(zip(indici, listadue))) \n"
   ]
  },
  {
   "cell_type": "code",
   "execution_count": null,
   "id": "b1d4ca5e",
   "metadata": {},
   "outputs": [],
   "source": [
    "# per una generica lista \"lista\" possiamo calcolare una lista dei suoi indici\n",
    "list(range(len(lista))) # questa è la lista degli indici\n",
    "lista # è l'elemento, quindi possiamo zippare queste due cose\n",
    "print(list(range(len(lista))),lista)\n",
    "print(list(zip(list(range(len(lista))),lista)))"
   ]
  },
  {
   "cell_type": "markdown",
   "id": "19b8a75a",
   "metadata": {},
   "source": [
    "Non tutti gli oggetti sono codificati per essere printati. Python ha degli oggetti con delle stringhe rappresentative (?)"
   ]
  },
  {
   "cell_type": "markdown",
   "id": "b24fd355",
   "metadata": {},
   "source": [
    "# La funzione 'enumerate()'\n",
    "\n",
    "è una funzione di built-in. è usata per creare un oggetto iterabile composto da coppie dormate da indice- valore.\n",
    "enumerate(x) (con x lista generica) corrisponde all'uso di zip(range(len(x)),x). "
   ]
  },
  {
   "cell_type": "code",
   "execution_count": null,
   "id": "09e504a7",
   "metadata": {},
   "outputs": [],
   "source": [
    "list(enumerate(lista)) #mettiamo l'enumerate in una lista per vederlo"
   ]
  },
  {
   "cell_type": "code",
   "execution_count": null,
   "id": "7fdd2af8",
   "metadata": {},
   "outputs": [],
   "source": [
    "idx_esco = None\n",
    "for i, el in enumerate(l):\n",
    "    if el== 'penna':\n",
    "        idx_esc= i+1\n",
    "    if i!= idx_esc:\n",
    "        print(el)"
   ]
  },
  {
   "cell_type": "markdown",
   "id": "9aede9db",
   "metadata": {},
   "source": [
    "### La rappresentazione degli oggetti python sotto forma di stringa\n",
    "\n",
    "è possibile definire un modo per rappresentare un oggetto in python sotto forma di stringa."
   ]
  },
  {
   "cell_type": "code",
   "execution_count": null,
   "id": "f5fe8a0a",
   "metadata": {},
   "outputs": [],
   "source": [
    "dir({'a':'b'})\n",
    "d={'a':'b','c':'d'} #creato dizionario\n",
    "#scrivo una rutine per creare una stringa che rappresenti un generico dizionario\n",
    "s='{'\n",
    "for k,v in d.items():\n",
    "    s+=\"'\" + k + \"'\"+\":\"+\"'\"+ v +\"'\"+\",\"\n",
    "s+='}'\n",
    "print(s)\n",
    "print(d)\n",
    "#sto partendo da un dizionario per creare una stringa "
   ]
  },
  {
   "cell_type": "markdown",
   "id": "bc30fc24",
   "metadata": {},
   "source": [
    "Eseguire il comando print(qualcosa) significa stampare la rappresentazione stringa di quel qualcosa. La rappresentazione in stringa è contenuta in un metodo chiamato _ _str_ _ (sono due underscoore per lato)"
   ]
  },
  {
   "cell_type": "code",
   "execution_count": null,
   "id": "44fe39a0",
   "metadata": {},
   "outputs": [],
   "source": [
    "d.__str__() #rappresentazione in stringa di un dizionario "
   ]
  },
  {
   "cell_type": "code",
   "execution_count": null,
   "id": "1a7c003e",
   "metadata": {},
   "outputs": [],
   "source": [
    "z= zip(range(4), list(range(4)))\n",
    "z.__str__() #ti dice nome dell'oggetto e qual è l'indirizzo di memoria in cui l'oggetto è salvato."
   ]
  },
  {
   "cell_type": "markdown",
   "id": "2c56e47d",
   "metadata": {},
   "source": [
    "## L'istruzione while\n",
    "(keyword) while (espressione condizionale) n<10 (due punti):\n",
    "fintanto che l'espressione condizionale è True viene eseguito il blocco"
   ]
  },
  {
   "cell_type": "code",
   "execution_count": null,
   "id": "a9f71a34",
   "metadata": {},
   "outputs": [],
   "source": [
    "n=1\n",
    "while n<= 10:\n",
    "    print(n)\n",
    "    n+= 1"
   ]
  },
  {
   "cell_type": "markdown",
   "id": "7700995e",
   "metadata": {},
   "source": [
    "## Challenge\n",
    "\n",
    "1. Dato un intero n > 2 , ritornare una lista contenente i soli numeri pari di una serie di fibonacci con condizione di stop 'ultimo elemento<=n'."
   ]
  },
  {
   "cell_type": "code",
   "execution_count": null,
   "id": "805baa7d",
   "metadata": {},
   "outputs": [],
   "source": [
    "n= 5\n",
    "temp= 2 #indice della lista\n",
    "lista=[0,1]\n",
    "\n",
    "while lista[-1]< n:\n",
    "   lista.append(lista[temp-1]+ lista[temp-2])\n",
    "   temp +=1\n",
    "    \n",
    "lista_pari=[]\n",
    "for el in lista:\n",
    "    if el%2== 0:\n",
    "        lista_pari.append(el)\n",
    "print(lista_pari)\n",
    "\n",
    "#fatta con la list compr:\n",
    "[n for n in lista if n%2==0]"
   ]
  },
  {
   "cell_type": "markdown",
   "id": "b30e9fcd",
   "metadata": {},
   "source": [
    "## Controllo del flusso (istruzioni)\n",
    "\n",
    "Può succedere che in un ciclo serva uscire prima da certe operazioni:\n",
    "break #interrompe bruscamente un ciclo\n",
    "continue"
   ]
  },
  {
   "cell_type": "code",
   "execution_count": null,
   "id": "a1d6ee56",
   "metadata": {},
   "outputs": [],
   "source": [
    "n=1\n",
    "while n<10:\n",
    "    if n%7 == 0:\n",
    "        print ('uscita forzata')\n",
    "        break\n",
    "    print(n)\n",
    "    n += 1"
   ]
  },
  {
   "cell_type": "code",
   "execution_count": null,
   "id": "2e0c8d8a",
   "metadata": {},
   "outputs": [],
   "source": [
    "n=1\n",
    "while n<10:\n",
    "    if n%7 == 0:\n",
    "        print ('skip forzato')\n",
    "        n += 1\n",
    "        continue\n",
    "    print(n)\n",
    "    n+= 1"
   ]
  },
  {
   "cell_type": "code",
   "execution_count": null,
   "id": "9e3e19f5",
   "metadata": {},
   "outputs": [],
   "source": [
    "\n"
   ]
  },
  {
   "cell_type": "code",
   "execution_count": null,
   "id": "5978079e",
   "metadata": {},
   "outputs": [],
   "source": []
  },
  {
   "cell_type": "markdown",
   "id": "06e795d9",
   "metadata": {},
   "source": [
    "## Le funzioni \n",
    "Le funzioni definiscono blocchi di istruzioni che possono essere riusati"
   ]
  },
  {
   "cell_type": "code",
   "execution_count": null,
   "id": "8d6244a1",
   "metadata": {},
   "outputs": [],
   "source": [
    "#dato un numero, ritorna il quadrato del numero\n",
    "def quadrato(n):\n",
    "    return n**2\n",
    "#le funzioni possono prendere in ingresso più valori e restituire più valori\n",
    "#ritorna l'indice (e il valore) della prima doppia presente nella stringa s\n",
    "#tutto--> 2,t\n",
    "\n",
    "def indice_della_doppia(s):\n",
    "    for i, v in enumerate(s):\n",
    "        try:\n",
    "            if v==s[i+1]:\n",
    "                return i,v\n",
    "        except:\n",
    "            print('Non ci sono doppie')\n",
    "indice_della_doppia('tutto')"
   ]
  },
  {
   "cell_type": "markdown",
   "id": "31e18c95",
   "metadata": {},
   "source": [
    "Scrivere una funzione che data una stringa s ritorni una lista che contiene tutti gli indici e valori delle doppie in s. Se le stringa non contiente doppie ritorna una lista vuota  \n",
    "indice_della_doppia('tutto')---> [(t,2)]"
   ]
  },
  {
   "cell_type": "code",
   "execution_count": null,
   "id": "4faf99e2",
   "metadata": {},
   "outputs": [],
   "source": [
    "def trova_doppie(stringa):\n",
    "    doppie=[]\n",
    "    for i, v in enumerate(stringa):\n",
    "        try:\n",
    "            if v==stringa[i+1]:\n",
    "                doppie.append((v,i))\n",
    "        except:\n",
    "            print('analisi su stringa conclusa')   \n",
    "    return doppie\n"
   ]
  },
  {
   "cell_type": "code",
   "execution_count": null,
   "id": "039af7e0",
   "metadata": {},
   "outputs": [],
   "source": [
    "st= 'cappuccetto'\n",
    "doppie_trovate= trova_doppie(st)\n",
    "doppie_trovate"
   ]
  },
  {
   "cell_type": "code",
   "execution_count": null,
   "id": "2b5c053e",
   "metadata": {},
   "outputs": [],
   "source": [
    "#altro modo alternativo all'append\n",
    "l=[(1,2), (2,3)]\n",
    "l += [(4,5)]\n",
    "print(l)"
   ]
  },
  {
   "cell_type": "markdown",
   "id": "08bbbbaf",
   "metadata": {},
   "source": [
    "3.a. scrivere una funzione is_primo(n)--> ritorna True o False dipendentemente dal fatto che n sia primo o meno.\n",
    "\n",
    "3.b. scrivere una funzione twin_prime(n1,n2) che ritorna True o False se n1, n2 sono 'primi gemelli'\n",
    "\n",
    "4. dato un intero n, ritornare una lista di tuple che contengono la fattorizzazione di n"
   ]
  },
  {
   "cell_type": "code",
   "execution_count": null,
   "id": "34216bb9",
   "metadata": {},
   "outputs": [],
   "source": [
    "def is_primo(n):\n",
    "    i=2\n",
    "    if n == 1 or n==2:\n",
    "        return True\n",
    "    while i < n :\n",
    "        if n % i == 0:\n",
    "            return False\n",
    "            i+=1\n",
    "        else:\n",
    "            return True"
   ]
  },
  {
   "cell_type": "code",
   "execution_count": 12,
   "id": "668bf781",
   "metadata": {},
   "outputs": [],
   "source": [
    "# altro modo:\n",
    "def is_primoaltro(n):\n",
    "    return [x for x in range(2,n) if n%x==0]==[]"
   ]
  },
  {
   "cell_type": "code",
   "execution_count": null,
   "id": "22f27561",
   "metadata": {},
   "outputs": [],
   "source": [
    "def twin_prime(n,m):\n",
    "    if is_primo(n) == False or is_primo(m) == False:\n",
    "        return False\n",
    "    else:\n",
    "        if abs(n-m)==2:\n",
    "            return True\n",
    "        else:\n",
    "            return False"
   ]
  },
  {
   "cell_type": "code",
   "execution_count": null,
   "id": "f1409e8d",
   "metadata": {},
   "outputs": [],
   "source": [
    "def genera_primi(n):  \n",
    "    return [x for x in range(2,n) if is_primo(x)]"
   ]
  },
  {
   "cell_type": "code",
   "execution_count": null,
   "id": "c1b6644c",
   "metadata": {},
   "outputs": [],
   "source": [
    "def fattori(n):\n",
    "    fattori=genera_primi(n)  \n",
    "    if is_primo(n):\n",
    "        return (n,1)\n",
    "    res=[]  \n",
    "    resto=n\n",
    "    for f in fattori:  \n",
    "        temp=[f,0]\n",
    "        while resto%f==0:\n",
    "            resto=resto/f\n",
    "            temp=[f,temp[1]+1]\n",
    "        if temp[1]!=0:\n",
    "            res.append(temp)   \n",
    "    return res"
   ]
  },
  {
   "cell_type": "code",
   "execution_count": 8,
   "id": "03c5e050",
   "metadata": {},
   "outputs": [],
   "source": [
    "def genera_primidue(n):\n",
    "    return[x for x in range(2,n) if is_primo(x)]"
   ]
  },
  {
   "cell_type": "code",
   "execution_count": 13,
   "id": "3b3cda4b",
   "metadata": {},
   "outputs": [
    {
     "data": {
      "text/plain": [
       "[(2, True),\n",
       " (3, True),\n",
       " (4, False),\n",
       " (5, True),\n",
       " (6, False),\n",
       " (7, True),\n",
       " (8, False),\n",
       " (9, False),\n",
       " (10, False),\n",
       " (11, True),\n",
       " (12, False)]"
      ]
     },
     "execution_count": 13,
     "metadata": {},
     "output_type": "execute_result"
    }
   ],
   "source": [
    "# per tutti i numeri da 2 a n vorrei una lista [(2,True), (3, True),...]\n",
    "def calc_primes(n):\n",
    "    return [(x, is_primoaltro(x)) for x in range(2,n)]\n",
    "calc_primes(13)"
   ]
  },
  {
   "cell_type": "code",
   "execution_count": null,
   "id": "347c52ba",
   "metadata": {},
   "outputs": [],
   "source": [
    "#[    \n",
    "#    funz(x)\n",
    "#    for x in qualcosa\n",
    "#    if x condizione\n",
    "#]"
   ]
  },
  {
   "cell_type": "code",
   "execution_count": 15,
   "id": "9072cdf2",
   "metadata": {},
   "outputs": [
    {
     "data": {
      "text/plain": [
       "<function matplotlib.pyplot.show(close=None, block=None)>"
      ]
     },
     "execution_count": 15,
     "metadata": {},
     "output_type": "execute_result"
    },
    {
     "data": {
      "image/png": "[encoded data removed]",
      "text/plain": [
       "<Figure size 640x480 with 1 Axes>"
      ]
     },
     "metadata": {},
     "output_type": "display_data"
    }
   ],
   "source": [
    "plt.scatter(range(2), [v for v, p in calc_primes(3)]) #io voglio solo il primo valoredi calc.. quindi vado a unpacking\n",
    "plt.show()\n",
    "# il range è 0 e1,\n"
   ]
  },
  {
   "cell_type": "code",
   "execution_count": 20,
   "id": "36eab45d",
   "metadata": {},
   "outputs": [
    {
     "ename": "ValueError",
     "evalue": "x and y must be the same size",
     "output_type": "error",
     "traceback": [
      "\u001b[1;31m---------------------------------------------------------------------------\u001b[0m",
      "\u001b[1;31mValueError\u001b[0m                                Traceback (most recent call last)",
      "Cell \u001b[1;32mIn [20], line 11\u001b[0m\n\u001b[0;32m      8\u001b[0m         \u001b[38;5;28mprint\u001b[39m(el[\u001b[38;5;241m0\u001b[39m])\n\u001b[0;32m      9\u001b[0m     plt\u001b[38;5;241m.\u001b[39mshow()\n\u001b[1;32m---> 11\u001b[0m \u001b[43mscatter_primes\u001b[49m\u001b[43m(\u001b[49m\u001b[38;5;241;43m10\u001b[39;49m\u001b[43m)\u001b[49m\n",
      "Cell \u001b[1;32mIn [20], line 2\u001b[0m, in \u001b[0;36mscatter_primes\u001b[1;34m(n)\u001b[0m\n\u001b[0;32m      1\u001b[0m \u001b[38;5;28;01mdef\u001b[39;00m \u001b[38;5;21mscatter_primes\u001b[39m(n):\n\u001b[1;32m----> 2\u001b[0m     \u001b[43mplt\u001b[49m\u001b[38;5;241;43m.\u001b[39;49m\u001b[43mscatter\u001b[49m\u001b[43m(\u001b[49m\u001b[38;5;28;43mrange\u001b[39;49m\u001b[43m(\u001b[49m\u001b[38;5;241;43m5\u001b[39;49m\u001b[43m)\u001b[49m\u001b[43m,\u001b[49m\u001b[43m \u001b[49m\u001b[43m[\u001b[49m\u001b[43mv\u001b[49m\u001b[43m \u001b[49m\u001b[38;5;28;43;01mfor\u001b[39;49;00m\u001b[43m \u001b[49m\u001b[43mv\u001b[49m\u001b[43m,\u001b[49m\u001b[43m \u001b[49m\u001b[43mp\u001b[49m\u001b[43m \u001b[49m\u001b[38;5;129;43;01min\u001b[39;49;00m\u001b[43m \u001b[49m\u001b[43mcalc_primes\u001b[49m\u001b[43m(\u001b[49m\u001b[38;5;241;43m5\u001b[39;49m\u001b[43m)\u001b[49m\u001b[43m]\u001b[49m\u001b[43m)\u001b[49m\n\u001b[0;32m      3\u001b[0m     \u001b[38;5;28;01mfor\u001b[39;00m x, el \u001b[38;5;129;01min\u001b[39;00m \u001b[38;5;28menumerate\u001b[39m(calc_primes(n)):\n\u001b[0;32m      4\u001b[0m         \u001b[38;5;28;01mif\u001b[39;00m el[\u001b[38;5;241m1\u001b[39m]:\n",
      "File \u001b[1;32m~\\AppData\\Local\\Packages\\PythonSoftwareFoundation.Python.3.10_qbz5n2kfra8p0\\LocalCache\\local-packages\\Python310\\site-packages\\matplotlib\\pyplot.py:2778\u001b[0m, in \u001b[0;36mscatter\u001b[1;34m(x, y, s, c, marker, cmap, norm, vmin, vmax, alpha, linewidths, edgecolors, plotnonfinite, data, **kwargs)\u001b[0m\n\u001b[0;32m   2773\u001b[0m \u001b[38;5;129m@_copy_docstring_and_deprecators\u001b[39m(Axes\u001b[38;5;241m.\u001b[39mscatter)\n\u001b[0;32m   2774\u001b[0m \u001b[38;5;28;01mdef\u001b[39;00m \u001b[38;5;21mscatter\u001b[39m(\n\u001b[0;32m   2775\u001b[0m         x, y, s\u001b[38;5;241m=\u001b[39m\u001b[38;5;28;01mNone\u001b[39;00m, c\u001b[38;5;241m=\u001b[39m\u001b[38;5;28;01mNone\u001b[39;00m, marker\u001b[38;5;241m=\u001b[39m\u001b[38;5;28;01mNone\u001b[39;00m, cmap\u001b[38;5;241m=\u001b[39m\u001b[38;5;28;01mNone\u001b[39;00m, norm\u001b[38;5;241m=\u001b[39m\u001b[38;5;28;01mNone\u001b[39;00m,\n\u001b[0;32m   2776\u001b[0m         vmin\u001b[38;5;241m=\u001b[39m\u001b[38;5;28;01mNone\u001b[39;00m, vmax\u001b[38;5;241m=\u001b[39m\u001b[38;5;28;01mNone\u001b[39;00m, alpha\u001b[38;5;241m=\u001b[39m\u001b[38;5;28;01mNone\u001b[39;00m, linewidths\u001b[38;5;241m=\u001b[39m\u001b[38;5;28;01mNone\u001b[39;00m, \u001b[38;5;241m*\u001b[39m,\n\u001b[0;32m   2777\u001b[0m         edgecolors\u001b[38;5;241m=\u001b[39m\u001b[38;5;28;01mNone\u001b[39;00m, plotnonfinite\u001b[38;5;241m=\u001b[39m\u001b[38;5;28;01mFalse\u001b[39;00m, data\u001b[38;5;241m=\u001b[39m\u001b[38;5;28;01mNone\u001b[39;00m, \u001b[38;5;241m*\u001b[39m\u001b[38;5;241m*\u001b[39mkwargs):\n\u001b[1;32m-> 2778\u001b[0m     __ret \u001b[38;5;241m=\u001b[39m gca()\u001b[38;5;241m.\u001b[39mscatter(\n\u001b[0;32m   2779\u001b[0m         x, y, s\u001b[38;5;241m=\u001b[39ms, c\u001b[38;5;241m=\u001b[39mc, marker\u001b[38;5;241m=\u001b[39mmarker, cmap\u001b[38;5;241m=\u001b[39mcmap, norm\u001b[38;5;241m=\u001b[39mnorm,\n\u001b[0;32m   2780\u001b[0m         vmin\u001b[38;5;241m=\u001b[39mvmin, vmax\u001b[38;5;241m=\u001b[39mvmax, alpha\u001b[38;5;241m=\u001b[39malpha, linewidths\u001b[38;5;241m=\u001b[39mlinewidths,\n\u001b[0;32m   2781\u001b[0m         edgecolors\u001b[38;5;241m=\u001b[39medgecolors, plotnonfinite\u001b[38;5;241m=\u001b[39mplotnonfinite,\n\u001b[0;32m   2782\u001b[0m         \u001b[38;5;241m*\u001b[39m\u001b[38;5;241m*\u001b[39m({\u001b[38;5;124m\"\u001b[39m\u001b[38;5;124mdata\u001b[39m\u001b[38;5;124m\"\u001b[39m: data} \u001b[38;5;28;01mif\u001b[39;00m data \u001b[38;5;129;01mis\u001b[39;00m \u001b[38;5;129;01mnot\u001b[39;00m \u001b[38;5;28;01mNone\u001b[39;00m \u001b[38;5;28;01melse\u001b[39;00m {}), \u001b[38;5;241m*\u001b[39m\u001b[38;5;241m*\u001b[39mkwargs)\n\u001b[0;32m   2783\u001b[0m     sci(__ret)\n\u001b[0;32m   2784\u001b[0m     \u001b[38;5;28;01mreturn\u001b[39;00m __ret\n",
      "File \u001b[1;32m~\\AppData\\Local\\Packages\\PythonSoftwareFoundation.Python.3.10_qbz5n2kfra8p0\\LocalCache\\local-packages\\Python310\\site-packages\\matplotlib\\__init__.py:1423\u001b[0m, in \u001b[0;36m_preprocess_data.<locals>.inner\u001b[1;34m(ax, data, *args, **kwargs)\u001b[0m\n\u001b[0;32m   1420\u001b[0m \u001b[38;5;129m@functools\u001b[39m\u001b[38;5;241m.\u001b[39mwraps(func)\n\u001b[0;32m   1421\u001b[0m \u001b[38;5;28;01mdef\u001b[39;00m \u001b[38;5;21minner\u001b[39m(ax, \u001b[38;5;241m*\u001b[39margs, data\u001b[38;5;241m=\u001b[39m\u001b[38;5;28;01mNone\u001b[39;00m, \u001b[38;5;241m*\u001b[39m\u001b[38;5;241m*\u001b[39mkwargs):\n\u001b[0;32m   1422\u001b[0m     \u001b[38;5;28;01mif\u001b[39;00m data \u001b[38;5;129;01mis\u001b[39;00m \u001b[38;5;28;01mNone\u001b[39;00m:\n\u001b[1;32m-> 1423\u001b[0m         \u001b[38;5;28;01mreturn\u001b[39;00m func(ax, \u001b[38;5;241m*\u001b[39m\u001b[38;5;28mmap\u001b[39m(sanitize_sequence, args), \u001b[38;5;241m*\u001b[39m\u001b[38;5;241m*\u001b[39mkwargs)\n\u001b[0;32m   1425\u001b[0m     bound \u001b[38;5;241m=\u001b[39m new_sig\u001b[38;5;241m.\u001b[39mbind(ax, \u001b[38;5;241m*\u001b[39margs, \u001b[38;5;241m*\u001b[39m\u001b[38;5;241m*\u001b[39mkwargs)\n\u001b[0;32m   1426\u001b[0m     auto_label \u001b[38;5;241m=\u001b[39m (bound\u001b[38;5;241m.\u001b[39marguments\u001b[38;5;241m.\u001b[39mget(label_namer)\n\u001b[0;32m   1427\u001b[0m                   \u001b[38;5;129;01mor\u001b[39;00m bound\u001b[38;5;241m.\u001b[39mkwargs\u001b[38;5;241m.\u001b[39mget(label_namer))\n",
      "File \u001b[1;32m~\\AppData\\Local\\Packages\\PythonSoftwareFoundation.Python.3.10_qbz5n2kfra8p0\\LocalCache\\local-packages\\Python310\\site-packages\\matplotlib\\axes\\_axes.py:4512\u001b[0m, in \u001b[0;36mAxes.scatter\u001b[1;34m(self, x, y, s, c, marker, cmap, norm, vmin, vmax, alpha, linewidths, edgecolors, plotnonfinite, **kwargs)\u001b[0m\n\u001b[0;32m   4510\u001b[0m y \u001b[38;5;241m=\u001b[39m np\u001b[38;5;241m.\u001b[39mma\u001b[38;5;241m.\u001b[39mravel(y)\n\u001b[0;32m   4511\u001b[0m \u001b[38;5;28;01mif\u001b[39;00m x\u001b[38;5;241m.\u001b[39msize \u001b[38;5;241m!=\u001b[39m y\u001b[38;5;241m.\u001b[39msize:\n\u001b[1;32m-> 4512\u001b[0m     \u001b[38;5;28;01mraise\u001b[39;00m \u001b[38;5;167;01mValueError\u001b[39;00m(\u001b[38;5;124m\"\u001b[39m\u001b[38;5;124mx and y must be the same size\u001b[39m\u001b[38;5;124m\"\u001b[39m)\n\u001b[0;32m   4514\u001b[0m \u001b[38;5;28;01mif\u001b[39;00m s \u001b[38;5;129;01mis\u001b[39;00m \u001b[38;5;28;01mNone\u001b[39;00m:\n\u001b[0;32m   4515\u001b[0m     s \u001b[38;5;241m=\u001b[39m (\u001b[38;5;241m20\u001b[39m \u001b[38;5;28;01mif\u001b[39;00m mpl\u001b[38;5;241m.\u001b[39mrcParams[\u001b[38;5;124m'\u001b[39m\u001b[38;5;124m_internal.classic_mode\u001b[39m\u001b[38;5;124m'\u001b[39m] \u001b[38;5;28;01melse\u001b[39;00m\n\u001b[0;32m   4516\u001b[0m          mpl\u001b[38;5;241m.\u001b[39mrcParams[\u001b[38;5;124m'\u001b[39m\u001b[38;5;124mlines.markersize\u001b[39m\u001b[38;5;124m'\u001b[39m] \u001b[38;5;241m*\u001b[39m\u001b[38;5;241m*\u001b[39m \u001b[38;5;241m2.0\u001b[39m)\n",
      "\u001b[1;31mValueError\u001b[0m: x and y must be the same size"
     ]
    },
    {
     "data": {
      "image/png": "[encoded data removed]",
      "text/plain": [
       "<Figure size 640x480 with 1 Axes>"
      ]
     },
     "metadata": {},
     "output_type": "display_data"
    }
   ],
   "source": [
    "def scatter_primes(n):\n",
    "    plt.scatter(range(5), [v for v, p in calc_primes(5)])\n",
    "    for x, el in enumerate(calc_primes(n)):\n",
    "        if el[1]:\n",
    "            plt.scatter(x,el[0], color='red')\n",
    "        else:\n",
    "            plt.scatter(x,el[0], color='blue')\n",
    "        print(el[0])\n",
    "    plt.show()\n",
    "        \n",
    "scatter_primes(20)"
   ]
  },
  {
   "cell_type": "code",
   "execution_count": null,
   "id": "6cc1d772",
   "metadata": {},
   "outputs": [],
   "source": []
  }
 ],
 "metadata": {
  "kernelspec": {
   "display_name": "Python 3 (ipykernel)",
   "language": "python",
   "name": "python3"
  },
  "language_info": {
   "codemirror_mode": {
    "name": "ipython",
    "version": 3
   },
   "file_extension": ".py",
   "mimetype": "text/x-python",
   "name": "python",
   "nbconvert_exporter": "python",
   "pygments_lexer": "ipython3",
   "version": "3.10.7"
  }
 },
 "nbformat": 4,
 "nbformat_minor": 5
}
