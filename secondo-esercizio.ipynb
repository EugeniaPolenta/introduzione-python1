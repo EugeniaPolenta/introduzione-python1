{
 "cells": [
  {
   "cell_type": "markdown",
   "id": "31369529",
   "metadata": {},
   "source": [
    "# Strutture dati"
   ]
  },
  {
   "cell_type": "markdown",
   "id": "774218d0",
   "metadata": {},
   "source": [
    "In molti casi è necessario conservare in una sola variabile un insieme di elementi, in questo caso si possono usare strutture di dati come le LISTE"
   ]
  },
  {
   "cell_type": "code",
   "execution_count": 1,
   "id": "598f694d",
   "metadata": {},
   "outputs": [],
   "source": [
    "elenco=[1,3,5,7,9,1.5,-4.8,'ciao']"
   ]
  },
  {
   "cell_type": "markdown",
   "id": "ea64f143",
   "metadata": {},
   "source": [
    "Le liste possono contenere oggetti appartenenti a diversi tipi di dato, come es interi e stringhe o addirittura altre liste. Per accedere ad uno degli elementi della lista possiamo usare il cosiddetto \"indice della lista\" indicato come numero racchiuso nelle parentesi quadre che segue il nome della variabile"
   ]
  },
  {
   "cell_type": "code",
   "execution_count": 2,
   "id": "e3a3a539",
   "metadata": {},
   "outputs": [
    {
     "name": "stdout",
     "output_type": "stream",
     "text": [
      "3\n"
     ]
    }
   ],
   "source": [
    "print(elenco[1])"
   ]
  },
  {
   "cell_type": "markdown",
   "id": "dc6154f5",
   "metadata": {},
   "source": [
    "L'indice parte sempre da 0. Se metto un indice più grande del num degli elementi della lista -1, ottengo errore di index out of bound/range (index error)."
   ]
  },
  {
   "cell_type": "code",
   "execution_count": 3,
   "id": "e421ffed",
   "metadata": {},
   "outputs": [
    {
     "name": "stdout",
     "output_type": "stream",
     "text": [
      "index fuori dai valori consentiti\n"
     ]
    }
   ],
   "source": [
    "try:\n",
    "    print(elenco[20])\n",
    "except:\n",
    "    print('index fuori dai valori consentiti')"
   ]
  },
  {
   "cell_type": "markdown",
   "id": "f73b3e94",
   "metadata": {},
   "source": [
    "In molti casi è utile sapere il numero di elementi di una lista. Ciò si può ottenere con la funzione build in len()"
   ]
  },
  {
   "cell_type": "code",
   "execution_count": 4,
   "id": "4e40ec2b",
   "metadata": {},
   "outputs": [
    {
     "data": {
      "text/plain": [
       "8"
      ]
     },
     "execution_count": 4,
     "metadata": {},
     "output_type": "execute_result"
    }
   ],
   "source": [
    "len(elenco)"
   ]
  },
  {
   "cell_type": "code",
   "execution_count": 5,
   "id": "e350bf0b",
   "metadata": {},
   "outputs": [
    {
     "name": "stdout",
     "output_type": "stream",
     "text": [
      "ciao\n",
      "ciao\n"
     ]
    }
   ],
   "source": [
    "print(elenco[len(elenco)-1])\n",
    "print(elenco[-1])"
   ]
  },
  {
   "cell_type": "markdown",
   "id": "34d2eadf",
   "metadata": {},
   "source": [
    "è possibile ottenere sottoliste (sublist) utilizzando l'operatore: all'interno delle parentesi quadre. Il primo limite è inclusivo il secondo è esclusivo"
   ]
  },
  {
   "cell_type": "code",
   "execution_count": 6,
   "id": "fb225f6f",
   "metadata": {},
   "outputs": [
    {
     "name": "stdout",
     "output_type": "stream",
     "text": [
      "[1, 3, 5]\n",
      "[1, 3, 5]\n",
      "[7, 9, 1.5, -4.8, 'ciao']\n",
      "[1, 3, 7, 9, 1.5, -4.8, 'ciao']\n"
     ]
    }
   ],
   "source": [
    "print(elenco[0:3])\n",
    "print(elenco[:3])\n",
    "print(elenco[3:])\n",
    "n=2\n",
    "print(elenco[0:n]+elenco[n+1:])"
   ]
  },
  {
   "cell_type": "markdown",
   "id": "38afcd6d",
   "metadata": {},
   "source": [
    "Quando manipoliamo una lista al fine di creare una sottolista usando l'operatore \":\" stiamo creando una nuova lista che è indipendente dalla lista originale, non stiamo modificando la lista originale. Siccome l'operatore \":\" crea sempre una nuova copia della lista, il modo più veloce di copiare una lista in python è il seguente"
   ]
  },
  {
   "cell_type": "code",
   "execution_count": 7,
   "id": "e653397a",
   "metadata": {},
   "outputs": [],
   "source": [
    "elenco_copia=elenco [:]"
   ]
  },
  {
   "cell_type": "markdown",
   "id": "ae905a92",
   "metadata": {},
   "source": [
    "Inoltre è possibile definire una lista vuota"
   ]
  },
  {
   "cell_type": "code",
   "execution_count": 8,
   "id": "48552994",
   "metadata": {},
   "outputs": [],
   "source": [
    "vuota=[]"
   ]
  },
  {
   "cell_type": "markdown",
   "id": "97b98c22",
   "metadata": {},
   "source": [
    "e possiamo utilizzare delle funzioni per inserire in una lista un determinato elemento, concatenare le liste e fare: \n",
    "append,\n",
    "insert (inserisce un nuovo elemento: prende tra le tonde la posizione e cosa inserire),\n",
    "pop (elimina l'ultimo elemento e lo ritorno),\n",
    "remove (rimuove elementi),\n",
    "reverse (inverte l'ordine della lista),\n",
    "sort (riordina la lista, ma se ci sono tipi diversi nella lista non può farlo perchè non posso ordinare numeri e stringhe),\n",
    "index (ti dice in che posizione è un certo elemento)\n",
    "extend (fa una concatenazione, come il +, di elenchi)"
   ]
  },
  {
   "cell_type": "code",
   "execution_count": 9,
   "id": "ab3acd91",
   "metadata": {},
   "outputs": [
    {
     "name": "stdout",
     "output_type": "stream",
     "text": [
      "[1, 3, 5, 'python', 7, 9, 1.5, -4.8, 'ciao']\n",
      "[1, 3, 5, 'python', 7, 9, 1.5, -4.8, 'ciao', 1, 2, 3]\n",
      "[1, 3, 5, 'python', 7, 9, 1.5, -4.8, 1, 2, 3]\n",
      "[1, 3, 5, 'python', 7, 9, 1.5, -4.8, 1, 2]\n",
      "6\n",
      "['ciao', -4.8, 1.5, 9, 7, 5, 3, 1]\n",
      "qualcosa è andato storto\n",
      "[1, 3, 5, 7, 9, 1.5, -4.8, 1, 2]\n",
      "[-4.8, 1, 1, 1.5, 2, 3, 5, 7, 9]\n"
     ]
    }
   ],
   "source": [
    "elenco.insert(3,'python')\n",
    "print(elenco)\n",
    "elenco.extend([1,2,3])\n",
    "print(elenco)\n",
    "elenco.remove('ciao')\n",
    "print(elenco)\n",
    "elenco.pop()\n",
    "print(elenco)\n",
    "print(elenco.index(1.5))\n",
    "elenco_copia.reverse()\n",
    "print(elenco_copia)\n",
    "try:\n",
    "    elenco.sort()\n",
    "except:\n",
    "    print('qualcosa è andato storto')\n",
    "elenco.remove('python')\n",
    "print (elenco)\n",
    "elenco.sort()\n",
    "print (elenco)"
   ]
  },
  {
   "cell_type": "markdown",
   "id": "25f97e27",
   "metadata": {},
   "source": [
    "In pyt è definito un ordine naturale di stringhe e numeri, non è facile ordinare una lista di liste. Per farlo: funzione comparetor "
   ]
  },
  {
   "cell_type": "markdown",
   "id": "722fd804",
   "metadata": {},
   "source": [
    "Utilizzo di range e funzioni di buil in combinate:"
   ]
  },
  {
   "cell_type": "code",
   "execution_count": 10,
   "id": "c0172fa4",
   "metadata": {},
   "outputs": [
    {
     "data": {
      "text/plain": [
       "[0, 1, 2, 3, 4, 5, 6, 7, 8, 9]"
      ]
     },
     "execution_count": 10,
     "metadata": {},
     "output_type": "execute_result"
    }
   ],
   "source": [
    "list(range(10))"
   ]
  },
  {
   "cell_type": "markdown",
   "id": "579527a7",
   "metadata": {},
   "source": [
    "per avere la lista di indici di elenco faccio print() della seguente cosa:"
   ]
  },
  {
   "cell_type": "code",
   "execution_count": 11,
   "id": "8036086b",
   "metadata": {},
   "outputs": [
    {
     "data": {
      "text/plain": [
       "[0, 1, 2, 3, 4, 5, 6, 7, 8]"
      ]
     },
     "execution_count": 11,
     "metadata": {},
     "output_type": "execute_result"
    }
   ],
   "source": [
    "list(range(len(elenco)))"
   ]
  },
  {
   "cell_type": "code",
   "execution_count": 12,
   "id": "370bc9c0",
   "metadata": {},
   "outputs": [
    {
     "data": {
      "text/plain": [
       "36"
      ]
     },
     "execution_count": 12,
     "metadata": {},
     "output_type": "execute_result"
    }
   ],
   "source": [
    "sum(list(range(len(elenco))))"
   ]
  },
  {
   "cell_type": "markdown",
   "id": "f26ae4b7",
   "metadata": {},
   "source": [
    "Attenzione, è importante convertirlo in una lista, perchè se faccio direttamente print di range di 10 si ha:"
   ]
  },
  {
   "cell_type": "code",
   "execution_count": 13,
   "id": "2f8a7bb7",
   "metadata": {},
   "outputs": [
    {
     "name": "stdout",
     "output_type": "stream",
     "text": [
      "range(0, 10)\n"
     ]
    }
   ],
   "source": [
    "print(range(10))"
   ]
  },
  {
   "cell_type": "markdown",
   "id": "5d773af8",
   "metadata": {},
   "source": [
    "vediamo una lista da 10 a 21 e una lista da 10 a 21 saltando di 3:"
   ]
  },
  {
   "cell_type": "code",
   "execution_count": 14,
   "id": "6db46976",
   "metadata": {},
   "outputs": [
    {
     "name": "stdout",
     "output_type": "stream",
     "text": [
      "[10, 11, 12, 13, 14, 15, 16, 17, 18, 19, 20]\n",
      "[10, 13, 16, 19]\n"
     ]
    }
   ],
   "source": [
    "print(list(range(10,21)))\n",
    "print(list(range(10,21,3)))"
   ]
  },
  {
   "cell_type": "markdown",
   "id": "e675fc88",
   "metadata": {},
   "source": [
    "list comprehension: sintassi per creare liste in maniera veloce ed efficiente.\n",
    "Facciamo un esempio per capire cosa sono, come filtrare \n",
    "Se abbiamo per esempio una lista contenente numeri e vogliamo ottenere una lista con gli stessi numeri ma elevata al quadrata "
   ]
  },
  {
   "cell_type": "code",
   "execution_count": 16,
   "id": "8c4e9c14",
   "metadata": {},
   "outputs": [
    {
     "name": "stdout",
     "output_type": "stream",
     "text": [
      "[1, 4, 9, 16, 25]\n"
     ]
    }
   ],
   "source": [
    "numeri=[1,2,3,4,5]\n",
    "quadrati=[n**2 for n in numeri]\n",
    "print(quadrati)"
   ]
  },
  {
   "cell_type": "code",
   "execution_count": 17,
   "id": "ca3c1104",
   "metadata": {},
   "outputs": [
    {
     "name": "stdout",
     "output_type": "stream",
     "text": [
      "[2, 4]\n"
     ]
    }
   ],
   "source": [
    "filtro_pari=[n for n in numeri if n%2==0]\n",
    "print(filtro_pari)"
   ]
  },
  {
   "cell_type": "markdown",
   "id": "b244a7f0",
   "metadata": {},
   "source": [
    "creiamo una matrice 5 per 5 di uni"
   ]
  },
  {
   "cell_type": "code",
   "execution_count": 18,
   "id": "7b734b24",
   "metadata": {},
   "outputs": [
    {
     "name": "stdout",
     "output_type": "stream",
     "text": [
      "[1, 1, 1, 1, 1]\n",
      "[1, 1, 1, 1, 1]\n",
      "[1, 1, 1, 1, 1]\n",
      "[1, 1, 1, 1, 1]\n",
      "[1, 1, 1, 1, 1]\n"
     ]
    }
   ],
   "source": [
    "matrice=[[1 for x in range(5)] for x in range(5)]\n",
    "for riga in matrice:\n",
    "    print(riga)"
   ]
  },
  {
   "cell_type": "markdown",
   "id": "d433549f",
   "metadata": {},
   "source": [
    "prima task:\n",
    "\n",
    "salvare la dimensione della matrice in una variabile \"n\" e generare matrici di dimensione diversa a seconda del valore di n"
   ]
  },
  {
   "cell_type": "code",
   "execution_count": 31,
   "id": "0e95b2c6",
   "metadata": {},
   "outputs": [
    {
     "name": "stdout",
     "output_type": "stream",
     "text": [
      "[1, 1]\n",
      "[1, 1]\n"
     ]
    }
   ],
   "source": [
    "n= len(matrice)\n",
    "matrice_n=[[1 for x in range(n)] for x in range(n)]\n",
    "for riga in matrice_n:\n",
    "    print(riga)"
   ]
  },
  {
   "cell_type": "markdown",
   "id": "5dee48b3",
   "metadata": {},
   "source": [
    "seconda task:\n",
    "\n",
    "trasformare il codice facendo in modo di produrre la matrice identità di dimensione n (tutti zeri, tranne che sulla diagonale principale)"
   ]
  },
  {
   "cell_type": "code",
   "execution_count": 30,
   "id": "e4d6aaf6",
   "metadata": {},
   "outputs": [
    {
     "name": "stdout",
     "output_type": "stream",
     "text": [
      "[1, 1]\n",
      "[1, 1]\n"
     ]
    }
   ],
   "source": [
    "matrice_id=[[1 if x==y else 0] for x in range(n) for y in range(n)]\n",
    "for riga in matrice:\n",
    "    print(riga)"
   ]
  },
  {
   "cell_type": "code",
   "execution_count": null,
   "id": "dcda7763",
   "metadata": {},
   "outputs": [],
   "source": []
  }
 ],
 "metadata": {
  "kernelspec": {
   "display_name": "Python 3 (ipykernel)",
   "language": "python",
   "name": "python3"
  },
  "language_info": {
   "codemirror_mode": {
    "name": "ipython",
    "version": 3
   },
   "file_extension": ".py",
   "mimetype": "text/x-python",
   "name": "python",
   "nbconvert_exporter": "python",
   "pygments_lexer": "ipython3",
   "version": "3.10.7"
  }
 },
 "nbformat": 4,
 "nbformat_minor": 5
}
