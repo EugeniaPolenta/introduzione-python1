{
 "cells": [
  {
   "cell_type": "code",
   "execution_count": null,
   "id": "68429f3d",
   "metadata": {},
   "outputs": [],
   "source": [
    "#Data una stringa, ritornare una lista delle sole NON vocali (consonanti, simboli) più frequenti\n",
    "#“aaabbbcccdd” -> [b, c]"
   ]
  },
  {
   "cell_type": "code",
   "execution_count": 43,
   "id": "0f2cb5f6",
   "metadata": {},
   "outputs": [],
   "source": [
    "vocali=['a','e','i','o','u']\n",
    "lista='aaabbbcccdd'\n",
    "l=[]\n",
    "s=[]\n",
    "def cons_freq(i):\n",
    "    for i in lista:\n",
    "        if i not in vocali:\n",
    "            l.append(i)\n",
    "    for i, lettera in enumerate(l[:-1]):\n",
    "        if lettera[i]==lettera[i+1]: #and lettera==lettera[i-1]:\n",
    "            s.append(lettera)\n",
    "    return s"
   ]
  },
  {
   "cell_type": "code",
   "execution_count": 44,
   "id": "da4fb4a6",
   "metadata": {},
   "outputs": [],
   "source": [
    "#data una lista di stringhe, creare (con dict comprehension) un dizionario che abbia come key la stringa \n",
    "#e come value le vocali più frequenti nella stringa\n",
    "lista_str=['ciao','a','b']\n",
    "a=[]\n",
    "b=[]\n",
    "def vacal_freq(i):\n",
    "    for i in lista_str:\n",
    "        if i in vocali:\n",
    "            a.append(i)\n",
    "    for i, lettera in enumerate(a[:-2]):\n",
    "        if lettera[i]==lettera[i+1] and lettera==lettera[i+2]:\n",
    "            b.append(lettera)\n",
    "    return(b)\n",
    "\n",
    "z=vacal_freq(lista_str)\n",
    "\n",
    "#dict = {k:v for k,v in l,z}"
   ]
  },
  {
   "cell_type": "code",
   "execution_count": null,
   "id": "04501d85",
   "metadata": {},
   "outputs": [],
   "source": []
  },
  {
   "cell_type": "code",
   "execution_count": null,
   "id": "7ef8b1b4",
   "metadata": {},
   "outputs": [],
   "source": []
  },
  {
   "cell_type": "code",
   "execution_count": null,
   "id": "a55b5b90",
   "metadata": {},
   "outputs": [],
   "source": [
    "def vacal_freq(i):\n",
    "    if i in vocali:\n",
    "            l.append(i)\n",
    "    for i, lettera in enumerate(l[:-2]):\n",
    "        if l[i]==l[i+1] and l==l[i+2]:\n",
    "            s.append(lettera)\n",
    "    return s\n",
    "\n",
    "z=vacal_freq(lista_str)\n",
    "\n",
    "dict = {[k for k in l]: [v for v in z]}"
   ]
  },
  {
   "cell_type": "code",
   "execution_count": null,
   "id": "c751872f",
   "metadata": {},
   "outputs": [],
   "source": [
    "#dati due interi, trovare minimo comune multiplo, massimo comun divisore (back to skuola media)"
   ]
  },
  {
   "cell_type": "code",
   "execution_count": null,
   "id": "f9de841b",
   "metadata": {},
   "outputs": [],
   "source": [
    "import collection"
   ]
  },
  {
   "cell_type": "code",
   "execution_count": null,
   "id": "b7bbea1b",
   "metadata": {},
   "outputs": [],
   "source": [
    "s='aaaaabbbccccdd'\n",
    "\n",
    "vocali={'a','e','i','o','u'}\n",
    "\n",
    "consonanti=[]\n",
    "for i in s:\n",
    "    if i not in vocali:\n",
    "        consonanti.append(i)\n",
    "        \n",
    "cons_str=''.join(consonanti)\n",
    "results= collections.Counter(cons_str)\n",
    "\n",
    "for lettera, ripetizioni in results.most_common():\n",
    "    if ripetizioni> max_seq:\n",
    "        max_seq=ripetizioni\n",
    "        \n",
    "lista_risultato=[]\n",
    "[lista_risultato.append(x)\n",
    "    for x, num in results.most_common()\n",
    "    if num== max_seq\n",
    "]\n",
    "\n",
    "print(lista_risultato)\n"
   ]
  }
 ],
 "metadata": {
  "kernelspec": {
   "display_name": "Python 3 (ipykernel)",
   "language": "python",
   "name": "python3"
  },
  "language_info": {
   "codemirror_mode": {
    "name": "ipython",
    "version": 3
   },
   "file_extension": ".py",
   "mimetype": "text/x-python",
   "name": "python",
   "nbconvert_exporter": "python",
   "pygments_lexer": "ipython3",
   "version": "3.10.7"
  }
 },
 "nbformat": 4,
 "nbformat_minor": 5
}
