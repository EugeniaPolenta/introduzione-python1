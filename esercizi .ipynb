{
 "cells": [
  {
   "cell_type": "code",
   "execution_count": 1,
   "id": "6b60435d",
   "metadata": {},
   "outputs": [
    {
     "name": "stdout",
     "output_type": "stream",
     "text": [
      "numero di doppie trovato: 1\n"
     ]
    }
   ],
   "source": [
    "#data una stringa “s” contare il numero di doppie presenti:\n",
    "#ES.\n",
    "#s = “aeiou” -> 0\n",
    "#s = “tutto” -> 1\n",
    "#s = “ttatt” -> 2\n",
    "s='tutto'\n",
    "dop = sum([1 for i in range(len(s)-1) if s[i]==s[i+1]])\n",
    "print('numero di doppie trovato:', dop)"
   ]
  },
  {
   "cell_type": "code",
   "execution_count": 21,
   "id": "cba7284b",
   "metadata": {},
   "outputs": [
    {
     "name": "stdout",
     "output_type": "stream",
     "text": [
      "2\n"
     ]
    }
   ],
   "source": [
    "s='ttatt'\n",
    "cont=0\n",
    "for i, lettera in enumerate(s[:-1]):\n",
    "    if lettera==s[i+1]:\n",
    "        cont=cont+1 #in modo uguale si può scrivere cont += 1\n",
    "print(cont)"
   ]
  },
  {
   "cell_type": "code",
   "execution_count": 1,
   "id": "9f6851f2",
   "metadata": {},
   "outputs": [
    {
     "name": "stdout",
     "output_type": "stream",
     "text": [
      "2\n"
     ]
    }
   ],
   "source": [
    "l='ttatt'\n",
    "conta=0\n",
    "for i,_ in enumerate(l[:-1]):\n",
    "    if l[i]== l[i+1]:\n",
    "        conta += 1\n",
    "        \n",
    "print(conta)"
   ]
  },
  {
   "cell_type": "code",
   "execution_count": 24,
   "id": "c8629888",
   "metadata": {},
   "outputs": [
    {
     "name": "stdout",
     "output_type": "stream",
     "text": [
      "{'cane': 'domestico', 'gatto': 'domestico', 'leopardo': 'selvatico', 'zebra': 'selvatico'}\n",
      "dict_keys(['cane', 'gatto', 'leopardo', 'zebra'])\n",
      "{'domestico': ['cane', 'gatto'], 'selvatico': ['leopardo', 'zebra']}\n"
     ]
    }
   ],
   "source": [
    "#Creare un dizionario con le seguenti entries:\n",
    "\n",
    "#“cane”: “domestico”\n",
    "#“gatto”: “domestico”\n",
    "#“leopardo”: “selvatico”\n",
    "#“zebra”:selvatico”\n",
    "\n",
    "\n",
    "d=dict()\n",
    "d[\"cane\"]=\"domestico\"\n",
    "d[\"gatto\"]=\"domestico\"\n",
    "d[\"leopardo\"]=\"selvatico\"\n",
    "d[\"zebra\"]=\"selvatico\"\n",
    "\n",
    "#altro modo per farlo\n",
    "dict_traccia = {'cane': 'domestico',\n",
    "'gatto': 'domestico',\n",
    "'leopardo': 'selvatico',\n",
    "'zebra': 'selvatico'}\n",
    "\n",
    "print(d)\n",
    "print(d.keys())\n",
    "\n",
    "#creare una struttura che rovescia il dizionario e che risulti in un nuovo dizionario con i seguenti elementi:\n",
    "\n",
    "#“domestico”: [“cane”, “gatto”]\n",
    "#“selvatico”: [“leopardo”, “zebra”]\n",
    "d_inv= dict()\n",
    "\n",
    "\n",
    "for k, v in d.items():\n",
    "    if v not in d_inv:\n",
    "      d_inv[v]= [k]\n",
    "    else:\n",
    "      d_inv[v].append(k)\n",
    "print(d_inv)\n",
    "#in questo modo non sovrascrivo valori \n"
   ]
  },
  {
   "cell_type": "code",
   "execution_count": null,
   "id": "b83bf513",
   "metadata": {},
   "outputs": [],
   "source": [
    "#Dato l’elenco città sotto forma di dizionario uguale a quello che abbiamo visto nell’esercizio:\n",
    "#elenco_citta = dict()\n",
    "\n",
    "#Utilizza come identificativo la chiave per salvare il valore\n",
    "#elenco_citta['Roma'] = 'Francia'\n",
    "\n",
    "#Sovrascrivendo il valore corrispondente ad una chiave esistente verrà effettuata la sostituzione\n",
    "#elenco_citta['Roma'] = 'Italia'\n",
    "#elenco_citta['Napoli'] = 'Italia'\n",
    "#elenco_citta['Barcelona'] = 'Spagna'\n",
    "#print(elenco_citta)\n",
    "\n",
    "#creare una lista dei soli nomi dei PAESI corrispondenti alle città che contengono la lettera “R” \n",
    "#sia minuscola che maiuscola in modo tale che le lettere dei paesi siano invertite e che la prima lettera del paese sia maiuscola (mentre tutte le altre minuscole).\n",
    "\n",
    "#R è in Roma ed in Barcelona\n",
    "#lista dei paesi [Italia, Spagna]\n",
    "#invertiamo le stringhe\n",
    "#[ailatI, angapS]\n",
    "#mettiamo a posto i caratteri maiuscoli e minuscoli come richiesto\n",
    "#[Ailati, Angaps]\n"
   ]
  },
  {
   "cell_type": "code",
   "execution_count": 25,
   "id": "5bf6cf6e",
   "metadata": {},
   "outputs": [
    {
     "name": "stdout",
     "output_type": "stream",
     "text": [
      "['Ailati', 'Angaps']\n"
     ]
    }
   ],
   "source": [
    "elenco_citta={'Roma':'Italia',\n",
    "             'Barcellona':'Spagna',\n",
    "             'Napoli':'Italia'\n",
    "             }\n",
    "\n",
    "lista=[] #inizializzo la lista\n",
    "for c, p in elenco_citta.items():\n",
    "    if 'r' in c.lower():\n",
    "        p= p.lower()\n",
    "        v=p[::-1] #così gli dico che vado dalla prima all'ultima ma al contrario\n",
    "        v= v.capitalize()\n",
    "        lista.append(v)\n",
    "print(lista)"
   ]
  },
  {
   "cell_type": "code",
   "execution_count": null,
   "id": "0cfa1ab5",
   "metadata": {},
   "outputs": [],
   "source": []
  }
 ],
 "metadata": {
  "kernelspec": {
   "display_name": "Python 3 (ipykernel)",
   "language": "python",
   "name": "python3"
  },
  "language_info": {
   "codemirror_mode": {
    "name": "ipython",
    "version": 3
   },
   "file_extension": ".py",
   "mimetype": "text/x-python",
   "name": "python",
   "nbconvert_exporter": "python",
   "pygments_lexer": "ipython3",
   "version": "3.10.7"
  }
 },
 "nbformat": 4,
 "nbformat_minor": 5
}
